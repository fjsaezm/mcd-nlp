{
 "cells": [
  {
   "cell_type": "code",
   "execution_count": 1,
   "id": "b7a19d25",
   "metadata": {},
   "outputs": [],
   "source": [
    "import json\n",
    "import csv\n",
    "import nltk\n",
    "import pandas as pd\n",
    "from collections import defaultdict\n",
    "import copy\n",
    "import itertools\n",
    "import matplotlib.pyplot as plt\n",
    "import numpy as np\n",
    "from pprint import pprint # For nice printing\n",
    "import warnings\n",
    "warnings.filterwarnings('ignore')\n",
    "\n",
    "# NLK dependencies\n",
    "# nltk.download('wordnet')\n",
    "# nltk.download('omw-1.4')\n",
    "# nltk.download('punkt')\n",
    "# nltk.download('opinion_lexicon')\n",
    "# nltk.download('sentiwordnet')\n",
    "# nltk.download('averaged_perceptron_tagger')\n",
    "# nltk.download('tagsets')\n",
    "\n",
    "# Assignment 2\n",
    "from nltk.corpus import wordnet as wn\n",
    "from nltk import word_tokenize\n",
    "\n",
    "# Assignment 3\n",
    "from nltk.corpus import opinion_lexicon\n",
    "from nltk.corpus import sentiwordnet as swn\n",
    "\n",
    "# Assignment 4\n",
    "import re"
   ]
  },
  {
   "cell_type": "markdown",
   "id": "1166aa33",
   "metadata": {},
   "source": [
    "# Assignment 1\n",
    "\n",
    "### Task 1.1 \n",
    "**Loading all the hotel reviews from the Yelp hotel reviews file.**\n",
    "\n",
    "### Task 1.2 (optional) \n",
    "\n",
    "**Loading line by line the reviews from the Yelp beauty/spa resorts and restaurants reviews files.**\n",
    "\n",
    "### Task 1.3 (optional) \n",
    "\n",
    "**Loading line by line reviews on other domains (e.g., movies, books, phones, digital music, CDs and videogames) from McAuley’s Amazon dataset.**\n",
    "\n",
    "We tackle all of these tasks at the same time since a general enough functions solves all of them directly. The function `load_json_line_by_line()` reads a json file line by line and returns the dataset built.\n",
    "\n",
    "We additionally created a test function that tests the loading of all the described datasets. We have selected the Amazon cell phones and accessories dataset because it is big enough without being huge and we also have the required aspects for it (see tasks 2.1 to 2.3)."
   ]
  },
  {
   "cell_type": "code",
   "execution_count": 2,
   "id": "3b66b516",
   "metadata": {},
   "outputs": [
    {
     "name": "stdout",
     "output_type": "stream",
     "text": [
      "Reading file inputs/yelp_dataset/yelp_hotels.json\n",
      "\n",
      "5034 reviews loaded\n",
      "\n",
      "Example review: {'reviewerID': 'qLCpuCWCyPb4G2vN-WZz-Q', 'asin': '8ZwO9VuLDWJOXmtAdc7LXQ', 'summary': 'summary', 'reviewText': \"Great hotel in Central Phoenix for a stay-cation, but not necessarily a place to stay out of town and without a car. Not much around the area, and unless you're familiar with downtown, I would rather have a guest stay in Old Town Scottsdale, etc. BUT if you do stay here, it's awesome. Great boutique rooms. Awesome pool that's happening in the summer. A GREAT rooftop patio bar, and a very very busy lobby with Gallo Blanco attached. A great place to stay, but have a car!\", 'overall': 4.0}\n",
      "\n",
      "Reading file inputs/yelp_dataset/yelp_beauty_spas.json\n",
      "\n",
      "5579 reviews loaded\n",
      "\n",
      "Example review: {'reviewerID': 'Xm8HXE1JHqscXe5BKf0GFQ', 'asin': 'WGNIYMeXPyoWav1APUq7jA', 'summary': 'summary', 'reviewText': \"Good tattoo shop. Clean space, multiple artists to choose from and books of their work are available for you to look though and decide who's style most mirrors what you're looking for. I chose Jet to do a cover-up for me and he worked with me on the design and our ideas and communication flowed very well. He's a very personable guy, is friendly and keeps the conversation going while he's working on you, and he doesn't dick around (read: He starts to work and continues until the job is done). He's very professional and informative. Good customer service combines with talent at the craft.\", 'overall': 4.0}\n",
      "\n",
      "Reading file inputs/yelp_dataset/yelp_restaurants.json\n",
      "\n",
      "158430 reviews loaded\n",
      "\n",
      "Example review: {'reviewerID': 'rLtl8ZkDX5vH5nAx9C3q5Q', 'asin': '9yKzy9PApeiPPOUJEtnvkg', 'summary': 'summary', 'reviewText': 'My wife took me here on my birthday for breakfast and it was excellent. The weather was perfect which made sitting outside overlooking their grounds an absolute pleasure. Our waitress was excellent and our food arrived quickly on the semi-busy Saturday morning. It looked like the place fills up pretty quickly so the earlier you get here the better.Do yourself a favor and get their Bloody Mary. It was phenomenal and simply the best I\\'ve ever had. I\\'m pretty sure they only use ingredients from their garden and blend them fresh when you order it. It was amazing.While EVERYTHING on the menu looks excellent, I had the white truffle scrambled eggs vegetable skillet and it was tasty and delicious. It came with 2 pieces of their griddled bread with was amazing and it absolutely made the meal complete. It was the best \"toast\" I\\'ve ever had.Anyway, I can\\'t wait to go back!', 'overall': 5.0}\n",
      "\n",
      "Reading file inputs/amazon/Cell_Phones_and_Accessories_5.json\n",
      "\n",
      "194439 reviews loaded\n",
      "\n",
      "Example review: {'reviewerID': 'A30TL5EWN6DFXT', 'asin': '120401325X', 'reviewerName': 'christina', 'helpful': [0, 0], 'reviewText': \"They look good and stick good! I just don't like the rounded shape because I was always bumping it and Siri kept popping up and it was irritating. I just won't buy a product like this again\", 'overall': 4.0, 'summary': 'Looks Good', 'unixReviewTime': 1400630400, 'reviewTime': '05 21, 2014'}\n",
      "\n"
     ]
    }
   ],
   "source": [
    "hotels_path = 'inputs/yelp_dataset/yelp_hotels.json'\n",
    "\n",
    "\n",
    "def load_json_line_by_line(path):\n",
    "    reviews = []\n",
    "    with open(path, encoding='utf-8') as file:\n",
    "        for line in file:\n",
    "            # If line ends with a coma, remove it.\n",
    "            if len(line) > 2:\n",
    "                line = line[:-2] if line[-2] == ',' else line[:-1]\n",
    "                reviews.append(json.loads(line))\n",
    "    return reviews\n",
    "\n",
    "\n",
    "def test_load_json_line_by_line():\n",
    "    paths = [\n",
    "        'inputs/yelp_dataset/yelp_hotels.json',\n",
    "        'inputs/yelp_dataset/yelp_beauty_spas.json',\n",
    "        'inputs/yelp_dataset/yelp_restaurants.json',\n",
    "        'inputs/amazon/Cell_Phones_and_Accessories_5.json'\n",
    "    ]\n",
    "\n",
    "    for path in paths:\n",
    "        print('Reading file {}\\n'.format(path))\n",
    "        reviews = load_json_line_by_line(path)\n",
    "        print('{} reviews loaded\\n'.format(len(reviews)))\n",
    "        print('Example review: {}\\n'.format(reviews[0]))\n",
    "\n",
    "\n",
    "test_load_json_line_by_line()"
   ]
  },
  {
   "cell_type": "markdown",
   "id": "67c01a26",
   "metadata": {},
   "source": [
    "# Assignment 2\n",
    "\n",
    "### Task 2.1\n",
    "\n",
    "**Loading (and printing on screen) the vocabulary of the `aspects_hotels.csv` file, and directly using it to identify aspect references in the reviews. In particular, the aspects terms could be mapped by exact matching with nouns appearing in the reviews.**\n",
    "\n",
    "We will compute a dictionary that matches a certain aspect to every word related to it. It will usually be called `aspect_words_dict`. This will optimize knowing which aspect is related to each word.\n",
    "\n",
    "The function `build_simple_vocab` creates this dictionary given a path to the file with the initial vocabulary. We introduce it in a dataframe (used only with displayability purposes) and we display the result."
   ]
  },
  {
   "cell_type": "code",
   "execution_count": 3,
   "id": "ff06369e",
   "metadata": {
    "scrolled": true
   },
   "outputs": [
    {
     "data": {
      "text/html": [
       "<div>\n",
       "<style scoped>\n",
       "    .dataframe tbody tr th:only-of-type {\n",
       "        vertical-align: middle;\n",
       "    }\n",
       "\n",
       "    .dataframe tbody tr th {\n",
       "        vertical-align: top;\n",
       "    }\n",
       "\n",
       "    .dataframe thead th {\n",
       "        text-align: right;\n",
       "    }\n",
       "</style>\n",
       "<table border=\"1\" class=\"dataframe\">\n",
       "  <thead>\n",
       "    <tr style=\"text-align: right;\">\n",
       "      <th></th>\n",
       "      <th>0</th>\n",
       "    </tr>\n",
       "  </thead>\n",
       "  <tbody>\n",
       "    <tr>\n",
       "      <th>amenity</th>\n",
       "      <td>amenities</td>\n",
       "    </tr>\n",
       "    <tr>\n",
       "      <th>amenities</th>\n",
       "      <td>amenities</td>\n",
       "    </tr>\n",
       "    <tr>\n",
       "      <th>services</th>\n",
       "      <td>amenities</td>\n",
       "    </tr>\n",
       "    <tr>\n",
       "      <th>atmosphere</th>\n",
       "      <td>atmosphere</td>\n",
       "    </tr>\n",
       "    <tr>\n",
       "      <th>atmospheres</th>\n",
       "      <td>atmosphere</td>\n",
       "    </tr>\n",
       "    <tr>\n",
       "      <th>ambiance</th>\n",
       "      <td>atmosphere</td>\n",
       "    </tr>\n",
       "    <tr>\n",
       "      <th>ambiances</th>\n",
       "      <td>atmosphere</td>\n",
       "    </tr>\n",
       "    <tr>\n",
       "      <th>light</th>\n",
       "      <td>atmosphere</td>\n",
       "    </tr>\n",
       "    <tr>\n",
       "      <th>lighting</th>\n",
       "      <td>atmosphere</td>\n",
       "    </tr>\n",
       "    <tr>\n",
       "      <th>lights</th>\n",
       "      <td>atmosphere</td>\n",
       "    </tr>\n",
       "  </tbody>\n",
       "</table>\n",
       "</div>"
      ],
      "text/plain": [
       "                      0\n",
       "amenity       amenities\n",
       "amenities     amenities\n",
       "services      amenities\n",
       "atmosphere   atmosphere\n",
       "atmospheres  atmosphere\n",
       "ambiance     atmosphere\n",
       "ambiances    atmosphere\n",
       "light        atmosphere\n",
       "lighting     atmosphere\n",
       "lights       atmosphere"
      ]
     },
     "execution_count": 3,
     "metadata": {},
     "output_type": "execute_result"
    }
   ],
   "source": [
    "aspect_hotels_path = 'inputs/aspects/aspects_hotels.csv'\n",
    "\n",
    "\n",
    "def load_vocab(path):\n",
    "    \"\"\"\n",
    "    Loads the vocabulary from a given csv\n",
    "    \"\"\"\n",
    "    vocab = pd.read_csv(path, names=['aspect', 'word'])\n",
    "    return vocab.groupby('aspect')['word'].apply(list)\n",
    "\n",
    "\n",
    "def create_word_to_aspects_dict(aspect_words_dict):\n",
    "    '''\n",
    "        This function transforms an 'aspect to words'\n",
    "        dictionary to a 'word to aspect' default dictionary\n",
    "    '''\n",
    "    word_aspect_dict = defaultdict(str)\n",
    "    for aspect, words in aspect_words_dict.items():\n",
    "        for word in words:\n",
    "            word_aspect_dict[word] = aspect\n",
    "    return word_aspect_dict\n",
    "\n",
    "\n",
    "def build_simple_vocab(path):\n",
    "    aspect_words_dict = load_vocab(path)\n",
    "    word_aspect_dict = create_word_to_aspects_dict(aspect_words_dict)\n",
    "    return word_aspect_dict\n",
    "\n",
    "\n",
    "word_aspect_dict = build_simple_vocab(aspect_hotels_path)\n",
    "printable = pd.DataFrame.from_dict(word_aspect_dict, orient='index')\n",
    "printable.head(10)"
   ]
  },
  {
   "cell_type": "markdown",
   "id": "10ebd488",
   "metadata": {},
   "source": [
    "In the following cells we compute the aspects referenced by each review and display the result for the first few reviews."
   ]
  },
  {
   "cell_type": "code",
   "execution_count": 4,
   "id": "dcdd61d7",
   "metadata": {},
   "outputs": [],
   "source": [
    "def get_text_vocabulary(text):\n",
    "    '''\n",
    "        Returns a list of the words from\n",
    "        the given text.\n",
    "    '''\n",
    "    # Tokenize the text\n",
    "    tokens = nltk.word_tokenize(text)\n",
    "\n",
    "    # Obtain the words\n",
    "    return [w.lower() for w in tokens if w.isalnum()]\n",
    "\n",
    "\n",
    "def find_aspects_in_reviews(reviews, word_aspect_dict):\n",
    "    '''\n",
    "        Given a list of reviews, returns a set with the\n",
    "        aspects that each review references.\n",
    "    '''\n",
    "    # Initialize references list\n",
    "    refered_aspects = []\n",
    "\n",
    "    for review in reviews:\n",
    "        # Obtain review vocabulary\n",
    "        r_vocab = get_text_vocabulary(review['reviewText'])\n",
    "\n",
    "        # Search for words related to aspects and append\n",
    "        # to vector if word appears\n",
    "        refered_aspects.append(set([\n",
    "            word_aspect_dict[word] for word in r_vocab if word_aspect_dict[word] != ''\n",
    "        ]))\n",
    "\n",
    "    return refered_aspects"
   ]
  },
  {
   "cell_type": "code",
   "execution_count": 5,
   "id": "1934bb0c",
   "metadata": {},
   "outputs": [
    {
     "name": "stdout",
     "output_type": "stream",
     "text": [
      "\tReview: Great hotel in Central Phoenix for a stay-cation, but not necessarily a place to stay out of town and without a car. Not much around the area, and unless you're familiar with downtown, I would rather have a guest stay in Old Town Scottsdale, etc. BUT if you do stay here, it's awesome. Great boutique rooms. Awesome pool that's happening in the summer. A GREAT rooftop patio bar, and a very very busy lobby with Gallo Blanco attached. A great place to stay, but have a car! \n",
      "\tAspects: {'bar', 'shopping', 'building', 'pool', 'transportation'} \n",
      "\n",
      "\tReview: I feel the Days Inn Tempe is best described as \"a place where you can purchase the right to sleep for awhile.\" I booked my 10-night stay on Travelocity for a non-smoking room, yet when I entered the room I almost choked. It was disgusting. I've never had a smoking hotel room before and I will make sure I don't again. They said they couldn't move us to a different room.My local lady friend brought over a bottle of wine but forgot a corkscrew. No big deal, I thought to myself, as the front desk of a hotel will surely have a corkscrew. Nope. Coors Light it is.The towels felt like they were made of cow tongue, and they missed our wakeup call one morning making me late for a training class that had cost me about $500.I'm awarding one star in addition to the minimum one-star rating because I got to drink cheap beer by the pool in 90 degree weather for 10 days, and there are a few good places to eat and two dollar stores very nearby. The dollar store had a corkscrew. \n",
      "\tAspects: {'atmosphere', 'bedrooms', 'drinks', 'breakfast', 'shopping', 'bathrooms', 'price', 'pool'} \n",
      "\n",
      "\tReview: My wife and I decided to take a little vaca to celebrate our 13th anniversary and also was the first time that we were traveling with our 5-month old, so you can imagine we were a little apprehensive. The resort is absolutely top-notch, the rooms are very spacious, the staff is very courteous, and the facilities are simply superb. Our room overlooked the mountain, and in the morning, it was blissful to sit outside and sip on our cups of joe. The rooms have a microwave and a small fridge, something that was invaluable to us to store milk and warm it up for our little one. The spa is simply one of the best in the valley, and even if you don't stay here, I would recommend the spa to anyone. The resort is close to at least 20 golf courses, something that might be important to other golf nuts like me. So then why not 5 stars? Simply because they would not extend the check-out time for us by even an hour. The check-out is 11 am and our flight was delayed to 8 pm, so when I requested, I was told VERY NICELY, but firmly that it wasn't going to happen. I've traveled some, and have NEVER been turned down for a late check-out request, ever. Still, a great place to stay, the facilities are top-notch, the staff is very nice, and we had a wonderful time. Would recommend this to anyone wanting a relaxing, fun experience in the Valley of the Sun. Cheers. \n",
      "\tAspects: {'breakfast', 'staff', 'shopping', 'location', 'facilities', 'spa'} \n",
      "\n"
     ]
    }
   ],
   "source": [
    "hotel_reviews = load_json_line_by_line(hotels_path)\n",
    "word_aspect_dict = build_simple_vocab(aspect_hotels_path)\n",
    "refered_aspects = find_aspects_in_reviews(hotel_reviews, word_aspect_dict)\n",
    "\n",
    "for review, aspects in zip(hotel_reviews[:3], refered_aspects[:3]):\n",
    "    print('\\tReview: {} \\n\\tAspects: {} \\n'.format(\n",
    "        review['reviewText'], aspects))"
   ]
  },
  {
   "cell_type": "markdown",
   "id": "53eb5086",
   "metadata": {},
   "source": [
    "### Task 2.2 (optional)\n",
    "\n",
    "**Generating or extending the lists of terms of each aspect with synonyms extracted from WordNet.**\n",
    "\n",
    "For this second task we expand the vocabulty using synonims extracted from Wordnet. The function `build_vocab()` is analogous to the previous `build_simple_vocab()` but takes this synonims into account."
   ]
  },
  {
   "cell_type": "code",
   "execution_count": 6,
   "id": "03e87059",
   "metadata": {
    "scrolled": true
   },
   "outputs": [],
   "source": [
    "def get_word_synonims(word):\n",
    "    syns = []\n",
    "    for syn in wn.synsets(word):\n",
    "        for l in syn.lemmas():\n",
    "            syns.append(l.name())\n",
    "    return syns\n",
    "\n",
    "\n",
    "def add_synonims_to_vocab(word_aspect_dict):\n",
    "    '''\n",
    "        Given a vocabulary, extends it by adding the synonims\n",
    "        of each word.\n",
    "    '''\n",
    "    result = copy.deepcopy(word_aspect_dict)\n",
    "    for word, aspect in word_aspect_dict.items():\n",
    "        for synonym in get_word_synonims(word):\n",
    "            result[synonym] = aspect\n",
    "    return result\n",
    "\n",
    "\n",
    "def build_vocab(path, add_synonyms = True):\n",
    "    '''\n",
    "        Builds a vocabulary taking synonims into account.\n",
    "    '''\n",
    "    aspect_words_dict = load_vocab(path)\n",
    "    word_aspect_dict = create_word_to_aspects_dict(aspect_words_dict)\n",
    "    word_aspect_dict_extended = add_synonims_to_vocab(word_aspect_dict)\n",
    "    return word_aspect_dict_extended"
   ]
  },
  {
   "cell_type": "markdown",
   "id": "8e988a23",
   "metadata": {},
   "source": [
    "### Task 2.3 (optional)\n",
    "\n",
    "**Managing vocabularies for additional Yelp or Amazon domains. See assignments 1.2 and 1.3**\n",
    "\n",
    "Extended our previous functions to the new datasets is trivial. We simple need to load the correct aspects for each review. The following test function computes the following for the Yelp hotels, Yelp restaurants and Amazon phones datasets:\n",
    "\n",
    "- Load the reviews and build both the simple and complex vocabularies.\n",
    "- Print the aspects found in the first few reviews with each vocabulary.\n",
    "- Print the number of words in both the simple and extended vocabulary for comparison."
   ]
  },
  {
   "cell_type": "code",
   "execution_count": 7,
   "id": "b8a67728",
   "metadata": {
    "scrolled": false
   },
   "outputs": [
    {
     "name": "stdout",
     "output_type": "stream",
     "text": [
      "----- Yelp hotels dataset -----\n",
      "\n",
      "\tReview: Great hotel in Central Phoenix for a stay-cation, but not necessarily a place to stay out of town and without a car. Not much around the area, and unless you're familiar with downtown, I would rather have a guest stay in Old Town Scottsdale, etc. BUT if you do stay here, it's awesome. Great boutique rooms. Awesome pool that's happening in the summer. A GREAT rooftop patio bar, and a very very busy lobby with Gallo Blanco attached. A great place to stay, but have a car! \n",
      "\tAspects: {'bar', 'shopping', 'building', 'pool', 'transportation'} \n",
      "\tExtended Vocab Aspects: {'bedrooms', 'pool', 'bar', 'service', 'location', 'shopping', 'checking', 'building', 'transportation'} \n",
      "\n",
      "\tReview: I feel the Days Inn Tempe is best described as \"a place where you can purchase the right to sleep for awhile.\" I booked my 10-night stay on Travelocity for a non-smoking room, yet when I entered the room I almost choked. It was disgusting. I've never had a smoking hotel room before and I will make sure I don't again. They said they couldn't move us to a different room.My local lady friend brought over a bottle of wine but forgot a corkscrew. No big deal, I thought to myself, as the front desk of a hotel will surely have a corkscrew. Nope. Coors Light it is.The towels felt like they were made of cow tongue, and they missed our wakeup call one morning making me late for a training class that had cost me about $500.I'm awarding one star in addition to the minimum one-star rating because I got to drink cheap beer by the pool in 90 degree weather for 10 days, and there are a few good places to eat and two dollar stores very nearby. The dollar store had a corkscrew. \n",
      "\tAspects: {'atmosphere', 'bedrooms', 'drinks', 'breakfast', 'shopping', 'bathrooms', 'price', 'pool'} \n",
      "\tExtended Vocab Aspects: {'restrooms', 'bedrooms', 'drinks', 'breakfast', 'service', 'location', 'bathrooms', 'shopping', 'checking', 'price', 'building', 'pool', 'cleanliness'} \n",
      "\n",
      "Words in simple vocab: 427\n",
      "Words in complex vocab: 1473\n",
      "\n",
      "----- Yelp restaurants dataset -----\n",
      "\n",
      "\tReview: My wife took me here on my birthday for breakfast and it was excellent. The weather was perfect which made sitting outside overlooking their grounds an absolute pleasure. Our waitress was excellent and our food arrived quickly on the semi-busy Saturday morning. It looked like the place fills up pretty quickly so the earlier you get here the better.Do yourself a favor and get their Bloody Mary. It was phenomenal and simply the best I've ever had. I'm pretty sure they only use ingredients from their garden and blend them fresh when you order it. It was amazing.While EVERYTHING on the menu looks excellent, I had the white truffle scrambled eggs vegetable skillet and it was tasty and delicious. It came with 2 pieces of their griddled bread with was amazing and it absolutely made the meal complete. It was the best \"toast\" I've ever had.Anyway, I can't wait to go back! \n",
      "\tAspects: {'bread', 'food', 'menu', 'eggs', 'seating', 'breakfast', 'vegetables', 'staff', 'building'} \n",
      "\tExtended Vocab Aspects: {'bread', 'food', 'menu', 'eggs', 'drinks', 'seating', 'breakfast', 'vegetables', 'staff', 'building', 'cleanliness'} \n",
      "\n",
      "\tReview: I have no idea why some people give bad reviews about this place. It goes to show you, you can please everyone. They are probably griping about something that their own fault...there are many people like that.In any case, my friend and I arrived at about 5:50 PM this past Sunday. It was pretty crowded, more than I thought for a Sunday evening and thought we would have to wait forever to get a seat but they said we'll be seated when the girl comes back from seating someone else. We were seated at 5:52 and the waiter came and got our drink orders. Everyone was very pleasant from the host that seated us to the waiter to the server. The prices were very good as well. We placed our orders once we decided what we wanted at 6:02. We shared the baked spaghetti calzone and the small \"Here's The Beef\" pizza so we can both try them. The calzone was huge and we got the smallest one (personal) and got the small 11\" pizza. Both were awesome! My friend liked the pizza better and I liked the calzone better. The calzone does have a sweetish sauce but that's how I like my sauce!We had to box part of the pizza to take it home and we were out the door by 6:42. So, everything was great and not like these bad reviewers. That goes to show you that you have to try these things yourself because all these bad reviewers have some serious issues. \n",
      "\tAspects: {'drinks', 'italian', 'seating', 'service', 'staff', 'sauces', 'meat', 'price'} \n",
      "\tExtended Vocab Aspects: {'drinks', 'food_quantity', 'menu', 'italian', 'seating', 'staff', 'location', 'food_taste', 'meat', 'sauces', 'price', 'transportation'} \n",
      "\n",
      "Words in simple vocab: 521\n",
      "Words in complex vocab: 1799\n",
      "\n",
      "----- Amazon cell phones and accesories dataset -----\n",
      "\n",
      "\tReview: They look good and stick good! I just don't like the rounded shape because I was always bumping it and Siri kept popping up and it was irritating. I just won't buy a product like this again \n",
      "\tAspects: {'appearance'} \n",
      "\tExtended Vocab Aspects: {'sound', 'configuration', 'appearance'} \n",
      "\n",
      "\tReview: These stickers work like the review says they do. They stick on great and they stay on the phone. They are super stylish and I can share them with my sister. :) \n",
      "\tAspects: set() \n",
      "\tExtended Vocab Aspects: {'sound'} \n",
      "\n",
      "Words in simple vocab: 222\n",
      "Words in complex vocab: 871\n",
      "\n"
     ]
    }
   ],
   "source": [
    "def test_expand_vocab(reviews_path, aspects_path,\n",
    "                      n_displayed_reviews=3):\n",
    "    '''\n",
    "        This functions displayes the refered aspects in the first,\n",
    "        n_displayed_reviews reviews using both vocabularies,\n",
    "    '''\n",
    "    reviews = load_json_line_by_line(reviews_path)\n",
    "\n",
    "    simple_vocab = build_simple_vocab(aspects_path)\n",
    "    complex_vocab = build_vocab(aspects_path)\n",
    "\n",
    "    refered_aspects = find_aspects_in_reviews(\n",
    "        reviews[:n_displayed_reviews], simple_vocab)\n",
    "    refered_aspects_extended = find_aspects_in_reviews(\n",
    "        reviews[:n_displayed_reviews], complex_vocab)\n",
    "    for review, aspects, extended_aspects in zip(reviews[:n_displayed_reviews],\n",
    "                                                 refered_aspects,\n",
    "                                                 refered_aspects_extended):\n",
    "        print('\\tReview: {} \\n\\tAspects: {} \\n\\tExtended Vocab Aspects: {} \\n'.format(\n",
    "            review['reviewText'], aspects, extended_aspects))\n",
    "    return simple_vocab, complex_vocab,\n",
    "    _ = test_expand_vocab(hotels_path, aspect_hotels_path)\n",
    "\n",
    "def test_build_vocabulary(n_displayed_reviews=1):\n",
    "    test_case_names = [\n",
    "        'Yelp hotels',\n",
    "        'Yelp restaurants',\n",
    "        'Amazon cell phones and accesories'\n",
    "    ]\n",
    "    reviews_paths = [\n",
    "        'inputs/yelp_dataset/yelp_hotels.json',\n",
    "        'inputs/yelp_dataset/yelp_restaurants.json',\n",
    "        'inputs/amazon/Cell_Phones_and_Accessories_5.json'\n",
    "    ]\n",
    "    aspects_paths = [\n",
    "        'inputs/aspects/aspects_hotels.csv',\n",
    "        'inputs/aspects/aspects_restaurants.csv',\n",
    "        'inputs/aspects/aspects_phones.csv'\n",
    "    ]\n",
    "\n",
    "    for name, reviews_path, aspects_path in \\\n",
    "            zip(test_case_names, reviews_paths, aspects_paths):\n",
    "        print('----- {} dataset -----\\n'.format(name))\n",
    "\n",
    "        simple_vocab, complex_vocab = test_expand_vocab(\n",
    "            reviews_path, aspects_path, n_displayed_reviews=n_displayed_reviews)\n",
    "\n",
    "        print('Words in simple vocab: {}'.format(len(simple_vocab.keys())))\n",
    "        print('Words in complex vocab: {}\\n'.format(len(complex_vocab.keys())))\n",
    "\n",
    "\n",
    "test_build_vocabulary(n_displayed_reviews=2)"
   ]
  },
  {
   "cell_type": "markdown",
   "id": "2e0a7f29",
   "metadata": {},
   "source": [
    "From this point onwards we will focus on the hotel dataset. The hotel reviews and vocab are loaded now and fixed for the rest of this practical assignment."
   ]
  },
  {
   "cell_type": "code",
   "execution_count": 8,
   "id": "afa854f5",
   "metadata": {},
   "outputs": [],
   "source": [
    "# Load reviews\n",
    "hotel_reviews = load_json_line_by_line(hotels_path)\n",
    "\n",
    "# Build vocab for hotel reviews\n",
    "word_aspect_dict = build_vocab('inputs/aspects/aspects_hotels.csv')"
   ]
  },
  {
   "cell_type": "markdown",
   "id": "cb7b719b",
   "metadata": {},
   "source": [
    "# Assignment 3\n",
    "\n",
    "### Task 3.1 (mandatory)\n",
    "\n",
    "**Loading Liu’s opinion lexicon composed of positive and negative words, accessible as an NLKT corpus, and exploiting it to assign the polarity values to aspect opinions in assignment 4.**\n",
    "\n",
    "We decided to load not only Liu's lexicon but also `Vader` lexicon. Also, we used `SentiWordNet`, but we do not need to load it in advance to its usage, so we directly use it in the code."
   ]
  },
  {
   "cell_type": "code",
   "execution_count": 10,
   "id": "7d457dac",
   "metadata": {},
   "outputs": [
    {
     "data": {
      "text/plain": [
       "[('impartial', 1.0),\n",
       " ('unwavering', 1.0),\n",
       " ('idealize', 1.0),\n",
       " ('proficiently', 1.0),\n",
       " ('astonishment', 1.0),\n",
       " ('wonderous', 1.0),\n",
       " ('punctual', 1.0),\n",
       " ('enviously', -1.0),\n",
       " ('dignify', 1.0),\n",
       " ('fastest-growing', 1.0)]"
      ]
     },
     "execution_count": 10,
     "metadata": {},
     "output_type": "execute_result"
    }
   ],
   "source": [
    "def load_polarities():\n",
    "    # Liu's opinion lexicon\n",
    "    pos_list = set(opinion_lexicon.positive())\n",
    "    neg_list = set(opinion_lexicon.negative())\n",
    "\n",
    "    adj_polarities = defaultdict(float)\n",
    "    for word in pos_list:\n",
    "        adj_polarities[word] = 1.0\n",
    "    for word in neg_list:\n",
    "        adj_polarities[word] = -1.0\n",
    "        \n",
    "    return adj_polarities\n",
    "\n",
    "def vader_lexicon():\n",
    "    f = nltk.data.load(\"inputs/vader_lexicon/vader_lexicon.txt\")\n",
    "    lexicon = defaultdict(float)\n",
    "    for line in f.split(\"\\n\"):\n",
    "        (word, polarity) = line.strip().split(\"\\t\")[0:2]\n",
    "        lexicon[word] = float(polarity)\n",
    "        \n",
    "    return lexicon\n",
    "        \n",
    "    \n",
    "\n",
    "adj_polarities = load_polarities()\n",
    "adj_polarities_vader = vader_lexicon()\n",
    "list( adj_polarities.items() )[:10]"
   ]
  },
  {
   "cell_type": "markdown",
   "id": "f47feb7c",
   "metadata": {},
   "source": [
    "### Task 3.2 (optional)\n",
    "\n",
    "**Considering modifiers to adjust the polarity values of the aspect opinions in Assignment 4.**"
   ]
  },
  {
   "cell_type": "code",
   "execution_count": 11,
   "id": "0a7310ce",
   "metadata": {},
   "outputs": [
    {
     "data": {
      "text/plain": [
       "[('above', 2.0),\n",
       " ('absolutely', 2.0),\n",
       " ('abundantly', 2.0),\n",
       " ('acutely', 2.0),\n",
       " ('amazingly', 2.0),\n",
       " ('amply', 2.0),\n",
       " ('assiduously', 2.0),\n",
       " ('astonishingly', 2.0),\n",
       " ('awfully', 2.0),\n",
       " ('beyond', 2.0)]"
      ]
     },
     "execution_count": 11,
     "metadata": {},
     "output_type": "execute_result"
    }
   ],
   "source": [
    "def load_modifiers(path='./inputs/modifiers/modifiers.csv'):\n",
    "    mod = pd.read_csv(path, sep=',', header=None, names=['mod', 'val'])\n",
    "    modifiers = {row[0]: row[1] for _, row in mod.iterrows()}\n",
    "    \n",
    "    # Manually add the modifier '', which doesn't modify\n",
    "    modifiers[''] = 1.0\n",
    "    \n",
    "    return modifiers\n",
    "\n",
    "modifiers = load_modifiers()\n",
    "list( modifiers.items() )[:10]"
   ]
  },
  {
   "cell_type": "markdown",
   "id": "0eecabff",
   "metadata": {},
   "source": [
    "# Assignment 4\n",
    "\n",
    "Once the aspect vocabulary and opinion lexicons are loaded, the opinions about aspects have to be extracted from the reviews. For this purpose, POS tagging, constituency and dependency parsing could be used.\n",
    "- POS tagging would allow identifying the adjectives in the sentences.\n",
    "- Constituency and dependency parsing would allow extracting the relations between nouns and adjectives and adverbs.\n",
    "\n",
    "The following tasks are proposed:\n",
    "\n",
    "- **Task 4.1 (mandatory)**: extracting the `[aspect, aspect term, opinion word, polarity]` tuples from the input reviews\n",
    "- **Task 4.2 (optional)**: extracting the `[aspect, aspect term, opinion word, modifier, polarity]` tuples from the input reviews, taking the modifiers of assignment 3.2\n",
    "- **Task 4.3 (optional)**: extracting the `[aspect, aspect term, opinion word, isNegated, polarity]` tuples from the input reviews, taking the modifiers of assignment 3.3\n",
    "\n",
    "We firstly create code to extract the asked tuples. This is no more than joining (with a little bit of care) all the code that we have previously developed. We also parts of the code provided in the assignment. We begin by creating a function that returns the POS tagging for a given text, and we test it."
   ]
  },
  {
   "cell_type": "code",
   "execution_count": 13,
   "id": "353ff986",
   "metadata": {},
   "outputs": [],
   "source": [
    "def pos_tagging(text):\n",
    "    sentences = nltk.sent_tokenize(text)\n",
    "    sentences = [nltk.word_tokenize(s) for s in sentences]\n",
    "    sentences = [nltk.pos_tag(s) for s in sentences]\n",
    "    return sentences"
   ]
  },
  {
   "cell_type": "code",
   "execution_count": 14,
   "id": "73918777",
   "metadata": {},
   "outputs": [
    {
     "name": "stdout",
     "output_type": "stream",
     "text": [
      "[[('I', 'PRP'), ('think', 'VBP'), ('you', 'PRP'), ('are', 'VBP'), ('very', 'RB'), ('handsome', 'JJ'), ('.', '.')]]\n"
     ]
    }
   ],
   "source": [
    "print(pos_tagging(\"I think you are very handsome.\"))"
   ]
  },
  {
   "cell_type": "code",
   "execution_count": 15,
   "id": "2967ce7e",
   "metadata": {},
   "outputs": [],
   "source": [
    "def aspect_opinions_from_sentence(tokenized_sentence, word_aspect_dict, adj_polarities, modifiers, method='Liu'):\n",
    "    result = []\n",
    "    for child in tokenized_sentence:\n",
    "        if not isinstance(child, nltk.Tree) or child.label() != 'JJNN':\n",
    "            continue\n",
    "\n",
    "        # Obtain the nouns referenced\n",
    "        aspect_terms = [x[0] for x in child if x[1].startswith('NN')]\n",
    "\n",
    "        # Keep only the nouns with associated aspect. If non, skip loop iteration\n",
    "        aspect_terms = [x for x in aspect_terms if x in word_aspect_dict]\n",
    "        if len(aspect_terms) == 0:\n",
    "            continue\n",
    "\n",
    "        # Obtain the adjetives referencing the nouns\n",
    "        opinion_words = [x[0] for x in child if x[1].startswith('JJ')]\n",
    "\n",
    "        # Obtain the adverbs and compute whether the sentence is negated\n",
    "        adverbs = [x[0] for x in child if x[1].startswith('RB')]\n",
    "        negated = -1 if ('not' in adverbs or 'n\\'t' in adverbs) else 1\n",
    "\n",
    "        # Obtain the modifiers: adverbs present in our modifiers list\n",
    "        mod_list = [x for x in adverbs if x in modifiers]\n",
    "\n",
    "        # If there are no modifiers, add the trivial modifier '' to the list\n",
    "        if len(mod_list) == 0:\n",
    "            mod_list = ['']\n",
    "\n",
    "        # Compute polarity following each method\n",
    "        if method == 'Liu':\n",
    "            computed_polarities = [adj_polarities[word]\n",
    "                                   for word in opinion_words]\n",
    "        elif method == 'SentiWordNet':\n",
    "            computed_polarities = []\n",
    "            for w in opinion_words:\n",
    "                if len(list(swn.senti_synsets(w, pos='a'))) > 0:\n",
    "                    computed_polarities.append(list(swn.senti_synsets(w, pos='a'))[0].pos_score() -\n",
    "                                   list(swn.senti_synsets(w, pos='a'))[0].neg_score())\n",
    "                else:\n",
    "                    computed_polarities.append(0.0)\n",
    "        elif method == 'Vader':\n",
    "            computed_polarities = [adj_polarities_vader[word]\n",
    "                                   for word in opinion_words]\n",
    "\n",
    "        # Compute tuples by cycling through all combinations of noun + adjetives\n",
    "        tuples = [\n",
    "            (word_aspect_dict[asp_term],\n",
    "             asp_term,\n",
    "             opin_w,\n",
    "             'negated' if negated == -1.0 else 'not negated',\n",
    "             mod,\n",
    "             negated * modifiers[mod] * pol)\n",
    "            for asp_term, opin_w, mod, pol\n",
    "            in itertools.product(aspect_terms, opinion_words, mod_list, computed_polarities)\n",
    "        ]\n",
    "\n",
    "        # Save computed tuples\n",
    "        result += tuples\n",
    "\n",
    "    return result\n",
    "\n",
    "\n",
    "def clean_text(text):\n",
    "    text = text.replace(\"<br />\", \" \")\n",
    "    text = text.replace(\"\\[?\\[.+?\\]?\\]\", \" \")\n",
    "    text = text.replace(\"-\", \" \")\n",
    "    text = text.replace(\"\\d+\\&\\#\\d+?;\", \" \")\n",
    "    text = text.replace(\"\\&\\#\\d+?;\", \" \")\n",
    "    text = re.sub(r'([a-zA-z])(\\.)([a-zAZ])', r\"\\1 \\3\", text)\n",
    "    text = text.lower()\n",
    "    return text\n",
    "\n",
    "\n",
    "def aspect_opinions_from_review(review_text, word_aspect_dict, adj_polarities, modifiers, grammar, method='Vader'):\n",
    "    grammar_parser = nltk.RegexpParser(grammar)\n",
    "    tagged_sentences = pos_tagging(review_text.lower())\n",
    "\n",
    "    result = []\n",
    "    for sentence in tagged_sentences:\n",
    "        tokenized_sentence = grammar_parser.parse(sentence)\n",
    "        tuples = aspect_opinions_from_sentence(\n",
    "            tokenized_sentence,\n",
    "            word_aspect_dict,\n",
    "            adj_polarities,\n",
    "            modifiers,\n",
    "            method=method\n",
    "        )\n",
    "        result += tuples\n",
    "\n",
    "    return result"
   ]
  },
  {
   "cell_type": "markdown",
   "id": "a56e9080",
   "metadata": {},
   "source": [
    "Exploring a few examples, we found the following **difficulty**: some adjectives were not detected as adjectives since the first letter was uppercased. We decided to **lowercase** the review text. It could be interesting to see if more preprocessing to the text could improve the results. \n",
    "\n",
    "**Note.-** A list of possible returned POS tags returned by NLTK can be found [here](https://stackoverflow.com/questions/15388831/what-are-all-possible-pos-tags-of-nltk).\n",
    "\n",
    "We define a grammar that tries to capture:\n",
    "\n",
    "- (Adverb) + Adjective + Noun\n",
    "- Noun + Verb + (Adverb) + Adjective\n",
    "\n",
    "We test in very simple examples."
   ]
  },
  {
   "cell_type": "code",
   "execution_count": 16,
   "id": "f72a1bfe",
   "metadata": {},
   "outputs": [
    {
     "name": "stdout",
     "output_type": "stream",
     "text": [
      "Sentence:  The place is perfect\n",
      "[('location', 'place', 'perfect', 'not negated', '', 2.7)]\n",
      "\n",
      "Sentence:  The place is absolutely perfect\n",
      "[('location', 'place', 'perfect', 'not negated', 'absolutely', 5.4)]\n",
      "\n",
      "Sentence:  The place isn't perfect\n",
      "[('location', 'place', 'perfect', 'negated', '', -2.7)]\n",
      "\n",
      "Sentence:  The place isn't absolutely perfect\n",
      "[]\n",
      "\n",
      "Sentence:  The pool is great\n",
      "[('pool', 'pool', 'great', 'not negated', '', 3.1)]\n",
      "\n"
     ]
    }
   ],
   "source": [
    "# GRAMMAR TESTING\n",
    "grammar = r\"\"\"\n",
    "JJNN: {<RB.*>*<JJ.*>+<NN.*>+} # adjectives escorting nouns\n",
    "      {<NN.*>+<VB.*><RB.*>*<JJ.*>+} # description sentences\n",
    "\"\"\"\n",
    "\n",
    "sentences = [\n",
    "    'The place is perfect',\n",
    "    'The place is absolutely perfect',\n",
    "    'The place isn\\'t perfect',\n",
    "    'The place isn\\'t absolutely perfect',\n",
    "    'The pool is great'\n",
    "]\n",
    "\n",
    "\n",
    "def test_grammar(sentences, grammar=grammar):\n",
    "    for sentence in sentences:\n",
    "        grammar_parser = nltk.RegexpParser(grammar)\n",
    "        tokenized_sentence = grammar_parser.parse(\n",
    "            pos_tagging(sentence.lower())[0])\n",
    "\n",
    "        print('Sentence: ', sentence)\n",
    "        pprint(aspect_opinions_from_sentence(tokenized_sentence,\n",
    "               word_aspect_dict, adj_polarities, modifiers, method='Vader'))\n",
    "        print('')\n",
    "\n",
    "\n",
    "test_grammar(sentences)"
   ]
  },
  {
   "cell_type": "markdown",
   "id": "605d0915",
   "metadata": {},
   "source": [
    "We can apreciate that the grammar is working well in all the proposed tests but in the last one. In this case, our grammar is not capturing the adjective \"perfect\" as an adjective. Let us see what `pos_tagging` returns:"
   ]
  },
  {
   "cell_type": "code",
   "execution_count": 17,
   "id": "6fef5dc8",
   "metadata": {},
   "outputs": [
    {
     "data": {
      "text/plain": [
       "[[('The', 'DT'),\n",
       "  ('place', 'NN'),\n",
       "  ('is', 'VBZ'),\n",
       "  (\"n't\", 'RB'),\n",
       "  ('absolutely', 'RB'),\n",
       "  ('perfect', 'VB')]]"
      ]
     },
     "execution_count": 17,
     "metadata": {},
     "output_type": "execute_result"
    }
   ],
   "source": [
    "pos_tagging(\"The place isn\\'t absolutely perfect\")"
   ]
  },
  {
   "cell_type": "markdown",
   "id": "70058050",
   "metadata": {},
   "source": [
    "As we can see, the problem is that the *POS Tagger* indicates that `perfect` is a verb. In this case, this is obviously not true, so it would be very interesting to use a different tagger in future projects.\n",
    "\n",
    "We now test the proposed code in the hotel reviews:"
   ]
  },
  {
   "cell_type": "code",
   "execution_count": 18,
   "id": "5f8494e3",
   "metadata": {
    "scrolled": false
   },
   "outputs": [
    {
     "name": "stdout",
     "output_type": "stream",
     "text": [
      "Review text:  Great hotel in Central Phoenix for a stay-cation, but not necessarily a place to stay out of town and without a car. Not much around the area, and unless you're familiar with downtown, I would rather have a guest stay in Old Town Scottsdale, etc. BUT if you do stay here, it's awesome. Great boutique rooms. Awesome pool that's happening in the summer. A GREAT rooftop patio bar, and a very very busy lobby with Gallo Blanco attached. A great place to stay, but have a car! \n",
      "\n",
      "[('shopping', 'boutique', 'great', 'not negated', '', 0.0),\n",
      " ('bedrooms', 'rooms', 'great', 'not negated', '', 0.0),\n",
      " ('pool', 'pool', 'awesome', 'not negated', '', 0.75),\n",
      " ('building', 'patio', 'great', 'not negated', '', 0.0),\n",
      " ('bar', 'bar', 'great', 'not negated', '', 0.0),\n",
      " ('building', 'lobby', 'busy', 'not negated', 'very', 0.75),\n",
      " ('building', 'lobby', 'busy', 'not negated', 'very', 0.75),\n",
      " ('location', 'place', 'great', 'not negated', '', 0.0)]\n",
      "\n",
      "Review text:  I feel the Days Inn Tempe is best described as \"a place where you can purchase the right to sleep for awhile.\" I booked my 10-night stay on Travelocity for a non-smoking room, yet when I entered the room I almost choked. It was disgusting. I've never had a smoking hotel room before and I will make sure I don't again. They said they couldn't move us to a different room.My local lady friend brought over a bottle of wine but forgot a corkscrew. No big deal, I thought to myself, as the front desk of a hotel will surely have a corkscrew. Nope. Coors Light it is.The towels felt like they were made of cow tongue, and they missed our wakeup call one morning making me late for a training class that had cost me about $500.I'm awarding one star in addition to the minimum one-star rating because I got to drink cheap beer by the pool in 90 degree weather for 10 days, and there are a few good places to eat and two dollar stores very nearby. The dollar store had a corkscrew. \n",
      "\n",
      "[('checking', 'stay', '10-night', 'not negated', '', 0.0),\n",
      " ('location', 'deal', 'big', 'not negated', '', 0.125),\n",
      " ('bathrooms', 'towels', 'is.the', 'not negated', '', 0.0),\n",
      " ('drinks', 'beer', 'cheap', 'not negated', '', -0.25)]\n",
      "\n",
      "Review text:  My wife and I decided to take a little vaca to celebrate our 13th anniversary and also was the first time that we were traveling with our 5-month old, so you can imagine we were a little apprehensive. The resort is absolutely top-notch, the rooms are very spacious, the staff is very courteous, and the facilities are simply superb. Our room overlooked the mountain, and in the morning, it was blissful to sit outside and sip on our cups of joe. The rooms have a microwave and a small fridge, something that was invaluable to us to store milk and warm it up for our little one. The spa is simply one of the best in the valley, and even if you don't stay here, I would recommend the spa to anyone. The resort is close to at least 20 golf courses, something that might be important to other golf nuts like me. So then why not 5 stars? Simply because they would not extend the check-out time for us by even an hour. The check-out is 11 am and our flight was delayed to 8 pm, so when I requested, I was told VERY NICELY, but firmly that it wasn't going to happen. I've traveled some, and have NEVER been turned down for a late check-out request, ever. Still, a great place to stay, the facilities are top-notch, the staff is very nice, and we had a wonderful time. Would recommend this to anyone wanting a relaxing, fun experience in the Valley of the Sun. Cheers. \n",
      "\n",
      "[('bedrooms', 'rooms', 'spacious', 'not negated', 'very', 0.0),\n",
      " ('staff', 'staff', 'courteous', 'not negated', 'very', 1.5),\n",
      " ('facilities', 'facilities', 'superb', 'not negated', 'simply', 0.4375),\n",
      " ('checking', 'check-out', 'late', 'not negated', '', 0.0),\n",
      " ('location', 'place', 'great', 'not negated', '', 0.0),\n",
      " ('facilities', 'facilities', 'top-notch', 'not negated', '', 0.625),\n",
      " ('staff', 'staff', 'nice', 'not negated', 'very', 1.75)]\n",
      "\n"
     ]
    }
   ],
   "source": [
    "def test_aspect_opinions(first_n=3, grammar=grammar):\n",
    "\n",
    "    for review in hotel_reviews[:first_n]:\n",
    "        review_text = review['reviewText']\n",
    "        print('Review text: ', review_text, '\\n')\n",
    "        pprint(aspect_opinions_from_review(review_text, word_aspect_dict,\n",
    "               adj_polarities, modifiers, grammar, method='SentiWordNet'))\n",
    "        print('')\n",
    "\n",
    "\n",
    "test_aspect_opinions()"
   ]
  },
  {
   "cell_type": "markdown",
   "id": "1b3e28fb",
   "metadata": {},
   "source": [
    "In this case, we can again observe the problems that the POS tagger  causes. In the second shown opinion, we see that **non adjective words are detected as adjectives**. Furthermore, *sequences of characters* (\"is.the\") that are not even words are marked as adjectives. Clearly, the *non-words* problem could be solved with **text-preprocessing**, but we would need expert information to be able to determine which kind of preprocessing should be done. Also, this would not fix the problem of the POS tagger tagging incorrectly the words."
   ]
  },
  {
   "cell_type": "markdown",
   "id": "97485d46",
   "metadata": {},
   "source": [
    "# Assignment 5\n",
    "\n",
    "To validate and evaluate the solutions implemented in previous tasks, you are finally proposed the following tasks:\n",
    "\n",
    "### Task 5.1 (mandatory)\n",
    "\n",
    "**Visualizing on screen the aspect opinions (tuples) of a given review.**"
   ]
  },
  {
   "cell_type": "code",
   "execution_count": 19,
   "id": "75957faf",
   "metadata": {},
   "outputs": [],
   "source": [
    "def plot_aspects(opinions, ax = None, method_name = 'Liu'):\n",
    "    if ax == None:\n",
    "        figure = plt.figure()\n",
    "        ax = fig.add_axes([0,0,1,1])\n",
    "    _ = ax.bar(opinions.keys(), opinions.values(), \n",
    "           color=plt.cm.rainbow(np.linspace(0, 1, len(opinions))))\n",
    "    if len(opinions) > 5:\n",
    "        for tick in ax.get_xticklabels():\n",
    "            tick.set_rotation(70)\n",
    "    \n",
    "    ax.set_title(\"Method: {}\".format(method_name))\n",
    "\n",
    "def group_review_opinions(aspect_opinions):\n",
    "    grouped_opinions = defaultdict(int)\n",
    "    for opinion in aspect_opinions:\n",
    "        grouped_opinions[ opinion[0] ] += opinion[-1]\n",
    "    return grouped_opinions\n",
    "    \n",
    "def plot_review_aspects(review_text, methods = ['Liu', 'SentiWordNet', 'Vader']):\n",
    "    \n",
    "    \n",
    "    fig, axes = plt.subplots(1, len(methods), figsize = (20,5))\n",
    "    \n",
    "    for i,method in enumerate(methods):\n",
    "       \n",
    "        aspect_opinions = aspect_opinions_from_review(\n",
    "            review_text,\n",
    "            word_aspect_dict,\n",
    "            adj_polarities,\n",
    "            modifiers,\n",
    "            grammar,\n",
    "            method = method\n",
    "            )\n",
    "        grouped_opinions = group_review_opinions(aspect_opinions)\n",
    "        if len(methods) == 1:\n",
    "            _ = plot_aspects(grouped_opinions, axes, method_name = method)\n",
    "        else:\n",
    "            _ = plot_aspects(grouped_opinions, axes[i], method_name = method)\n",
    "        \n",
    "        \n",
    "    print('Review text: ', review_text, '\\n')\n",
    "    _ =plt.show()\n",
    "\n"
   ]
  },
  {
   "cell_type": "code",
   "execution_count": 20,
   "id": "d303fadc",
   "metadata": {},
   "outputs": [
    {
     "name": "stdout",
     "output_type": "stream",
     "text": [
      "Review text:  My wife and I decided to take a little vaca to celebrate our 13th anniversary and also was the first time that we were traveling with our 5-month old, so you can imagine we were a little apprehensive. The resort is absolutely top-notch, the rooms are very spacious, the staff is very courteous, and the facilities are simply superb. Our room overlooked the mountain, and in the morning, it was blissful to sit outside and sip on our cups of joe. The rooms have a microwave and a small fridge, something that was invaluable to us to store milk and warm it up for our little one. The spa is simply one of the best in the valley, and even if you don't stay here, I would recommend the spa to anyone. The resort is close to at least 20 golf courses, something that might be important to other golf nuts like me. So then why not 5 stars? Simply because they would not extend the check-out time for us by even an hour. The check-out is 11 am and our flight was delayed to 8 pm, so when I requested, I was told VERY NICELY, but firmly that it wasn't going to happen. I've traveled some, and have NEVER been turned down for a late check-out request, ever. Still, a great place to stay, the facilities are top-notch, the staff is very nice, and we had a wonderful time. Would recommend this to anyone wanting a relaxing, fun experience in the Valley of the Sun. Cheers. \n",
      "\n"
     ]
    },
    {
     "data": {
      "image/png": "[encoded data removed]",
      "text/plain": [
       "<Figure size 1440x360 with 3 Axes>"
      ]
     },
     "metadata": {
      "needs_background": "light"
     },
     "output_type": "display_data"
    },
    {
     "name": "stdout",
     "output_type": "stream",
     "text": [
      "Review text:  I dug this place. Got a great deal from Priceline, and I pretty much knew what to expect going in. I've stayed at places like this before across the country, and I can definitely say that this was a very pleasant experience. Everyone has complained about the beds being hard, but I didn't really find this to be the case. I like a firmer mattress, so I guess that's just my personal preference, but it wasn't like sleeping on a campus futon or anything. The towels were nice- nothing fancy, but definitely not the thin washed-out wisps of cloth that you might have expected at other places. The setup of the place was great- it's just like having a little studio apartment. Even had a coffeemaker, and an ironing board, which is strangely becoming a rarity these days.I have to make special mention of one thing- the pillows, for some reason, were absolutely amazing. My girlfriend and I both agreed (and we're both flight attendants, so we KNOW hotels) that these were some of the best hotel pillows we've ever slept on. Couldn't exactly tell you why, but there was just something about them- proper amount of spring, cushioning, support, punchability, etc. If you need to be in Arizona on business, you couldn't pick a better place. The convenience is amazing- you're right near the highway and there's quite a bit of stuff within walking distance. We got some DELICIOUS takeout from some of the local restaurants, and it was SUPER Handy to have a microwave and kitchenette available within the room for our use!So yeah, I gotta say, I didn't mind this place one tiny little bit. If you're used to Marriotts, Hyatts, and other fancy hotels, then you need to know that this isn't one of them. But for a relatively no-frills \"home away from home\" type of place, this is perfect!! \n",
      "\n"
     ]
    },
    {
     "data": {
      "image/png": "[encoded data removed]",
      "text/plain": [
       "<Figure size 1440x360 with 3 Axes>"
      ]
     },
     "metadata": {
      "needs_background": "light"
     },
     "output_type": "display_data"
    }
   ],
   "source": [
    "plot_review_aspects(hotel_reviews[2]['reviewText'])\n",
    "plot_review_aspects(hotel_reviews[40]['reviewText'])"
   ]
  },
  {
   "cell_type": "markdown",
   "id": "7ac8d5f4",
   "metadata": {},
   "source": [
    "### Task 5.2 (optional)\n",
    "\n",
    "**Visualizing on screen a summary of the aspect opinions of a given item. Among other issues, the total number of positive/negative opinions for each aspect of the item could be visualized**.\n",
    "\n",
    "\n",
    "Two types of visualizations are proposed.\n",
    "\n",
    "#### Complete Hotel Plot\n",
    "\n",
    "The first one follows the previous approach we plot the aspect and polarities in a single review. What we do is to **sum** the polarities per aspect in each of the reviews to plot all the extracted aspects and polarities for a single hotel, given by its `isin`, which is an identifier.\n"
   ]
  },
  {
   "cell_type": "code",
   "execution_count": 21,
   "id": "6b996871",
   "metadata": {},
   "outputs": [],
   "source": [
    "def plot_hotel_aspects(fixed_hotel_reviews,  methods = ['Liu', 'SentiWordNet', 'Vader']):\n",
    "    \n",
    "    aspects_per_opinion = []\n",
    "    fig, axes = plt.subplots(len(methods),1, figsize = (20,30))\n",
    "    for i,method in enumerate(methods):\n",
    "        opinions = []\n",
    "        for review in fixed_hotel_reviews:\n",
    "            review_opinions = aspect_opinions_from_review(\n",
    "                review['reviewText'],\n",
    "                word_aspect_dict,\n",
    "                adj_polarities,\n",
    "                modifiers,\n",
    "                grammar,\n",
    "                method = method\n",
    "            )\n",
    "            opinions.append(review_opinions)\n",
    "    \n",
    "        aspects_per_opinion.append(opinions)\n",
    "        opinions = list( itertools.chain(*opinions) )\n",
    "        grouped_opinions = group_review_opinions(opinions)\n",
    "        if len(methods) == 1:\n",
    "            plot_aspects(grouped_opinions, ax = axes, method_name = method)\n",
    "        else:\n",
    "            plot_aspects(grouped_opinions, ax = axes[i],method_name = method)\n",
    "            \n",
    "    return aspects_per_opinion"
   ]
  },
  {
   "cell_type": "code",
   "execution_count": 22,
   "id": "f8a5709c",
   "metadata": {},
   "outputs": [
    {
     "name": "stdout",
     "output_type": "stream",
     "text": [
      "Selected 102 opinions for this hotel\n"
     ]
    },
    {
     "data": {
      "image/png": "[encoded data removed]",
      "text/plain": [
       "<Figure size 1440x2160 with 3 Axes>"
      ]
     },
     "metadata": {
      "needs_background": "light"
     },
     "output_type": "display_data"
    }
   ],
   "source": [
    "# Fixed an asin (the ID associated to a hotel)\n",
    "fixed_asin = hotel_reviews[2]['asin']\n",
    "fixed_hotel_reviews = [ x for x in hotel_reviews if x['asin'] == fixed_asin ]\n",
    "print(\"Selected {} opinions for this hotel\".format(len(fixed_hotel_reviews)))\n",
    "\n",
    "aspects_per_opinion = plot_hotel_aspects(fixed_hotel_reviews)"
   ]
  },
  {
   "cell_type": "markdown",
   "id": "32bf41da",
   "metadata": {},
   "source": [
    "As we can see, the opinions on this hotel agree in the location of the hotel. We can see the little differences between the polarity methods, where in the `SentiWordNet` method the negatives seem to have a bigger impact on the final bar plot.\n",
    "\n",
    "Let us see another hotel with a smaller number of reviews."
   ]
  },
  {
   "cell_type": "code",
   "execution_count": 23,
   "id": "b02da038",
   "metadata": {},
   "outputs": [
    {
     "name": "stdout",
     "output_type": "stream",
     "text": [
      "Selected 5 opinions for this hotel\n"
     ]
    },
    {
     "data": {
      "image/png": "[encoded data removed]",
      "text/plain": [
       "<Figure size 1440x2160 with 3 Axes>"
      ]
     },
     "metadata": {
      "needs_background": "light"
     },
     "output_type": "display_data"
    }
   ],
   "source": [
    "# Fixed an asin (the ID associated to a hotel)\n",
    "fixed_asin = hotel_reviews[40]['asin']\n",
    "fixed_hotel_reviews = [ x for x in hotel_reviews if x['asin'] == fixed_asin ]\n",
    "print(\"Selected {} opinions for this hotel\".format(len(fixed_hotel_reviews)))\n",
    "\n",
    "aspects_per_opinion_2 = plot_hotel_aspects(fixed_hotel_reviews)"
   ]
  },
  {
   "cell_type": "markdown",
   "id": "573c7aa3",
   "metadata": {},
   "source": [
    "In this case, we can see a difference in the polarities in the aspect `building`, since SentiWordNet assigns a lower polarity in any of the reviews.\n",
    "\n",
    "#### Numerical statistics about the reviews\n",
    "\n",
    "The last case would be to design a code that is capable to **summarize** all the positive and negative opinions about an aspect given a certain Hotel. The code developed returns the, for **each** of the polarity assignment methods, the following values: \n",
    "\n",
    "- `single_positive`, indicating the total number of reviews that say **at least** one positive thing about the aspect.\n",
    "- `single_negative`, the same as the previous one but saying negative things.\n",
    "- `total_positive` and `total_negative`, which is the sum of total positive/negative things said about that aspect\n",
    "- `average_positive/negative` the average polarity of all positive and negative comments done.\n",
    "\n",
    "We can see the output for both previous case, using the one with lesser number of reviews first:"
   ]
  },
  {
   "cell_type": "code",
   "execution_count": 24,
   "id": "a9279479",
   "metadata": {},
   "outputs": [],
   "source": [
    "def count_aspects_opinion(aspect_opinions, aspects, methods=['Liu', 'SentiWordNet', 'Vader']):\n",
    "    \"\"\"\n",
    "    Given the aspect opinions obtained for the three methods available,\n",
    "    and a list of aspects, returns number of comments having a positive comment, \n",
    "    number of comments having a negative comment\n",
    "    \"\"\"\n",
    "    statistics = []\n",
    "    aspect_opinions = np.array(aspect_opinions)\n",
    "    # Obtain statistics for each aspect given\n",
    "    for aspect in aspects:\n",
    "        aspect_dict = defaultdict(lambda: defaultdict(float))\n",
    "        # Obtain opinions speaking about an aspect\n",
    "        idx = np.array([True if aspect in np.array(opinion).flatten()\n",
    "                        else False for opinion in aspect_opinions[0]], dtype=int)\n",
    "        idx = np.where(idx == 1)[0]\n",
    "        # For each method\n",
    "        for method, name in zip(range(len(methods)), methods):\n",
    "            # Get opinions\n",
    "            opinions = aspect_opinions[method][idx]\n",
    "\n",
    "            all_positive = np.array([])\n",
    "            all_negative = np.array([])\n",
    "\n",
    "            for opinion in opinions:\n",
    "                opinion = np.array(opinion)\n",
    "                # Select tuples about aspect\n",
    "                idx_tuples = np.where(np.array(opinion) == aspect)[0]\n",
    "                # Obtain positive and negative values\n",
    "                positive_values = [\n",
    "                    float(t[-1]) if float(t[-1]) > 0.0 else 0 for t in opinion[idx_tuples]]\n",
    "                positive_values = list(\n",
    "                    filter(lambda x: x > 0.0, positive_values))\n",
    "                negative_values = [\n",
    "                    float(t[-1]) if float(t[-1]) < 0.0 else 0 for t in opinion[idx_tuples]]\n",
    "                negative_values = list(\n",
    "                    filter(lambda x: x < 0.0, negative_values))\n",
    "                # Save statistics\n",
    "                aspect_dict[name]['single_positive'] += 1 if len(\n",
    "                    positive_values) > 0 else 0\n",
    "                aspect_dict[name]['single_negative'] += 1 if len(\n",
    "                    negative_values) > 0 else 0\n",
    "\n",
    "                aspect_dict[name]['total_positive'] += len(positive_values)\n",
    "                aspect_dict[name]['total_negative'] += len(negative_values)\n",
    "\n",
    "                all_positive = np.append(all_positive, positive_values)\n",
    "                all_negative = np.append(all_negative, negative_values)\n",
    "\n",
    "            aspect_dict[name]['average_positive'] = np.nan_to_num(np.mean(all_positive))\n",
    "            aspect_dict[name]['average_negative'] = np.nan_to_num(np.mean(all_negative))\n",
    "\n",
    "        statistics.append(aspect_dict)\n",
    "\n",
    "    return statistics\n",
    "\n",
    "\n",
    "def show_statistics_per_aspect(hotel_name, aspects, dicts):\n",
    "    print(\"Statistics found for hotel: {}\".format(hotel_name))\n",
    "    for aspect, results in zip(aspects, dicts):\n",
    "        print(\"Aspect: {}\".format(aspect))\n",
    "        df = pd.DataFrame.from_dict(results)\n",
    "        print(df)\n",
    "        print()"
   ]
  },
  {
   "cell_type": "code",
   "execution_count": 25,
   "id": "6124bfe5",
   "metadata": {},
   "outputs": [
    {
     "name": "stdout",
     "output_type": "stream",
     "text": [
      "Statistics found for hotel: CYMG5AsrhkhUPro2c6NSUA\n",
      "Aspect: location\n",
      "                  Liu  SentiWordNet  Vader\n",
      "single_positive   1.0         1.000    1.0\n",
      "single_negative   0.0         0.000    0.0\n",
      "total_positive    2.0         1.000    2.0\n",
      "total_negative    0.0         0.000    0.0\n",
      "average_positive  1.0         0.875    2.5\n",
      "average_negative  0.0         0.000    0.0\n",
      "\n",
      "Aspect: bedrooms\n",
      "                  Liu  SentiWordNet  Vader\n",
      "single_positive   0.0          0.00    0.0\n",
      "single_negative   1.0          1.00    1.0\n",
      "total_positive    0.0          0.00    0.0\n",
      "total_negative    1.0          1.00    1.0\n",
      "average_positive  0.0          0.00    0.0\n",
      "average_negative -1.0         -0.75   -0.4\n",
      "\n",
      "Aspect: service\n",
      "                  Liu  SentiWordNet  Vader\n",
      "single_positive   0.0         0.000    0.0\n",
      "single_negative   1.0         1.000    1.0\n",
      "total_positive    0.0         0.000    0.0\n",
      "total_negative    1.0         1.000    1.0\n",
      "average_positive  0.0         0.000    0.0\n",
      "average_negative -1.0        -0.625   -2.5\n",
      "\n"
     ]
    }
   ],
   "source": [
    "aspects = ['location','bedrooms', 'service']\n",
    "hotel_name = fixed_asin = hotel_reviews[40]['asin']\n",
    "counts = count_aspects_opinion(aspects_per_opinion_2, aspects)\n",
    "show_statistics_per_aspect(hotel_name, aspects, counts)"
   ]
  },
  {
   "cell_type": "markdown",
   "id": "12e58703",
   "metadata": {},
   "source": [
    "We can see how the service has the highest value of negative polarity, as we saw in the charts.\n",
    "\n",
    "In the first case analyzed before, we obtain the following result:"
   ]
  },
  {
   "cell_type": "code",
   "execution_count": 26,
   "id": "9f4d2bdc",
   "metadata": {},
   "outputs": [
    {
     "name": "stdout",
     "output_type": "stream",
     "text": [
      "Statistics found for hotel: EcHuaHD9IcoPEWNsU8vDTw\n",
      "Aspect: location\n",
      "                        Liu  SentiWordNet      Vader\n",
      "single_positive   36.000000     29.000000  33.000000\n",
      "single_negative    3.000000      4.000000   3.000000\n",
      "total_positive    65.000000     53.000000  57.000000\n",
      "total_negative     4.000000      5.000000   4.000000\n",
      "average_positive   1.146154      0.650943   3.042982\n",
      "average_negative  -1.000000     -0.600000  -2.000000\n",
      "\n",
      "Aspect: bedrooms\n",
      "                        Liu  SentiWordNet      Vader\n",
      "single_positive   20.000000     15.000000  13.000000\n",
      "single_negative    1.000000     12.000000   1.000000\n",
      "total_positive    23.000000     15.000000  14.000000\n",
      "total_negative     1.000000     15.000000   1.000000\n",
      "average_positive   1.130435      0.433333   2.135714\n",
      "average_negative  -1.000000     -0.541667  -2.300000\n",
      "\n",
      "Aspect: service\n",
      "                        Liu  SentiWordNet      Vader\n",
      "single_positive   16.000000      10.00000  12.000000\n",
      "single_negative    4.000000       4.00000   2.000000\n",
      "total_positive    37.000000      25.00000  23.000000\n",
      "total_negative    10.000000       8.00000   4.000000\n",
      "average_positive   0.986486       0.61250   2.656522\n",
      "average_negative  -1.200000      -0.84375  -3.150000\n",
      "\n"
     ]
    }
   ],
   "source": [
    "hotel_name = fixed_asin = hotel_reviews[2]['asin']\n",
    "counts = count_aspects_opinion(aspects_per_opinion, aspects)\n",
    "show_statistics_per_aspect(hotel_name, aspects, counts)"
   ]
  },
  {
   "cell_type": "markdown",
   "id": "af12722e",
   "metadata": {},
   "source": [
    "# Conclusion\n",
    "\n",
    "After all this work, a few conclusions have been extracted:\n",
    "\n",
    "- Defining a complete grammar is complicated. In natural language, there are many possible cases of use of our words, so most of the time it is impossible to capture them all in a grammar. We decided to use a simple grammar for simplicity of analyzing our problems.\n",
    "- The POS tagger determines the quality of our analysis, since sometimes it captures wrong tags for certain words, which causes problems with the posterior analysis.\n",
    "- Also, the final polarity value depends on the used lexicon. Although sometimes the values are coincident, most of the times the polarity values vary between the lexicons, making our method less robust to a change of lexicon.\n",
    "\n",
    "However, we already know that this specific method of extracting aspects of a text and the polarities of the aspect is outdated and that the state of art methods clearly outperform the accuracy and correctness of the aspect extraction."
   ]
  },
  {
   "cell_type": "code",
   "execution_count": null,
   "id": "1f30c72f",
   "metadata": {},
   "outputs": [],
   "source": []
  }
 ],
 "metadata": {
  "kernelspec": {
   "display_name": "Python 3 (ipykernel)",
   "language": "python",
   "name": "python3"
  },
  "language_info": {
   "codemirror_mode": {
    "name": "ipython",
    "version": 3
   },
   "file_extension": ".py",
   "mimetype": "text/x-python",
   "name": "python",
   "nbconvert_exporter": "python",
   "pygments_lexer": "ipython3",
   "version": "3.7.0"
  }
 },
 "nbformat": 4,
 "nbformat_minor": 5
}
