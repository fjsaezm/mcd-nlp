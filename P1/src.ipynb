{
 "cells": [
  {
   "cell_type": "code",
   "execution_count": 1,
   "id": "b7a19d25",
   "metadata": {},
   "outputs": [],
   "source": [
    "import json\n",
    "import csv\n",
    "import nltk\n",
    "#nltk.download('wordnet')\n",
    "#nltk.download('omw-1.4')\n",
    "#nltk.download('punkt')\n",
    "from nltk.corpus import wordnet as wn\n",
    "import pandas as pd\n",
    "from nltk import word_tokenize"
   ]
  },
  {
   "cell_type": "markdown",
   "id": "1166aa33",
   "metadata": {},
   "source": [
    "# Assignment 1"
   ]
  },
  {
   "cell_type": "code",
   "execution_count": 2,
   "id": "3b66b516",
   "metadata": {},
   "outputs": [
    {
     "name": "stdout",
     "output_type": "stream",
     "text": [
      "Reading file inputs/yelp_dataset/yelp_hotels.json\n",
      "\n",
      "5034 reviews loaded\n",
      "\n",
      "Example review: {'reviewerID': 'qLCpuCWCyPb4G2vN-WZz-Q', 'asin': '8ZwO9VuLDWJOXmtAdc7LXQ', 'summary': 'summary', 'reviewText': \"Great hotel in Central Phoenix for a stay-cation, but not necessarily a place to stay out of town and without a car. Not much around the area, and unless you're familiar with downtown, I would rather have a guest stay in Old Town Scottsdale, etc. BUT if you do stay here, it's awesome. Great boutique rooms. Awesome pool that's happening in the summer. A GREAT rooftop patio bar, and a very very busy lobby with Gallo Blanco attached. A great place to stay, but have a car!\", 'overall': 4.0}\n",
      "\n",
      "Reading file inputs/yelp_dataset/yelp_restaurants.json\n",
      "\n",
      "158430 reviews loaded\n",
      "\n",
      "Example review: {'reviewerID': 'rLtl8ZkDX5vH5nAx9C3q5Q', 'asin': '9yKzy9PApeiPPOUJEtnvkg', 'summary': 'summary', 'reviewText': 'My wife took me here on my birthday for breakfast and it was excellent. The weather was perfect which made sitting outside overlooking their grounds an absolute pleasure. Our waitress was excellent and our food arrived quickly on the semi-busy Saturday morning. It looked like the place fills up pretty quickly so the earlier you get here the better.Do yourself a favor and get their Bloody Mary. It was phenomenal and simply the best I\\'ve ever had. I\\'m pretty sure they only use ingredients from their garden and blend them fresh when you order it. It was amazing.While EVERYTHING on the menu looks excellent, I had the white truffle scrambled eggs vegetable skillet and it was tasty and delicious. It came with 2 pieces of their griddled bread with was amazing and it absolutely made the meal complete. It was the best \"toast\" I\\'ve ever had.Anyway, I can\\'t wait to go back!', 'overall': 5.0}\n",
      "\n",
      "Reading file inputs/amazon/Musical_Instruments_5.json\n",
      "\n",
      "10261 reviews loaded\n",
      "\n",
      "Example review: {'reviewerID': 'A2IBPI20UZIR0U', 'asin': '1384719342', 'reviewerName': 'cassandra tu \"Yeah, well, that\\'s just like, u...', 'helpful': [0, 0], 'reviewText': \"Not much to write about here, but it does exactly what it's supposed to. filters out the pop sounds. now my recordings are much more crisp. it is one of the lowest prices pop filters on amazon so might as well buy it, they honestly work the same despite their pricing,\", 'overall': 5.0, 'summary': 'good', 'unixReviewTime': 1393545600, 'reviewTime': '02 28, 2014'}\n",
      "\n"
     ]
    }
   ],
   "source": [
    "hotels_path = 'inputs/yelp_dataset/yelp_hotels.json'\n",
    "\n",
    "def load_json_line_by_line(path):\n",
    "    reviews = []\n",
    "    with open(path, encoding='utf-8') as file:\n",
    "        for line in file:\n",
    "            if len(line) > 2:\n",
    "                # If line ends with a coma, remove it.\n",
    "                line = line[:-2] if line[-2] == ',' else line[:-1]\n",
    "                reviews.append(json.loads(line))\n",
    "    return reviews\n",
    "\n",
    "def test_load_json_line_by_line():\n",
    "    paths = [\n",
    "        'inputs/yelp_dataset/yelp_hotels.json',\n",
    "        'inputs/yelp_dataset/yelp_restaurants.json',\n",
    "        'inputs/amazon/Musical_Instruments_5.json'\n",
    "    ]\n",
    "    \n",
    "    for path in paths:\n",
    "        print('Reading file {}\\n'.format(path))\n",
    "        reviews = load_json_line_by_line(path)\n",
    "        print('{} reviews loaded\\n'.format(len(reviews)))\n",
    "        print('Example review: {}\\n'.format(reviews[0]))\n",
    "\n",
    "#reviews = load_json_line_by_line(hotels_path)\n",
    "test_load_json_line_by_line()"
   ]
  },
  {
   "cell_type": "markdown",
   "id": "67c01a26",
   "metadata": {},
   "source": [
    "# Assignment 2"
   ]
  },
  {
   "cell_type": "code",
   "execution_count": 3,
   "id": "ff06369e",
   "metadata": {},
   "outputs": [
    {
     "name": "stdout",
     "output_type": "stream",
     "text": [
      "aspect\n",
      "amenities                            [amenity, amenities, services]\n",
      "atmosphere        [atmosphere, atmospheres, ambiance, ambiances,...\n",
      "bar                              [bar, bars, bartender, bartenders]\n",
      "bathrooms         [bathroom, bathrooms, bath, baths, bathtub, ba...\n",
      "bedrooms          [bedroom, bedrooms, bed, beds, pillow, pillows...\n",
      "booking           [booking, book, reservation, reservations, res...\n",
      "breakfast         [breakfast, breakfasts, morning, mornings, toa...\n",
      "building          [building, buildings, architecture, architectu...\n",
      "checking          [checkin, check-in, check in, check ins, check...\n",
      "cleanliness       [cleanliness, clean, cleaned, cleaning, dirt, ...\n",
      "coffee                    [coffee, coffees, cafe, cafes, tea, teas]\n",
      "cuisine           [cuisine, cuisines, dishe, dishes, food, foods...\n",
      "dinner            [dinner, dinners, evening meal, evening menu, ...\n",
      "drinks                    [drink, drinks, beer, beers, wine, wines]\n",
      "events            [event, events, activity, activities, party, p...\n",
      "facilities                        [facilities, facility, equipment]\n",
      "gym                                                     [gym, gyms]\n",
      "internet                   [internet, wi fi, wifi, wi-fi, wireless]\n",
      "location          [location, locations, beach, beaches, environm...\n",
      "lunch             [lunch, lunches, afternoon meal, afternoon men...\n",
      "parking                                         [parking, parkings]\n",
      "pool              [pool, pools, swimming, swimming pool, swimmin...\n",
      "price             [price, prices, priced, pricing, budget, budge...\n",
      "restaurant                                [restaurant, restaurants]\n",
      "restrooms                    [restroom, restrooms, toilet, toilets]\n",
      "service           [service, serving, servings, attention, attent...\n",
      "shopping          [shopping, shop, shops, store, stores, boutiqu...\n",
      "spa                   [spa, spas, sauna, saunas, jacuzzi, jacuzzis]\n",
      "staff             [staff, worker, workers, bellhop, bellhops, bo...\n",
      "temperature                             [temperature, temperatures]\n",
      "transportation    [transport, transportation, transportations, b...\n",
      "Name: word, dtype: object\n"
     ]
    }
   ],
   "source": [
    "aspect_hotels_path = 'inputs/aspects/aspects_hotels.csv'\n",
    "\n",
    "def load_vocab(path):\n",
    "    vocab = pd.read_csv(path,names = [\"aspect\",\"word\"])\n",
    "    vocab = vocab.groupby('aspect')['word'].apply(list)\n",
    "    \n",
    "    return vocab\n",
    "\n",
    "aspect_hotels = load_vocab(aspect_hotels_path)\n",
    "print(aspect_hotels)"
   ]
  },
  {
   "cell_type": "code",
   "execution_count": 24,
   "id": "dcdd61d7",
   "metadata": {},
   "outputs": [],
   "source": [
    "def get_text_vocabulary(text):\n",
    "    # Obtain text\n",
    "    # Tokenize\n",
    "    tokens = nltk.word_tokenize(text)\n",
    "    # Obtain words and vocab\n",
    "    words = [w.lower() for w in tokens if w.isalnum()]\n",
    "    vocab = sorted(set(words))\n",
    "    # Return vocab \n",
    "    return vocab\n",
    "    \n",
    "\n",
    "def find_references(reviews,vocab):\n",
    "    \n",
    "    # All references list\n",
    "    references = []\n",
    "    for r in reviews:\n",
    "        # References of single review\n",
    "        rev_refs = [] \n",
    "        # Obtain review vocabulary\n",
    "        r_vocab = get_text_vocabulary(r['reviewText'])\n",
    "    \n",
    "        # Search for words related to aspects and append\n",
    "        # to vector if word appears\n",
    "        for key in vocab.keys():\n",
    "            for word in vocab[key]:\n",
    "                if word in r_vocab:\n",
    "                    rev_refs.append(key)\n",
    "                    break  \n",
    "                \n",
    "        references.append(rev_refs)\n",
    "        \n",
    "    return references\n",
    "    "
   ]
  },
  {
   "cell_type": "code",
   "execution_count": 22,
   "id": "1934bb0c",
   "metadata": {},
   "outputs": [
    {
     "name": "stdout",
     "output_type": "stream",
     "text": [
      "[['bar', 'building', 'pool', 'shopping', 'transportation'], ['atmosphere', 'bathrooms', 'bedrooms', 'breakfast', 'drinks', 'pool', 'price', 'shopping'], ['breakfast', 'checking', 'facilities', 'location', 'shopping', 'spa', 'staff'], ['bathrooms', 'breakfast', 'building', 'cleanliness', 'cuisine', 'drinks', 'location', 'pool', 'spa'], ['bathrooms', 'bedrooms', 'checking', 'cuisine', 'drinks', 'events', 'location', 'lunch', 'pool', 'restaurant', 'service', 'shopping', 'staff'], ['bar', 'booking', 'cuisine', 'events', 'facilities', 'service', 'staff', 'temperature'], ['bathrooms', 'bedrooms', 'building', 'gym', 'pool', 'service'], ['bathrooms', 'bedrooms', 'building', 'cuisine', 'events', 'pool', 'price', 'restaurant', 'shopping', 'spa'], ['bedrooms', 'internet', 'staff'], ['bedrooms', 'building', 'cleanliness', 'gym', 'pool'], ['restaurant'], ['bar', 'pool', 'staff'], ['service'], ['bar', 'bathrooms', 'building', 'cuisine', 'drinks', 'events', 'location', 'pool', 'restaurant', 'service'], ['bar', 'events'], ['bathrooms', 'bedrooms', 'booking', 'building', 'cleanliness', 'pool'], ['checking', 'cleanliness', 'drinks', 'staff'], ['building', 'cleanliness', 'cuisine', 'drinks', 'location', 'pool', 'service', 'staff'], ['location'], ['pool']]\n"
     ]
    }
   ],
   "source": [
    "hotel_reviews = load_json_line_by_line(hotels_path)\n",
    "refs = find_references(hotel_reviews,aspect_hotels)\n",
    "print(refs[0:20])"
   ]
  },
  {
   "cell_type": "code",
   "execution_count": 6,
   "id": "03e87059",
   "metadata": {},
   "outputs": [
    {
     "name": "stdout",
     "output_type": "stream",
     "text": [
      "Pre-expansion length: 282\n",
      "Post-expansion length: 1407\n"
     ]
    }
   ],
   "source": [
    "def count_words(vocab):\n",
    "    count = 0\n",
    "    for key in vocab.keys():\n",
    "        count += len(vocab[key])\n",
    "        \n",
    "    return count\n",
    "\n",
    "def get_word_synonims(word):\n",
    "    syns = []\n",
    "    for syn in wn.synsets(word):\n",
    "        for l in syn.lemmas():\n",
    "            syns.append(l.name())\n",
    "    return syns\n",
    "\n",
    "def expand_vocab(vocab):\n",
    "    expanded = {}\n",
    "    for a in vocab.keys():\n",
    "        all_words = set()\n",
    "        all_words.update(vocab[a])\n",
    "        for word in vocab[a]:\n",
    "            all_words.update(get_word_synonims(word))\n",
    "         \n",
    "        expanded[a] = list(all_words)\n",
    "        \n",
    "    return expanded\n",
    "            \n",
    "        \n",
    "print(\"Pre-expansion length: {}\".format(count_words(aspect_hotels)))\n",
    "expanded = expand_vocab(aspect_hotels)\n",
    "print(\"Post-expansion length: {}\".format(count_words(expanded)))\n",
    "    "
   ]
  },
  {
   "cell_type": "code",
   "execution_count": 25,
   "id": "b8a67728",
   "metadata": {},
   "outputs": [
    {
     "name": "stdout",
     "output_type": "stream",
     "text": [
      "Obtaining vocab from file file inputs/yelp_dataset/yelp_hotels.json\n",
      "\n",
      "['a', 'and', 'area', 'around', 'attached', 'awesome', 'bar', 'blanco', 'boutique', 'busy', 'but', 'car', 'central', 'do', 'downtown', 'etc', 'familiar', 'for', 'gallo', 'great', 'guest', 'happening', 'have', 'here', 'hotel', 'i', 'if', 'in', 'it', 'lobby', 'much', 'necessarily', 'not', 'of', 'old', 'out', 'patio', 'phoenix', 'place', 'pool', 'rather', 'rooftop', 'rooms', 'scottsdale', 'stay', 'summer', 'that', 'the', 'to', 'town', 'unless', 'very', 'with', 'without', 'would', 'you']\n",
      "['10', '90', 'a', 'about', 'addition', 'again', 'almost', 'and', 'are', 'as', 'awarding', 'awhile', 'because', 'beer', 'before', 'best', 'big', 'booked', 'bottle', 'brought', 'but', 'by', 'call', 'can', 'cheap', 'choked', 'class', 'coors', 'corkscrew', 'cost', 'could', 'cow', 'days', 'deal', 'degree', 'described', 'desk', 'different', 'disgusting', 'do', 'dollar', 'drink', 'eat', 'entered', 'feel', 'felt', 'few', 'for', 'forgot', 'friend', 'front', 'good', 'got', 'had', 'have', 'hotel', 'i', 'in', 'inn', 'is', 'it', 'lady', 'late', 'light', 'like', 'local', 'made', 'make', 'making', 'me', 'minimum', 'missed', 'morning', 'move', 'my', 'myself', 'nearby', 'never', 'no', 'nope', 'of', 'on', 'one', 'our', 'over', 'place', 'places', 'pool', 'purchase', 'rating', 'right', 'room', 'said', 'sleep', 'smoking', 'star', 'stay', 'store', 'stores', 'sure', 'surely', 'tempe', 'that', 'the', 'there', 'they', 'thought', 'to', 'tongue', 'towels', 'training', 'travelocity', 'two', 'us', 'very', 'wakeup', 'was', 'weather', 'were', 'when', 'where', 'will', 'wine', 'yet', 'you']\n",
      "['11', '13th', '20', '5', '8', 'a', 'absolutely', 'also', 'am', 'an', 'and', 'anniversary', 'anyone', 'apprehensive', 'are', 'at', 'be', 'because', 'been', 'best', 'blissful', 'but', 'by', 'can', 'celebrate', 'cheers', 'close', 'courses', 'courteous', 'cups', 'decided', 'delayed', 'do', 'down', 'even', 'ever', 'experience', 'extend', 'facilities', 'firmly', 'first', 'flight', 'for', 'fridge', 'fun', 'going', 'golf', 'great', 'had', 'happen', 'have', 'here', 'hour', 'i', 'if', 'imagine', 'important', 'in', 'invaluable', 'is', 'it', 'joe', 'late', 'least', 'like', 'little', 'me', 'microwave', 'might', 'milk', 'morning', 'mountain', 'my', 'never', 'nice', 'nicely', 'not', 'nuts', 'of', 'old', 'on', 'one', 'other', 'our', 'outside', 'overlooked', 'place', 'pm', 'recommend', 'relaxing', 'request', 'requested', 'resort', 'room', 'rooms', 'simply', 'sip', 'sit', 'small', 'so', 'some', 'something', 'spa', 'spacious', 'staff', 'stars', 'stay', 'still', 'store', 'sun', 'superb', 'take', 'that', 'the', 'then', 'they', 'this', 'time', 'to', 'told', 'traveled', 'traveling', 'turned', 'up', 'us', 'vaca', 'valley', 'very', 'wanting', 'warm', 'was', 'we', 'were', 'when', 'why', 'wife', 'with', 'wonderful', 'would', 'you']\n",
      "Obtaining vocab from file file inputs/yelp_dataset/yelp_restaurants.json\n",
      "\n",
      "['2', 'a', 'absolute', 'absolutely', 'amazing', 'an', 'and', 'arrived', 'back', 'best', 'birthday', 'blend', 'bloody', 'bread', 'breakfast', 'ca', 'came', 'complete', 'delicious', 'earlier', 'eggs', 'ever', 'everything', 'excellent', 'favor', 'fills', 'food', 'for', 'fresh', 'from', 'garden', 'get', 'go', 'griddled', 'grounds', 'had', 'here', 'i', 'ingredients', 'it', 'like', 'looked', 'looks', 'made', 'mary', 'me', 'meal', 'menu', 'morning', 'my', 'of', 'on', 'only', 'order', 'our', 'outside', 'overlooking', 'perfect', 'phenomenal', 'pieces', 'place', 'pleasure', 'pretty', 'quickly', 'saturday', 'scrambled', 'simply', 'sitting', 'skillet', 'so', 'sure', 'tasty', 'the', 'their', 'them', 'they', 'to', 'toast', 'took', 'truffle', 'up', 'use', 'vegetable', 'wait', 'waitress', 'was', 'weather', 'when', 'which', 'white', 'wife', 'with', 'you', 'yourself']\n",
      "['11', 'a', 'about', 'all', 'and', 'any', 'are', 'arrived', 'as', 'at', 'awesome', 'back', 'bad', 'baked', 'be', 'because', 'beef', 'better', 'both', 'box', 'but', 'by', 'calzone', 'came', 'can', 'case', 'comes', 'crowded', 'decided', 'does', 'door', 'drink', 'else', 'evening', 'everyone', 'everything', 'fault', 'for', 'forever', 'friend', 'from', 'get', 'girl', 'give', 'goes', 'good', 'got', 'great', 'griping', 'had', 'have', 'here', 'home', 'host', 'how', 'huge', 'i', 'idea', 'issues', 'it', 'like', 'liked', 'many', 'more', 'my', 'no', 'not', 'of', 'once', 'one', 'orders', 'our', 'out', 'own', 'part', 'past', 'people', 'personal', 'pizza', 'place', 'placed', 'pleasant', 'please', 'pm', 'pretty', 'prices', 'probably', 'reviewers', 'reviews', 'said', 'sauce', 'seat', 'seated', 'seating', 'serious', 'server', 'shared', 'show', 'small', 'smallest', 'so', 'some', 'someone', 'something', 'spaghetti', 'sunday', 'sweetish', 'take', 'than', 'that', 'the', 'their', 'them', 'there', 'these', 'they', 'things', 'this', 'thought', 'to', 'try', 'us', 'very', 'wait', 'waiter', 'wanted', 'was', 'we', 'well', 'were', 'what', 'when', 'why', 'would', 'you', 'yourself']\n",
      "['also', 'and', 'candy', 'dig', 'good', 'gyro', 'i', 'is', 'love', 'plate', 'rice', 'selection', 'so', 'the', 'their']\n",
      "Obtaining vocab from file file inputs/amazon/Musical_Instruments_5.json\n",
      "\n",
      "['about', 'amazon', 'are', 'as', 'but', 'buy', 'crisp', 'despite', 'does', 'exactly', 'filters', 'here', 'honestly', 'is', 'it', 'lowest', 'might', 'more', 'much', 'my', 'not', 'now', 'of', 'on', 'one', 'out', 'pop', 'prices', 'pricing', 'recordings', 'same', 'so', 'sounds', 'supposed', 'the', 'their', 'they', 'to', 'well', 'what', 'work', 'write']\n",
      "['a', 'added', 'after', 'an', 'and', 'aroma', 'arrived', 'as', 'better', 'bonus', 'buy', 'can', 'candy', 'carries', 'come', 'did', 'dif', 'does', 'double', 'even', 'exactly', 'expensive', 'filter', 'for', 'grape', 'had', 'hint', 'i', 'is', 'it', 'just', 'like', 'may', 'mine', 'my', 'needed', 'next', 'nose', 'not', 'of', 'old', 'one', 'ones', 'pleasing', 'pop', 'product', 'putting', 'quite', 'realized', 'recording', 'reminiscent', 'sake', 'screened', 'screens', 'should', 'small', 'smell', 'smelling', 'so', 'stop', 'than', 'the', 'this', 'to', 'until', 'used', 'was', 'well', 'will', 'with', 'work', 'you']\n",
      "['a', 'allowing', 'and', 'attached', 'attaches', 'block', 'blocks', 'breath', 'clamp', 'cloth', 'coaxing', 'coloration', 'device', 'double', 'enough', 'filter', 'frequencies', 'goose', 'high', 'is', 'it', 'job', 'keep', 'lets', 'little', 'metal', 'mike', 'mount', 'neck', 'needs', 'no', 'noticeable', 'of', 'or', 'otherwise', 'pass', 'popping', 'pops', 'primary', 'produce', 'put', 'reduction', 'secure', 'sound', 'stand', 'stay', 'that', 'the', 'this', 'through', 'to', 'voice', 'volume', 'where', 'while', 'with', 'would', 'you', 'your']\n"
     ]
    }
   ],
   "source": [
    "def test_expand_vocabulary_other_datasets(n_show = 3):\n",
    "    paths = [\n",
    "        'inputs/yelp_dataset/yelp_hotels.json',\n",
    "        'inputs/yelp_dataset/yelp_restaurants.json',\n",
    "        'inputs/amazon/Musical_Instruments_5.json'\n",
    "    ]\n",
    "    \n",
    "    for path in paths:\n",
    "        print('Obtaining vocab from file file {}\\n'.format(path))\n",
    "        \n",
    "        reviews = load_json_line_by_line(path)\n",
    "        for i in range(0,n_show):\n",
    "            print(get_text_vocabulary(reviews[i]['reviewText']))\n",
    "\n",
    "test_expand_vocabulary_other_datasets()"
   ]
  },
  {
   "cell_type": "code",
   "execution_count": null,
   "id": "c4bf09d7",
   "metadata": {},
   "outputs": [],
   "source": []
  }
 ],
 "metadata": {
  "kernelspec": {
   "display_name": "Python 3",
   "language": "python",
   "name": "python3"
  },
  "language_info": {
   "codemirror_mode": {
    "name": "ipython",
    "version": 3
   },
   "file_extension": ".py",
   "mimetype": "text/x-python",
   "name": "python",
   "nbconvert_exporter": "python",
   "pygments_lexer": "ipython3",
   "version": "3.8.3"
  }
 },
 "nbformat": 4,
 "nbformat_minor": 5
}
