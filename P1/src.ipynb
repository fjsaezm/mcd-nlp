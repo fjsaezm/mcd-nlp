{
 "cells": [
  {
   "cell_type": "code",
   "execution_count": 13,
   "id": "3b66b516",
   "metadata": {},
   "outputs": [
    {
     "name": "stdout",
     "output_type": "stream",
     "text": [
      "Reading file inputs/yelp_dataset/yelp_hotels.json\n",
      "\n",
      "5034 reviews loaded\n",
      "\n",
      "Example review: {'reviewerID': 'qLCpuCWCyPb4G2vN-WZz-Q', 'asin': '8ZwO9VuLDWJOXmtAdc7LXQ', 'summary': 'summary', 'reviewText': \"Great hotel in Central Phoenix for a stay-cation, but not necessarily a place to stay out of town and without a car. Not much around the area, and unless you're familiar with downtown, I would rather have a guest stay in Old Town Scottsdale, etc. BUT if you do stay here, it's awesome. Great boutique rooms. Awesome pool that's happening in the summer. A GREAT rooftop patio bar, and a very very busy lobby with Gallo Blanco attached. A great place to stay, but have a car!\", 'overall': 4.0}\n",
      "\n",
      "Reading file inputs/yelp_dataset/yelp_restaurants.json\n",
      "\n",
      "158430 reviews loaded\n",
      "\n",
      "Example review: {'reviewerID': 'rLtl8ZkDX5vH5nAx9C3q5Q', 'asin': '9yKzy9PApeiPPOUJEtnvkg', 'summary': 'summary', 'reviewText': 'My wife took me here on my birthday for breakfast and it was excellent. The weather was perfect which made sitting outside overlooking their grounds an absolute pleasure. Our waitress was excellent and our food arrived quickly on the semi-busy Saturday morning. It looked like the place fills up pretty quickly so the earlier you get here the better.Do yourself a favor and get their Bloody Mary. It was phenomenal and simply the best I\\'ve ever had. I\\'m pretty sure they only use ingredients from their garden and blend them fresh when you order it. It was amazing.While EVERYTHING on the menu looks excellent, I had the white truffle scrambled eggs vegetable skillet and it was tasty and delicious. It came with 2 pieces of their griddled bread with was amazing and it absolutely made the meal complete. It was the best \"toast\" I\\'ve ever had.Anyway, I can\\'t wait to go back!', 'overall': 5.0}\n",
      "\n",
      "Reading file inputs/amazon/Musical_Instruments_5.json\n",
      "\n",
      "10261 reviews loaded\n",
      "\n",
      "Example review: {'reviewerID': 'A2IBPI20UZIR0U', 'asin': '1384719342', 'reviewerName': 'cassandra tu \"Yeah, well, that\\'s just like, u...', 'helpful': [0, 0], 'reviewText': \"Not much to write about here, but it does exactly what it's supposed to. filters out the pop sounds. now my recordings are much more crisp. it is one of the lowest prices pop filters on amazon so might as well buy it, they honestly work the same despite their pricing,\", 'overall': 5.0, 'summary': 'good', 'unixReviewTime': 1393545600, 'reviewTime': '02 28, 2014'}\n",
      "\n"
     ]
    }
   ],
   "source": [
    "import json\n",
    "\n",
    "hotels_path = 'inputs/yelp_dataset/yelp_hotels.json'\n",
    "\n",
    "def load_json_line_by_line(path):\n",
    "    reviews = []\n",
    "    with open(path, encoding='utf-8') as file:\n",
    "        for line in file:\n",
    "            if len(line) > 2:\n",
    "                # If line ends with a coma, remove it.\n",
    "                line = line[:-2] if line[-2] == ',' else line[:-1]\n",
    "                reviews.append(json.loads(line))\n",
    "    return reviews\n",
    "\n",
    "def test_load_json_line_by_line():\n",
    "    paths = [\n",
    "        'inputs/yelp_dataset/yelp_hotels.json',\n",
    "        'inputs/yelp_dataset/yelp_restaurants.json',\n",
    "        'inputs/amazon/Musical_Instruments_5.json'\n",
    "    ]\n",
    "    \n",
    "    for path in paths:\n",
    "        print('Reading file {}\\n'.format(path))\n",
    "        reviews = load_json_line_by_line(path)\n",
    "        print('{} reviews loaded\\n'.format(len(reviews)))\n",
    "        print('Example review: {}\\n'.format(reviews[0]))\n",
    "\n",
    "#reviews = load_json_line_by_line(hotels_path)\n",
    "test_load_json_line_by_line()"
   ]
  }
 ],
 "metadata": {
  "kernelspec": {
   "display_name": "Python 3 (ipykernel)",
   "language": "python",
   "name": "python3"
  },
  "language_info": {
   "codemirror_mode": {
    "name": "ipython",
    "version": 3
   },
   "file_extension": ".py",
   "mimetype": "text/x-python",
   "name": "python",
   "nbconvert_exporter": "python",
   "pygments_lexer": "ipython3",
   "version": "3.7.0"
  }
 },
 "nbformat": 4,
 "nbformat_minor": 5
}
