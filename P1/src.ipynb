{
 "cells": [
  {
   "cell_type": "code",
   "execution_count": 16,
   "id": "b7a19d25",
   "metadata": {},
   "outputs": [],
   "source": [
    "import json\n",
    "import csv\n",
    "import nltk\n",
    "#nltk.download('wordnet')\n",
    "#nltk.download('omw-1.4')\n",
    "#nltk.download('punkt')\n",
    "\n",
    "from nltk.corpus import wordnet as wn\n",
    "import pandas as pd\n",
    "from nltk import word_tokenize\n",
    "\n",
    "from collections import defaultdict\n",
    "import copy"
   ]
  },
  {
   "cell_type": "markdown",
   "id": "1166aa33",
   "metadata": {},
   "source": [
    "# Assignment 1"
   ]
  },
  {
   "cell_type": "code",
   "execution_count": 2,
   "id": "3b66b516",
   "metadata": {},
   "outputs": [
    {
     "name": "stdout",
     "output_type": "stream",
     "text": [
      "Reading file inputs/yelp_dataset/yelp_hotels.json\n",
      "\n",
      "5034 reviews loaded\n",
      "\n",
      "Example review: {'reviewerID': 'qLCpuCWCyPb4G2vN-WZz-Q', 'asin': '8ZwO9VuLDWJOXmtAdc7LXQ', 'summary': 'summary', 'reviewText': \"Great hotel in Central Phoenix for a stay-cation, but not necessarily a place to stay out of town and without a car. Not much around the area, and unless you're familiar with downtown, I would rather have a guest stay in Old Town Scottsdale, etc. BUT if you do stay here, it's awesome. Great boutique rooms. Awesome pool that's happening in the summer. A GREAT rooftop patio bar, and a very very busy lobby with Gallo Blanco attached. A great place to stay, but have a car!\", 'overall': 4.0}\n",
      "\n",
      "Reading file inputs/yelp_dataset/yelp_restaurants.json\n",
      "\n",
      "158430 reviews loaded\n",
      "\n",
      "Example review: {'reviewerID': 'rLtl8ZkDX5vH5nAx9C3q5Q', 'asin': '9yKzy9PApeiPPOUJEtnvkg', 'summary': 'summary', 'reviewText': 'My wife took me here on my birthday for breakfast and it was excellent. The weather was perfect which made sitting outside overlooking their grounds an absolute pleasure. Our waitress was excellent and our food arrived quickly on the semi-busy Saturday morning. It looked like the place fills up pretty quickly so the earlier you get here the better.Do yourself a favor and get their Bloody Mary. It was phenomenal and simply the best I\\'ve ever had. I\\'m pretty sure they only use ingredients from their garden and blend them fresh when you order it. It was amazing.While EVERYTHING on the menu looks excellent, I had the white truffle scrambled eggs vegetable skillet and it was tasty and delicious. It came with 2 pieces of their griddled bread with was amazing and it absolutely made the meal complete. It was the best \"toast\" I\\'ve ever had.Anyway, I can\\'t wait to go back!', 'overall': 5.0}\n",
      "\n",
      "Reading file inputs/amazon/Musical_Instruments_5.json\n",
      "\n",
      "10261 reviews loaded\n",
      "\n",
      "Example review: {'reviewerID': 'A2IBPI20UZIR0U', 'asin': '1384719342', 'reviewerName': 'cassandra tu \"Yeah, well, that\\'s just like, u...', 'helpful': [0, 0], 'reviewText': \"Not much to write about here, but it does exactly what it's supposed to. filters out the pop sounds. now my recordings are much more crisp. it is one of the lowest prices pop filters on amazon so might as well buy it, they honestly work the same despite their pricing,\", 'overall': 5.0, 'summary': 'good', 'unixReviewTime': 1393545600, 'reviewTime': '02 28, 2014'}\n",
      "\n"
     ]
    }
   ],
   "source": [
    "hotels_path = 'inputs/yelp_dataset/yelp_hotels.json'\n",
    "\n",
    "def load_json_line_by_line(path):\n",
    "    reviews = []\n",
    "    with open(path, encoding='utf-8') as file:\n",
    "        for line in file:\n",
    "            if len(line) > 2:\n",
    "                # If line ends with a coma, remove it.\n",
    "                line = line[:-2] if line[-2] == ',' else line[:-1]\n",
    "                reviews.append(json.loads(line))\n",
    "    return reviews\n",
    "\n",
    "def test_load_json_line_by_line():\n",
    "    paths = [\n",
    "        'inputs/yelp_dataset/yelp_hotels.json',\n",
    "        'inputs/yelp_dataset/yelp_restaurants.json',\n",
    "        'inputs/amazon/Musical_Instruments_5.json'\n",
    "    ]\n",
    "    \n",
    "    for path in paths:\n",
    "        print('Reading file {}\\n'.format(path))\n",
    "        reviews = load_json_line_by_line(path)\n",
    "        print('{} reviews loaded\\n'.format(len(reviews)))\n",
    "        print('Example review: {}\\n'.format(reviews[0]))\n",
    "\n",
    "# reviews = load_json_line_by_line(hotels_path)\n",
    "test_load_json_line_by_line()"
   ]
  },
  {
   "cell_type": "markdown",
   "id": "67c01a26",
   "metadata": {},
   "source": [
    "# Assignment 2\n",
    "\n",
    "### Task 2.1\n",
    "\n",
    "**Loading (and printing on screen) the vocabulary of the `aspects_hotels.csv` file, and directly using it to identify aspect references in the reviews. In particular, the aspects terms could be mapped by exact matching with nouns appearing in the reviews.**\n",
    "\n",
    "We will use two data structures in parallel to optimize different operations:\n",
    "\n",
    "- A dictionary that matches a certain aspect to every word related to it. It will usually be called `aspect_words_dict`.\n",
    "\n",
    "- A dictionary that matches a certain word to the aspect it refers to. It will usually be called `word_aspect_dict`.\n",
    "\n",
    "The function `build_simple_vocab` creates both dictionaries given a path to the file with the initial vocabulary."
   ]
  },
  {
   "cell_type": "code",
   "execution_count": 4,
   "id": "ff06369e",
   "metadata": {
    "scrolled": true
   },
   "outputs": [
    {
     "name": "stdout",
     "output_type": "stream",
     "text": [
      "aspect\n",
      "amenities                            [amenity, amenities, services]\n",
      "atmosphere        [atmosphere, atmospheres, ambiance, ambiances,...\n",
      "bar                              [bar, bars, bartender, bartenders]\n",
      "bathrooms         [bathroom, bathrooms, bath, baths, bathtub, ba...\n",
      "bedrooms          [bedroom, bedrooms, bed, beds, pillow, pillows...\n",
      "booking           [booking, book, reservation, reservations, res...\n",
      "breakfast         [breakfast, breakfasts, morning, mornings, toa...\n",
      "building          [building, buildings, architecture, architectu...\n",
      "checking          [checkin, check-in, check in, check ins, check...\n",
      "cleanliness       [cleanliness, clean, cleaned, cleaning, dirt, ...\n",
      "coffee                    [coffee, coffees, cafe, cafes, tea, teas]\n",
      "cuisine           [cuisine, cuisines, dishe, dishes, food, foods...\n",
      "dinner            [dinner, dinners, evening meal, evening menu, ...\n",
      "drinks                    [drink, drinks, beer, beers, wine, wines]\n",
      "events            [event, events, activity, activities, party, p...\n",
      "facilities                        [facilities, facility, equipment]\n",
      "gym                                                     [gym, gyms]\n",
      "internet                   [internet, wi fi, wifi, wi-fi, wireless]\n",
      "location          [location, locations, beach, beaches, environm...\n",
      "lunch             [lunch, lunches, afternoon meal, afternoon men...\n",
      "parking                                         [parking, parkings]\n",
      "pool              [pool, pools, swimming, swimming pool, swimmin...\n",
      "price             [price, prices, priced, pricing, budget, budge...\n",
      "restaurant                                [restaurant, restaurants]\n",
      "restrooms                    [restroom, restrooms, toilet, toilets]\n",
      "service           [service, serving, servings, attention, attent...\n",
      "shopping          [shopping, shop, shops, store, stores, boutiqu...\n",
      "spa                   [spa, spas, sauna, saunas, jacuzzi, jacuzzis]\n",
      "staff             [staff, worker, workers, bellhop, bellhops, bo...\n",
      "temperature                             [temperature, temperatures]\n",
      "transportation    [transport, transportation, transportations, b...\n",
      "Name: word, dtype: object \n",
      "\n",
      "defaultdict(<class 'str'>, {'amenity': 'amenities', 'amenities': 'amenities', 'services': 'amenities', 'atmosphere': 'atmosphere', 'atmospheres': 'atmosphere', 'ambiance': 'atmosphere', 'ambiances': 'atmosphere', 'light': 'atmosphere', 'lighting': 'atmosphere', 'lights': 'atmosphere', 'music': 'atmosphere', 'bar': 'bar', 'bars': 'bar', 'bartender': 'bar', 'bartenders': 'bar', 'bathroom': 'bathrooms', 'bathrooms': 'bathrooms', 'bath': 'bathrooms', 'baths': 'bathrooms', 'bathtub': 'bathrooms', 'bathtubs': 'bathrooms', 'shampoo': 'bathrooms', 'shampoos': 'bathrooms', 'shower': 'bathrooms', 'showers': 'bathrooms', 'towel': 'bathrooms', 'towels': 'bathrooms', 'tub': 'bathrooms', 'tubs': 'bathrooms', 'bedroom': 'bedrooms', 'bedrooms': 'bedrooms', 'bed': 'bedrooms', 'beds': 'bedrooms', 'pillow': 'bedrooms', 'pillows': 'bedrooms', 'sheet': 'bedrooms', 'sheets': 'bedrooms', 'sleep': 'bedrooms', 'suite': 'bedrooms', 'suites': 'bedrooms', 'booking': 'booking', 'book': 'booking', 'reservation': 'booking', 'reservations': 'booking', 'reserve': 'booking', 'breakfast': 'breakfast', 'breakfasts': 'breakfast', 'morning': 'breakfast', 'mornings': 'breakfast', 'toast': 'breakfast', 'toasts': 'breakfast', 'moorning meal': 'breakfast', 'moorning menu': 'breakfast', 'building': 'building', 'buildings': 'building', 'architecture': 'building', 'architectures': 'building', 'decor': 'building', 'decoration': 'building', 'decorations': 'building', 'furniture': 'building', 'furnitures': 'building', 'garden': 'building', 'gardens': 'building', 'hall': 'building', 'halls': 'building', 'lobbies': 'building', 'lobby': 'building', 'lounge': 'building', 'lounges': 'building', 'patio': 'building', 'patios': 'building', 'salon': 'building', 'salons': 'building', 'spot': 'building', 'spots': 'building', 'checkin': 'checking', 'check-in': 'checking', 'check in': 'checking', 'check ins': 'checking', 'check out': 'checking', 'check outs': 'checking', 'checking': 'checking', 'checkins': 'checking', 'check-ins': 'checking', 'checkout': 'checking', 'check-out': 'checking', 'checkouts': 'checking', 'check-outs': 'checking', 'check': 'checking', 'checks': 'checking', 'registration': 'checking', 'registrations': 'checking', 'cleanliness': 'cleanliness', 'clean': 'cleanliness', 'cleaned': 'cleanliness', 'cleaning': 'cleanliness', 'dirt': 'cleanliness', 'dirty': 'cleanliness', 'smell': 'cleanliness', 'coffee': 'coffee', 'coffees': 'coffee', 'cafe': 'coffee', 'cafes': 'coffee', 'tea': 'coffee', 'teas': 'coffee', 'cuisine': 'cuisine', 'cuisines': 'cuisine', 'dishe': 'cuisine', 'dishes': 'cuisine', 'food': 'cuisine', 'foods': 'cuisine', 'meal': 'cuisine', 'meals': 'cuisine', 'menu': 'cuisine', 'menus': 'cuisine', 'plate': 'cuisine', 'plates': 'cuisine', 'buffet': 'cuisine', 'buffets': 'cuisine', 'dinner': 'dinner', 'dinners': 'dinner', 'evening meal': 'dinner', 'evening menu': 'dinner', 'night meal': 'dinner', 'night menu': 'dinner', 'drink': 'drinks', 'drinks': 'drinks', 'beer': 'drinks', 'beers': 'drinks', 'wine': 'drinks', 'wines': 'drinks', 'event': 'events', 'events': 'events', 'activity': 'events', 'activities': 'events', 'party': 'events', 'parties': 'events', 'trip': 'events', 'trips': 'events', 'facilities': 'facilities', 'facility': 'facilities', 'equipment': 'facilities', 'gym': 'gym', 'gyms': 'gym', 'internet': 'internet', 'wi fi': 'internet', 'wifi': 'internet', 'wi-fi': 'internet', 'wireless': 'internet', 'location': 'location', 'locations': 'location', 'beach': 'location', 'beaches': 'location', 'environment': 'location', 'environments': 'location', 'lake': 'location', 'lakes': 'location', 'landscape': 'location', 'landscapes': 'location', 'mountain': 'location', 'mountains': 'location', 'neighborhood': 'location', 'neighborhoods': 'location', 'neighbourhood': 'location', 'neighbourhoods': 'location', 'river': 'location', 'rivers': 'location', 'situation': 'location', 'situations': 'location', 'street': 'location', 'streets': 'location', 'surrounding': 'location', 'surroundings': 'location', 'tree': 'location', 'trees': 'location', 'valley': 'location', 'valleys': 'location', 'view': 'location', 'views': 'location', 'lunch': 'lunch', 'lunches': 'lunch', 'afternoon meal': 'lunch', 'afternoon menu': 'lunch', 'noon meal': 'lunch', 'noon menu': 'lunch', 'parking': 'parking', 'parkings': 'parking', 'pool': 'pool', 'pools': 'pool', 'swimming': 'pool', 'swimming pool': 'pool', 'swimming pools': 'pool', 'swimmingpool': 'pool', 'swimmingpools': 'pool', 'price': 'price', 'prices': 'price', 'priced': 'price', 'pricing': 'price', 'budget': 'price', 'budgets': 'price', 'charge': 'price', 'cost': 'price', 'costs': 'price', 'fee': 'price', 'fees': 'price', 'money': 'price', 'restaurant': 'restaurant', 'restaurants': 'restaurant', 'restroom': 'restrooms', 'restrooms': 'restrooms', 'toilet': 'restrooms', 'toilets': 'restrooms', 'service': 'service', 'serving': 'service', 'servings': 'service', 'attention': 'service', 'attentions': 'service', 'attitude': 'service', 'attitudes': 'service', 'server': 'service', 'servers': 'service', 'shopping': 'shopping', 'shop': 'shopping', 'shops': 'shopping', 'store': 'shopping', 'stores': 'shopping', 'boutique': 'shopping', 'boutiques': 'shopping', 'mall': 'shopping', 'malls': 'shopping', 'spa': 'spa', 'spas': 'spa', 'sauna': 'spa', 'saunas': 'spa', 'jacuzzi': 'spa', 'jacuzzis': 'spa', 'staff': 'staff', 'worker': 'staff', 'workers': 'staff', 'bellhop': 'staff', 'bellhops': 'staff', 'boss': 'staff', 'bosses': 'staff', 'cashier': 'staff', 'employee': 'staff', 'employees': 'staff', 'hostess': 'staff', 'manager': 'staff', 'managers': 'staff', 'owner': 'staff', 'owners': 'staff', 'patron': 'staff', 'patrons': 'staff', 'receptionist': 'staff', 'receptionists': 'staff', 'temperature': 'temperature', 'temperatures': 'temperature', 'transport': 'transportation', 'transportation': 'transportation', 'transportations': 'transportation', 'bus': 'transportation', 'buses': 'transportation', 'cap': 'transportation', 'caps': 'transportation', 'car': 'transportation', 'cars': 'transportation', 'metro': 'transportation', 'metros': 'transportation', 'shuttle': 'transportation', 'shuttles': 'transportation', 'subway': 'transportation', 'subways': 'transportation', 'taxi': 'transportation', 'taxis': 'transportation', 'train': 'transportation', 'trains': 'transportation', 'tube': 'transportation', 'tubes': 'transportation', 'vehicle': 'transportation', 'vehicles': 'transportation'})\n"
     ]
    }
   ],
   "source": [
    "aspect_hotels_path = 'inputs/aspects/aspects_hotels.csv'\n",
    "\n",
    "def load_vocab(path):\n",
    "    vocab = pd.read_csv(path,names = ['aspect', 'word'])\n",
    "    return vocab.groupby('aspect')['word'].apply(list)\n",
    "\n",
    "def create_word_to_aspects_dict(aspect_words_dict):\n",
    "    '''\n",
    "        This function transforms an 'aspect to words'\n",
    "        dictionary to a 'word to aspect' default dictionary\n",
    "    '''\n",
    "    word_aspect_dict = defaultdict(str)\n",
    "    for aspect, words in aspect_words_dict.items():\n",
    "        for word in words:\n",
    "            word_aspect_dict[word] = aspect\n",
    "    return word_aspect_dict\n",
    "    \n",
    "def build_simple_vocab(path):\n",
    "    aspect_words_dict = load_vocab(path)\n",
    "    word_aspect_dict = create_word_to_aspects_dict(aspect_words_dict)\n",
    "    return aspect_words_dict, word_aspect_dict\n",
    "\n",
    "aspect_words_dict, word_aspect_dict = build_simple_vocab(aspect_hotels_path)\n",
    "print(aspect_words_dict, '\\n')\n",
    "print(word_aspect_dict)"
   ]
  },
  {
   "cell_type": "markdown",
   "id": "a8bad17b",
   "metadata": {},
   "source": [
    "In the following cells we compute the aspects referenced by each review and display the result for the first few reviews."
   ]
  },
  {
   "cell_type": "code",
   "execution_count": 5,
   "id": "dcdd61d7",
   "metadata": {},
   "outputs": [],
   "source": [
    "def get_text_vocabulary(text):\n",
    "    '''\n",
    "        Returns a list of the words from\n",
    "        the given text.\n",
    "    '''\n",
    "    # Tokenize the text\n",
    "    tokens = nltk.word_tokenize(text)\n",
    "    \n",
    "    # Obtain the words \n",
    "    return [w.lower() for w in tokens if w.isalnum()]\n",
    "\n",
    "def find_aspects_in_reviews(reviews, word_aspect_dict):\n",
    "    '''\n",
    "        Given a list of reviews, returns a list with the\n",
    "        aspects that each review talks references.\n",
    "    '''\n",
    "    # Initialize references list\n",
    "    refered_aspects = []\n",
    "    \n",
    "    for review in reviews:\n",
    "        # Obtain review vocabulary\n",
    "        r_vocab = get_text_vocabulary(review['reviewText'])\n",
    "\n",
    "        # Search for words related to aspects and append\n",
    "        # to vector if word appears\n",
    "        refered_aspects.append([\n",
    "            word_aspect_dict[word] for word in r_vocab if word_aspect_dict[word] != ''\n",
    "        ])\n",
    "\n",
    "    return refered_aspects"
   ]
  },
  {
   "cell_type": "code",
   "execution_count": 6,
   "id": "1934bb0c",
   "metadata": {},
   "outputs": [
    {
     "name": "stdout",
     "output_type": "stream",
     "text": [
      "\tReview: Great hotel in Central Phoenix for a stay-cation, but not necessarily a place to stay out of town and without a car. Not much around the area, and unless you're familiar with downtown, I would rather have a guest stay in Old Town Scottsdale, etc. BUT if you do stay here, it's awesome. Great boutique rooms. Awesome pool that's happening in the summer. A GREAT rooftop patio bar, and a very very busy lobby with Gallo Blanco attached. A great place to stay, but have a car! \n",
      "\tAspects: ['transportation', 'shopping', 'pool', 'building', 'bar', 'building', 'transportation'] \n",
      "\n",
      "\tReview: I feel the Days Inn Tempe is best described as \"a place where you can purchase the right to sleep for awhile.\" I booked my 10-night stay on Travelocity for a non-smoking room, yet when I entered the room I almost choked. It was disgusting. I've never had a smoking hotel room before and I will make sure I don't again. They said they couldn't move us to a different room.My local lady friend brought over a bottle of wine but forgot a corkscrew. No big deal, I thought to myself, as the front desk of a hotel will surely have a corkscrew. Nope. Coors Light it is.The towels felt like they were made of cow tongue, and they missed our wakeup call one morning making me late for a training class that had cost me about $500.I'm awarding one star in addition to the minimum one-star rating because I got to drink cheap beer by the pool in 90 degree weather for 10 days, and there are a few good places to eat and two dollar stores very nearby. The dollar store had a corkscrew. \n",
      "\tAspects: ['bedrooms', 'drinks', 'atmosphere', 'bathrooms', 'breakfast', 'price', 'drinks', 'drinks', 'pool', 'shopping', 'shopping'] \n",
      "\n",
      "\tReview: My wife and I decided to take a little vaca to celebrate our 13th anniversary and also was the first time that we were traveling with our 5-month old, so you can imagine we were a little apprehensive. The resort is absolutely top-notch, the rooms are very spacious, the staff is very courteous, and the facilities are simply superb. Our room overlooked the mountain, and in the morning, it was blissful to sit outside and sip on our cups of joe. The rooms have a microwave and a small fridge, something that was invaluable to us to store milk and warm it up for our little one. The spa is simply one of the best in the valley, and even if you don't stay here, I would recommend the spa to anyone. The resort is close to at least 20 golf courses, something that might be important to other golf nuts like me. So then why not 5 stars? Simply because they would not extend the check-out time for us by even an hour. The check-out is 11 am and our flight was delayed to 8 pm, so when I requested, I was told VERY NICELY, but firmly that it wasn't going to happen. I've traveled some, and have NEVER been turned down for a late check-out request, ever. Still, a great place to stay, the facilities are top-notch, the staff is very nice, and we had a wonderful time. Would recommend this to anyone wanting a relaxing, fun experience in the Valley of the Sun. Cheers. \n",
      "\tAspects: ['staff', 'facilities', 'location', 'breakfast', 'shopping', 'spa', 'location', 'spa', 'facilities', 'staff', 'location'] \n",
      "\n"
     ]
    }
   ],
   "source": [
    "hotel_reviews = load_json_line_by_line(hotels_path)\n",
    "refered_aspects = find_aspects_in_reviews(hotel_reviews, word_aspect_dict)\n",
    "\n",
    "for review, aspects in zip(hotel_reviews[:3], refered_aspects[:3]):\n",
    "    print('\\tReview: {} \\n\\tAspects: {} \\n'.format(review['reviewText'], aspects))"
   ]
  },
  {
   "cell_type": "markdown",
   "id": "37f579fc",
   "metadata": {},
   "source": [
    "### Task 2.2\n",
    "\n",
    "**Generating or extending the lists of terms of each aspect with synonyms extracted from WordNet.**\n",
    "\n",
    "For this second task we expand the vocabulty using synonims extracted from Wordnet. The function `build_vocab()` is analogous to the previous `build_simple_vocab()` but takes this synonims into account."
   ]
  },
  {
   "cell_type": "code",
   "execution_count": 27,
   "id": "03e87059",
   "metadata": {
    "scrolled": true
   },
   "outputs": [],
   "source": [
    "def get_word_synonims(word):\n",
    "    syns = []\n",
    "    for syn in wn.synsets(word):\n",
    "        for l in syn.lemmas():\n",
    "            syns.append(l.name())\n",
    "    return syns\n",
    "\n",
    "def add_synonims_to_vocab(aspect_words_dict):\n",
    "    '''\n",
    "        Given a vocabulary, extends it by adding the synonims\n",
    "        of each word.\n",
    "    '''\n",
    "    result = {}\n",
    "    for aspect, words in aspect_words_dict.items():\n",
    "        result[aspect] = words\n",
    "        olds_words = copy.deepcopy(words)\n",
    "        for word in olds_words:\n",
    "            result[aspect] += get_word_synonims(word)\n",
    "    return result\n",
    "\n",
    "def build_vocab(path):\n",
    "    '''\n",
    "        Builds a vocabulary taking synonims into account.\n",
    "    '''\n",
    "    aspect_words_dict = load_vocab(path)\n",
    "    aspect_words_dict = add_synonims_to_vocab(aspect_words_dict)\n",
    "    word_aspect_dict = create_word_to_aspects_dict(aspect_words_dict)\n",
    "    return aspect_words_dict, word_aspect_dict"
   ]
  },
  {
   "cell_type": "code",
   "execution_count": 28,
   "id": "b8a67728",
   "metadata": {},
   "outputs": [
    {
     "name": "stdout",
     "output_type": "stream",
     "text": [
      "Obtaining vocab from file file inputs/aspects/aspects_hotels.csv\n",
      "\n",
      "Simple vocab. length: 281\n",
      "With-synonyms vocab. length: 1336\n",
      "Obtaining vocab from file file inputs/yelp_dataset/yelp_restaurants.json\n",
      "\n"
     ]
    },
    {
     "ename": "AttributeError",
     "evalue": "'float' object has no attribute 'lower'",
     "output_type": "error",
     "traceback": [
      "\u001b[1;31m---------------------------------------------------------------------------\u001b[0m",
      "\u001b[1;31mAttributeError\u001b[0m                            Traceback (most recent call last)",
      "\u001b[1;32m~\\AppData\\Local\\Temp/ipykernel_18924/2651049690.py\u001b[0m in \u001b[0;36m<module>\u001b[1;34m\u001b[0m\n\u001b[0;32m     15\u001b[0m         \u001b[0mprint\u001b[0m\u001b[1;33m(\u001b[0m\u001b[1;34m\"With-synonyms vocab. length: {}\"\u001b[0m\u001b[1;33m.\u001b[0m\u001b[0mformat\u001b[0m\u001b[1;33m(\u001b[0m\u001b[0mlen\u001b[0m\u001b[1;33m(\u001b[0m\u001b[0mcomplex_vocab\u001b[0m\u001b[1;33m.\u001b[0m\u001b[0mkeys\u001b[0m\u001b[1;33m(\u001b[0m\u001b[1;33m)\u001b[0m\u001b[1;33m)\u001b[0m\u001b[1;33m)\u001b[0m\u001b[1;33m)\u001b[0m\u001b[1;33m\u001b[0m\u001b[0m\n\u001b[0;32m     16\u001b[0m \u001b[1;33m\u001b[0m\u001b[0m\n\u001b[1;32m---> 17\u001b[1;33m \u001b[0mtest_build_vocabulary\u001b[0m\u001b[1;33m(\u001b[0m\u001b[1;33m)\u001b[0m\u001b[1;33m\u001b[0m\u001b[0m\n\u001b[0m",
      "\u001b[1;32m~\\AppData\\Local\\Temp/ipykernel_18924/2651049690.py\u001b[0m in \u001b[0;36mtest_build_vocabulary\u001b[1;34m(n_show)\u001b[0m\n\u001b[0;32m     10\u001b[0m \u001b[1;33m\u001b[0m\u001b[0m\n\u001b[0;32m     11\u001b[0m         \u001b[0m_\u001b[0m\u001b[1;33m,\u001b[0m \u001b[0msimple_vocab\u001b[0m \u001b[1;33m=\u001b[0m \u001b[0mbuild_simple_vocab\u001b[0m\u001b[1;33m(\u001b[0m\u001b[0mpath\u001b[0m\u001b[1;33m)\u001b[0m\u001b[1;33m\u001b[0m\u001b[0m\n\u001b[1;32m---> 12\u001b[1;33m         \u001b[0m_\u001b[0m\u001b[1;33m,\u001b[0m \u001b[0mcomplex_vocab\u001b[0m \u001b[1;33m=\u001b[0m \u001b[0mbuild_vocab\u001b[0m\u001b[1;33m(\u001b[0m\u001b[0mpath\u001b[0m\u001b[1;33m)\u001b[0m\u001b[1;33m\u001b[0m\u001b[0m\n\u001b[0m\u001b[0;32m     13\u001b[0m \u001b[1;33m\u001b[0m\u001b[0m\n\u001b[0;32m     14\u001b[0m         \u001b[0mprint\u001b[0m\u001b[1;33m(\u001b[0m\u001b[1;34m\"Simple vocab. length: {}\"\u001b[0m\u001b[1;33m.\u001b[0m\u001b[0mformat\u001b[0m\u001b[1;33m(\u001b[0m\u001b[0mlen\u001b[0m\u001b[1;33m(\u001b[0m\u001b[0msimple_vocab\u001b[0m\u001b[1;33m.\u001b[0m\u001b[0mkeys\u001b[0m\u001b[1;33m(\u001b[0m\u001b[1;33m)\u001b[0m\u001b[1;33m)\u001b[0m\u001b[1;33m)\u001b[0m\u001b[1;33m)\u001b[0m\u001b[1;33m\u001b[0m\u001b[0m\n",
      "\u001b[1;32m~\\AppData\\Local\\Temp/ipykernel_18924/771642065.py\u001b[0m in \u001b[0;36mbuild_vocab\u001b[1;34m(path)\u001b[0m\n\u001b[0;32m     24\u001b[0m     '''\n\u001b[0;32m     25\u001b[0m     \u001b[0maspect_words_dict\u001b[0m \u001b[1;33m=\u001b[0m \u001b[0mload_vocab\u001b[0m\u001b[1;33m(\u001b[0m\u001b[0mpath\u001b[0m\u001b[1;33m)\u001b[0m\u001b[1;33m\u001b[0m\u001b[0m\n\u001b[1;32m---> 26\u001b[1;33m     \u001b[0maspect_words_dict\u001b[0m \u001b[1;33m=\u001b[0m \u001b[0madd_synonims_to_vocab\u001b[0m\u001b[1;33m(\u001b[0m\u001b[0maspect_words_dict\u001b[0m\u001b[1;33m)\u001b[0m\u001b[1;33m\u001b[0m\u001b[0m\n\u001b[0m\u001b[0;32m     27\u001b[0m     \u001b[0mword_aspect_dict\u001b[0m \u001b[1;33m=\u001b[0m \u001b[0mcreate_word_to_aspects_dict\u001b[0m\u001b[1;33m(\u001b[0m\u001b[0maspect_words_dict\u001b[0m\u001b[1;33m)\u001b[0m\u001b[1;33m\u001b[0m\u001b[0m\n\u001b[0;32m     28\u001b[0m     \u001b[1;32mreturn\u001b[0m \u001b[0maspect_words_dict\u001b[0m\u001b[1;33m,\u001b[0m \u001b[0mword_aspect_dict\u001b[0m\u001b[1;33m\u001b[0m\u001b[0m\n",
      "\u001b[1;32m~\\AppData\\Local\\Temp/ipykernel_18924/771642065.py\u001b[0m in \u001b[0;36madd_synonims_to_vocab\u001b[1;34m(aspect_words_dict)\u001b[0m\n\u001b[0;32m     16\u001b[0m         \u001b[0molds_words\u001b[0m \u001b[1;33m=\u001b[0m \u001b[0mcopy\u001b[0m\u001b[1;33m.\u001b[0m\u001b[0mdeepcopy\u001b[0m\u001b[1;33m(\u001b[0m\u001b[0mwords\u001b[0m\u001b[1;33m)\u001b[0m\u001b[1;33m\u001b[0m\u001b[0m\n\u001b[0;32m     17\u001b[0m         \u001b[1;32mfor\u001b[0m \u001b[0mword\u001b[0m \u001b[1;32min\u001b[0m \u001b[0molds_words\u001b[0m\u001b[1;33m:\u001b[0m\u001b[1;33m\u001b[0m\u001b[0m\n\u001b[1;32m---> 18\u001b[1;33m             \u001b[0mresult\u001b[0m\u001b[1;33m[\u001b[0m\u001b[0maspect\u001b[0m\u001b[1;33m]\u001b[0m \u001b[1;33m+=\u001b[0m \u001b[0mget_word_synonims\u001b[0m\u001b[1;33m(\u001b[0m\u001b[0mword\u001b[0m\u001b[1;33m)\u001b[0m\u001b[1;33m\u001b[0m\u001b[0m\n\u001b[0m\u001b[0;32m     19\u001b[0m     \u001b[1;32mreturn\u001b[0m \u001b[0mresult\u001b[0m\u001b[1;33m\u001b[0m\u001b[0m\n\u001b[0;32m     20\u001b[0m \u001b[1;33m\u001b[0m\u001b[0m\n",
      "\u001b[1;32m~\\AppData\\Local\\Temp/ipykernel_18924/771642065.py\u001b[0m in \u001b[0;36mget_word_synonims\u001b[1;34m(word)\u001b[0m\n\u001b[0;32m      1\u001b[0m \u001b[1;32mdef\u001b[0m \u001b[0mget_word_synonims\u001b[0m\u001b[1;33m(\u001b[0m\u001b[0mword\u001b[0m\u001b[1;33m)\u001b[0m\u001b[1;33m:\u001b[0m\u001b[1;33m\u001b[0m\u001b[0m\n\u001b[0;32m      2\u001b[0m     \u001b[0msyns\u001b[0m \u001b[1;33m=\u001b[0m \u001b[1;33m[\u001b[0m\u001b[1;33m]\u001b[0m\u001b[1;33m\u001b[0m\u001b[0m\n\u001b[1;32m----> 3\u001b[1;33m     \u001b[1;32mfor\u001b[0m \u001b[0msyn\u001b[0m \u001b[1;32min\u001b[0m \u001b[0mwn\u001b[0m\u001b[1;33m.\u001b[0m\u001b[0msynsets\u001b[0m\u001b[1;33m(\u001b[0m\u001b[0mword\u001b[0m\u001b[1;33m)\u001b[0m\u001b[1;33m:\u001b[0m\u001b[1;33m\u001b[0m\u001b[0m\n\u001b[0m\u001b[0;32m      4\u001b[0m         \u001b[1;32mfor\u001b[0m \u001b[0ml\u001b[0m \u001b[1;32min\u001b[0m \u001b[0msyn\u001b[0m\u001b[1;33m.\u001b[0m\u001b[0mlemmas\u001b[0m\u001b[1;33m(\u001b[0m\u001b[1;33m)\u001b[0m\u001b[1;33m:\u001b[0m\u001b[1;33m\u001b[0m\u001b[0m\n\u001b[0;32m      5\u001b[0m             \u001b[0msyns\u001b[0m\u001b[1;33m.\u001b[0m\u001b[0mappend\u001b[0m\u001b[1;33m(\u001b[0m\u001b[0ml\u001b[0m\u001b[1;33m.\u001b[0m\u001b[0mname\u001b[0m\u001b[1;33m(\u001b[0m\u001b[1;33m)\u001b[0m\u001b[1;33m)\u001b[0m\u001b[1;33m\u001b[0m\u001b[0m\n",
      "\u001b[1;32mc:\\users\\jose\\appdata\\local\\programs\\python\\python37\\lib\\site-packages\\nltk\\corpus\\reader\\wordnet.py\u001b[0m in \u001b[0;36msynsets\u001b[1;34m(self, lemma, pos, lang, check_exceptions)\u001b[0m\n\u001b[0;32m   1691\u001b[0m         \u001b[0mof\u001b[0m \u001b[0mthat\u001b[0m \u001b[0mlanguage\u001b[0m \u001b[0mwill\u001b[0m \u001b[0mbe\u001b[0m \u001b[0mreturned\u001b[0m\u001b[1;33m.\u001b[0m\u001b[1;33m\u001b[0m\u001b[0m\n\u001b[0;32m   1692\u001b[0m         \"\"\"\n\u001b[1;32m-> 1693\u001b[1;33m         \u001b[0mlemma\u001b[0m \u001b[1;33m=\u001b[0m \u001b[0mlemma\u001b[0m\u001b[1;33m.\u001b[0m\u001b[0mlower\u001b[0m\u001b[1;33m(\u001b[0m\u001b[1;33m)\u001b[0m\u001b[1;33m\u001b[0m\u001b[0m\n\u001b[0m\u001b[0;32m   1694\u001b[0m \u001b[1;33m\u001b[0m\u001b[0m\n\u001b[0;32m   1695\u001b[0m         \u001b[1;32mif\u001b[0m \u001b[0mlang\u001b[0m \u001b[1;33m==\u001b[0m \u001b[1;34m\"eng\"\u001b[0m\u001b[1;33m:\u001b[0m\u001b[1;33m\u001b[0m\u001b[0m\n",
      "\u001b[1;31mAttributeError\u001b[0m: 'float' object has no attribute 'lower'"
     ]
    }
   ],
   "source": [
    "def test_build_vocabulary(n_show = 3):\n",
    "    paths = [\n",
    "        'inputs/aspects/aspects_hotels.csv',\n",
    "        'inputs/yelp_dataset/yelp_restaurants.json',\n",
    "        'inputs/amazon/Musical_Instruments_5.json'\n",
    "    ]\n",
    "    \n",
    "    for path in paths:\n",
    "        print('Obtaining vocab from file file {}\\n'.format(path))\n",
    "        \n",
    "        _, simple_vocab = build_simple_vocab(path)\n",
    "        _, complex_vocab = build_vocab(path)\n",
    "        \n",
    "        print(\"Simple vocab. length: {}\".format(len(simple_vocab.keys())))\n",
    "        print(\"With-synonyms vocab. length: {}\".format(len(complex_vocab.keys())))\n",
    "\n",
    "test_build_vocabulary()"
   ]
  },
  {
   "cell_type": "markdown",
   "id": "dbbb1631",
   "metadata": {},
   "source": [
    "### Aquidejemilectura\n",
    "\n",
    "- Terminar el test roto\n",
    "- Utilizar el siguiente codigo (metido en una funcion) a partir del nuevo vocab (esta arriba antes usado mirar ejemplo!):\n",
    "\n",
    "```\n",
    "for review, aspects in zip(hotel_reviews[:3], refered_aspects[:3]):\n",
    "    print('\\tReview: {} \\n\\tAspects: {} \\n'.format(review['reviewText'], aspects))\n",
    "```\n",
    "\n",
    "### TODOS\n",
    "\n",
    "- Hacer el 2.4\n",
    "- En el 2.2, meter hiponimos e hipernonimos a parte de sinonimos?"
   ]
  }
 ],
 "metadata": {
  "kernelspec": {
   "display_name": "Python 3 (ipykernel)",
   "language": "python",
   "name": "python3"
  },
  "language_info": {
   "codemirror_mode": {
    "name": "ipython",
    "version": 3
   },
   "file_extension": ".py",
   "mimetype": "text/x-python",
   "name": "python",
   "nbconvert_exporter": "python",
   "pygments_lexer": "ipython3",
   "version": "3.7.0"
  }
 },
 "nbformat": 4,
 "nbformat_minor": 5
}
