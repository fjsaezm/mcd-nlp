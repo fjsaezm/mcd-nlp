{
 "cells": [
  {
   "cell_type": "code",
   "execution_count": 40,
   "id": "b7a19d25",
   "metadata": {},
   "outputs": [],
   "source": [
    "import json\n",
    "import csv\n",
    "import nltk\n",
    "import pandas as pd\n",
    "from collections import defaultdict\n",
    "import copy\n",
    "import itertools\n",
    "import matplotlib.pyplot as plt\n",
    "import numpy as np\n",
    "from pprint import pprint # For nice printing\n",
    "\n",
    "# NLK dependencies\n",
    "# nltk.download('wordnet')\n",
    "# nltk.download('omw-1.4')\n",
    "# nltk.download('punkt')\n",
    "# nltk.download('opinion_lexicon')\n",
    "# nltk.download('sentiwordnet')\n",
    "# nltk.download('averaged_perceptron_tagger')\n",
    "# nltk.download('tagsets')\n",
    "\n",
    "# Assignment 2\n",
    "from nltk.corpus import wordnet as wn\n",
    "from nltk import word_tokenize\n",
    "\n",
    "# Assignment 3\n",
    "from nltk.corpus import opinion_lexicon\n",
    "from nltk.corpus import sentiwordnet as swn"
   ]
  },
  {
   "cell_type": "markdown",
   "id": "1166aa33",
   "metadata": {},
   "source": [
    "# Assignment 1\n",
    "\n",
    "### Task 1.1 \n",
    "**Loading all the hotel reviews from the Yelp hotel reviews file.**\n",
    "\n",
    "### Task 1.2 (optional) \n",
    "\n",
    "**Loading line by line the reviews from the Yelp beauty/spa resorts and restaurants reviews files.**\n",
    "\n",
    "### Task 1.3 (optional) \n",
    "\n",
    "**Loading line by line reviews on other domains (e.g., movies, books, phones, digital music, CDs and videogames) from McAuley’s Amazon dataset.**\n",
    "\n",
    "We tackle all of these tasks at the same time since a general enough functions solves all of them directly. The function `load_json_line_by_line()` reads a json file line by line and returns the dataset built.\n",
    "\n",
    "We additionaly created a test function that tests the loading of all the described datasets. We have selected the Amazon cell phones and accesories dataset because it is big enough without being huge and we also have the required aspects for it (see tasks 2.1 to 2.3)."
   ]
  },
  {
   "cell_type": "code",
   "execution_count": 12,
   "id": "3b66b516",
   "metadata": {},
   "outputs": [
    {
     "name": "stdout",
     "output_type": "stream",
     "text": [
      "Reading file inputs/yelp_dataset/yelp_hotels.json\n",
      "\n",
      "5034 reviews loaded\n",
      "\n",
      "Example review: {'reviewerID': 'qLCpuCWCyPb4G2vN-WZz-Q', 'asin': '8ZwO9VuLDWJOXmtAdc7LXQ', 'summary': 'summary', 'reviewText': \"Great hotel in Central Phoenix for a stay-cation, but not necessarily a place to stay out of town and without a car. Not much around the area, and unless you're familiar with downtown, I would rather have a guest stay in Old Town Scottsdale, etc. BUT if you do stay here, it's awesome. Great boutique rooms. Awesome pool that's happening in the summer. A GREAT rooftop patio bar, and a very very busy lobby with Gallo Blanco attached. A great place to stay, but have a car!\", 'overall': 4.0}\n",
      "\n",
      "Reading file inputs/yelp_dataset/yelp_beauty_spas.json\n",
      "\n",
      "5579 reviews loaded\n",
      "\n",
      "Example review: {'reviewerID': 'Xm8HXE1JHqscXe5BKf0GFQ', 'asin': 'WGNIYMeXPyoWav1APUq7jA', 'summary': 'summary', 'reviewText': \"Good tattoo shop. Clean space, multiple artists to choose from and books of their work are available for you to look though and decide who's style most mirrors what you're looking for. I chose Jet to do a cover-up for me and he worked with me on the design and our ideas and communication flowed very well. He's a very personable guy, is friendly and keeps the conversation going while he's working on you, and he doesn't dick around (read: He starts to work and continues until the job is done). He's very professional and informative. Good customer service combines with talent at the craft.\", 'overall': 4.0}\n",
      "\n",
      "Reading file inputs/yelp_dataset/yelp_restaurants.json\n",
      "\n",
      "158430 reviews loaded\n",
      "\n",
      "Example review: {'reviewerID': 'rLtl8ZkDX5vH5nAx9C3q5Q', 'asin': '9yKzy9PApeiPPOUJEtnvkg', 'summary': 'summary', 'reviewText': 'My wife took me here on my birthday for breakfast and it was excellent. The weather was perfect which made sitting outside overlooking their grounds an absolute pleasure. Our waitress was excellent and our food arrived quickly on the semi-busy Saturday morning. It looked like the place fills up pretty quickly so the earlier you get here the better.Do yourself a favor and get their Bloody Mary. It was phenomenal and simply the best I\\'ve ever had. I\\'m pretty sure they only use ingredients from their garden and blend them fresh when you order it. It was amazing.While EVERYTHING on the menu looks excellent, I had the white truffle scrambled eggs vegetable skillet and it was tasty and delicious. It came with 2 pieces of their griddled bread with was amazing and it absolutely made the meal complete. It was the best \"toast\" I\\'ve ever had.Anyway, I can\\'t wait to go back!', 'overall': 5.0}\n",
      "\n",
      "Reading file inputs/amazon/Cell_Phones_and_Accessories_5.json\n",
      "\n",
      "194439 reviews loaded\n",
      "\n",
      "Example review: {'reviewerID': 'A30TL5EWN6DFXT', 'asin': '120401325X', 'reviewerName': 'christina', 'helpful': [0, 0], 'reviewText': \"They look good and stick good! I just don't like the rounded shape because I was always bumping it and Siri kept popping up and it was irritating. I just won't buy a product like this again\", 'overall': 4.0, 'summary': 'Looks Good', 'unixReviewTime': 1400630400, 'reviewTime': '05 21, 2014'}\n",
      "\n"
     ]
    }
   ],
   "source": [
    "hotels_path = 'inputs/yelp_dataset/yelp_hotels.json'\n",
    "\n",
    "\n",
    "def load_json_line_by_line(path):\n",
    "    reviews = []\n",
    "    with open(path, encoding='utf-8') as file:\n",
    "        for line in file:\n",
    "            # If line ends with a coma, remove it.\n",
    "            if len(line) > 2:\n",
    "                line = line[:-2] if line[-2] == ',' else line[:-1]\n",
    "                reviews.append(json.loads(line))\n",
    "    return reviews\n",
    "\n",
    "\n",
    "def test_load_json_line_by_line():\n",
    "    paths = [\n",
    "        'inputs/yelp_dataset/yelp_hotels.json',\n",
    "        'inputs/yelp_dataset/yelp_beauty_spas.json',\n",
    "        'inputs/yelp_dataset/yelp_restaurants.json',\n",
    "        'inputs/amazon/Cell_Phones_and_Accessories_5.json'\n",
    "    ]\n",
    "\n",
    "    for path in paths:\n",
    "        print('Reading file {}\\n'.format(path))\n",
    "        reviews = load_json_line_by_line(path)\n",
    "        print('{} reviews loaded\\n'.format(len(reviews)))\n",
    "        print('Example review: {}\\n'.format(reviews[0]))\n",
    "\n",
    "\n",
    "test_load_json_line_by_line()"
   ]
  },
  {
   "cell_type": "markdown",
   "id": "67c01a26",
   "metadata": {},
   "source": [
    "# Assignment 2\n",
    "\n",
    "### Task 2.1\n",
    "\n",
    "**Loading (and printing on screen) the vocabulary of the `aspects_hotels.csv` file, and directly using it to identify aspect references in the reviews. In particular, the aspects terms could be mapped by exact matching with nouns appearing in the reviews.**\n",
    "\n",
    "We will compute a dictionary that matches a certain aspect to every word related to it. It will usually be called `aspect_words_dict`. This will optimize knowing which aspect is related to each word.\n",
    "\n",
    "The function `build_simple_vocab` creates this dictionary given a path to the file with the initial vocabulary."
   ]
  },
  {
   "cell_type": "code",
   "execution_count": 13,
   "id": "ff06369e",
   "metadata": {
    "scrolled": true
   },
   "outputs": [
    {
     "data": {
      "text/plain": [
       "defaultdict(str,\n",
       "            {'amenity': 'amenities',\n",
       "             'amenities': 'amenities',\n",
       "             'services': 'amenities',\n",
       "             'atmosphere': 'atmosphere',\n",
       "             'atmospheres': 'atmosphere',\n",
       "             'ambiance': 'atmosphere',\n",
       "             'ambiances': 'atmosphere',\n",
       "             'light': 'atmosphere',\n",
       "             'lighting': 'atmosphere',\n",
       "             'lights': 'atmosphere',\n",
       "             'music': 'atmosphere',\n",
       "             'bar': 'bar',\n",
       "             'bars': 'bar',\n",
       "             'bartender': 'bar',\n",
       "             'bartenders': 'bar',\n",
       "             'bathroom': 'bathrooms',\n",
       "             'bathrooms': 'bathrooms',\n",
       "             'bath': 'bathrooms',\n",
       "             'baths': 'bathrooms',\n",
       "             'bathtub': 'bathrooms',\n",
       "             'bathtubs': 'bathrooms',\n",
       "             'shampoo': 'bathrooms',\n",
       "             'shampoos': 'bathrooms',\n",
       "             'shower': 'bathrooms',\n",
       "             'showers': 'bathrooms',\n",
       "             'towel': 'bathrooms',\n",
       "             'towels': 'bathrooms',\n",
       "             'tub': 'bathrooms',\n",
       "             'tubs': 'bathrooms',\n",
       "             'bedroom': 'bedrooms',\n",
       "             'bedrooms': 'bedrooms',\n",
       "             'bed': 'bedrooms',\n",
       "             'beds': 'bedrooms',\n",
       "             'pillow': 'bedrooms',\n",
       "             'pillows': 'bedrooms',\n",
       "             'sheet': 'bedrooms',\n",
       "             'sheets': 'bedrooms',\n",
       "             'sleep': 'bedrooms',\n",
       "             'suite': 'bedrooms',\n",
       "             'suites': 'bedrooms',\n",
       "             'booking': 'booking',\n",
       "             'book': 'booking',\n",
       "             'reservation': 'booking',\n",
       "             'reservations': 'booking',\n",
       "             'reserve': 'booking',\n",
       "             'breakfast': 'breakfast',\n",
       "             'breakfasts': 'breakfast',\n",
       "             'morning': 'breakfast',\n",
       "             'mornings': 'breakfast',\n",
       "             'toast': 'breakfast',\n",
       "             'toasts': 'breakfast',\n",
       "             'moorning meal': 'breakfast',\n",
       "             'moorning menu': 'breakfast',\n",
       "             'building': 'building',\n",
       "             'buildings': 'building',\n",
       "             'architecture': 'building',\n",
       "             'architectures': 'building',\n",
       "             'decor': 'building',\n",
       "             'decoration': 'building',\n",
       "             'decorations': 'building',\n",
       "             'furniture': 'building',\n",
       "             'furnitures': 'building',\n",
       "             'garden': 'building',\n",
       "             'gardens': 'building',\n",
       "             'hall': 'building',\n",
       "             'halls': 'building',\n",
       "             'lobbies': 'building',\n",
       "             'lobby': 'building',\n",
       "             'lounge': 'building',\n",
       "             'lounges': 'building',\n",
       "             'patio': 'building',\n",
       "             'patios': 'building',\n",
       "             'salon': 'building',\n",
       "             'salons': 'building',\n",
       "             'spot': 'building',\n",
       "             'spots': 'building',\n",
       "             'checkin': 'checking',\n",
       "             'check-in': 'checking',\n",
       "             'check in': 'checking',\n",
       "             'check ins': 'checking',\n",
       "             'check out': 'checking',\n",
       "             'check outs': 'checking',\n",
       "             'checking': 'checking',\n",
       "             'checkins': 'checking',\n",
       "             'check-ins': 'checking',\n",
       "             'checkout': 'checking',\n",
       "             'check-out': 'checking',\n",
       "             'checkouts': 'checking',\n",
       "             'check-outs': 'checking',\n",
       "             'check': 'checking',\n",
       "             'checks': 'checking',\n",
       "             'registration': 'checking',\n",
       "             'registrations': 'checking',\n",
       "             'cleanliness': 'cleanliness',\n",
       "             'clean': 'cleanliness',\n",
       "             'cleaned': 'cleanliness',\n",
       "             'cleaning': 'cleanliness',\n",
       "             'dirt': 'cleanliness',\n",
       "             'dirty': 'cleanliness',\n",
       "             'smell': 'cleanliness',\n",
       "             'coffee': 'coffee',\n",
       "             'coffees': 'coffee',\n",
       "             'cafe': 'coffee',\n",
       "             'cafes': 'coffee',\n",
       "             'tea': 'coffee',\n",
       "             'teas': 'coffee',\n",
       "             'cuisine': 'cuisine',\n",
       "             'cuisines': 'cuisine',\n",
       "             'dishe': 'cuisine',\n",
       "             'dishes': 'cuisine',\n",
       "             'food': 'cuisine',\n",
       "             'foods': 'cuisine',\n",
       "             'meal': 'cuisine',\n",
       "             'meals': 'cuisine',\n",
       "             'menu': 'cuisine',\n",
       "             'menus': 'cuisine',\n",
       "             'plate': 'cuisine',\n",
       "             'plates': 'cuisine',\n",
       "             'buffet': 'cuisine',\n",
       "             'buffets': 'cuisine',\n",
       "             'dinner': 'dinner',\n",
       "             'dinners': 'dinner',\n",
       "             'evening meal': 'dinner',\n",
       "             'evening menu': 'dinner',\n",
       "             'night meal': 'dinner',\n",
       "             'night menu': 'dinner',\n",
       "             'drink': 'drinks',\n",
       "             'drinks': 'drinks',\n",
       "             'beer': 'drinks',\n",
       "             'beers': 'drinks',\n",
       "             'wine': 'drinks',\n",
       "             'wines': 'drinks',\n",
       "             'event': 'events',\n",
       "             'events': 'events',\n",
       "             'activity': 'events',\n",
       "             'activities': 'events',\n",
       "             'party': 'events',\n",
       "             'parties': 'events',\n",
       "             'trip': 'events',\n",
       "             'trips': 'events',\n",
       "             'facilities': 'facilities',\n",
       "             'facility': 'facilities',\n",
       "             'equipment': 'facilities',\n",
       "             'gym': 'gym',\n",
       "             'gyms': 'gym',\n",
       "             'internet': 'internet',\n",
       "             'wi fi': 'internet',\n",
       "             'wifi': 'internet',\n",
       "             'wi-fi': 'internet',\n",
       "             'wireless': 'internet',\n",
       "             'location': 'location',\n",
       "             'locations': 'location',\n",
       "             'beach': 'location',\n",
       "             'beaches': 'location',\n",
       "             'environment': 'location',\n",
       "             'environments': 'location',\n",
       "             'lake': 'location',\n",
       "             'lakes': 'location',\n",
       "             'landscape': 'location',\n",
       "             'landscapes': 'location',\n",
       "             'mountain': 'location',\n",
       "             'mountains': 'location',\n",
       "             'neighborhood': 'location',\n",
       "             'neighborhoods': 'location',\n",
       "             'neighbourhood': 'location',\n",
       "             'neighbourhoods': 'location',\n",
       "             'river': 'location',\n",
       "             'rivers': 'location',\n",
       "             'situation': 'location',\n",
       "             'situations': 'location',\n",
       "             'street': 'location',\n",
       "             'streets': 'location',\n",
       "             'surrounding': 'location',\n",
       "             'surroundings': 'location',\n",
       "             'tree': 'location',\n",
       "             'trees': 'location',\n",
       "             'valley': 'location',\n",
       "             'valleys': 'location',\n",
       "             'view': 'location',\n",
       "             'views': 'location',\n",
       "             'lunch': 'lunch',\n",
       "             'lunches': 'lunch',\n",
       "             'afternoon meal': 'lunch',\n",
       "             'afternoon menu': 'lunch',\n",
       "             'noon meal': 'lunch',\n",
       "             'noon menu': 'lunch',\n",
       "             'parking': 'parking',\n",
       "             'parkings': 'parking',\n",
       "             'pool': 'pool',\n",
       "             'pools': 'pool',\n",
       "             'swimming': 'pool',\n",
       "             'swimming pool': 'pool',\n",
       "             'swimming pools': 'pool',\n",
       "             'swimmingpool': 'pool',\n",
       "             'swimmingpools': 'pool',\n",
       "             'price': 'price',\n",
       "             'prices': 'price',\n",
       "             'priced': 'price',\n",
       "             'pricing': 'price',\n",
       "             'budget': 'price',\n",
       "             'budgets': 'price',\n",
       "             'charge': 'price',\n",
       "             'cost': 'price',\n",
       "             'costs': 'price',\n",
       "             'fee': 'price',\n",
       "             'fees': 'price',\n",
       "             'money': 'price',\n",
       "             'restaurant': 'restaurant',\n",
       "             'restaurants': 'restaurant',\n",
       "             'restroom': 'restrooms',\n",
       "             'restrooms': 'restrooms',\n",
       "             'toilet': 'restrooms',\n",
       "             'toilets': 'restrooms',\n",
       "             'service': 'service',\n",
       "             'serving': 'service',\n",
       "             'servings': 'service',\n",
       "             'attention': 'service',\n",
       "             'attentions': 'service',\n",
       "             'attitude': 'service',\n",
       "             'attitudes': 'service',\n",
       "             'server': 'service',\n",
       "             'servers': 'service',\n",
       "             'shopping': 'shopping',\n",
       "             'shop': 'shopping',\n",
       "             'shops': 'shopping',\n",
       "             'store': 'shopping',\n",
       "             'stores': 'shopping',\n",
       "             'boutique': 'shopping',\n",
       "             'boutiques': 'shopping',\n",
       "             'mall': 'shopping',\n",
       "             'malls': 'shopping',\n",
       "             'spa': 'spa',\n",
       "             'spas': 'spa',\n",
       "             'sauna': 'spa',\n",
       "             'saunas': 'spa',\n",
       "             'jacuzzi': 'spa',\n",
       "             'jacuzzis': 'spa',\n",
       "             'staff': 'staff',\n",
       "             'worker': 'staff',\n",
       "             'workers': 'staff',\n",
       "             'bellhop': 'staff',\n",
       "             'bellhops': 'staff',\n",
       "             'boss': 'staff',\n",
       "             'bosses': 'staff',\n",
       "             'cashier': 'staff',\n",
       "             'employee': 'staff',\n",
       "             'employees': 'staff',\n",
       "             'hostess': 'staff',\n",
       "             'manager': 'staff',\n",
       "             'managers': 'staff',\n",
       "             'owner': 'staff',\n",
       "             'owners': 'staff',\n",
       "             'patron': 'staff',\n",
       "             'patrons': 'staff',\n",
       "             'receptionist': 'staff',\n",
       "             'receptionists': 'staff',\n",
       "             'temperature': 'temperature',\n",
       "             'temperatures': 'temperature',\n",
       "             'transport': 'transportation',\n",
       "             'transportation': 'transportation',\n",
       "             'transportations': 'transportation',\n",
       "             'bus': 'transportation',\n",
       "             'buses': 'transportation',\n",
       "             'cap': 'transportation',\n",
       "             'caps': 'transportation',\n",
       "             'car': 'transportation',\n",
       "             'cars': 'transportation',\n",
       "             'metro': 'transportation',\n",
       "             'metros': 'transportation',\n",
       "             'shuttle': 'transportation',\n",
       "             'shuttles': 'transportation',\n",
       "             'subway': 'transportation',\n",
       "             'subways': 'transportation',\n",
       "             'taxi': 'transportation',\n",
       "             'taxis': 'transportation',\n",
       "             'train': 'transportation',\n",
       "             'trains': 'transportation',\n",
       "             'tube': 'transportation',\n",
       "             'tubes': 'transportation',\n",
       "             'vehicle': 'transportation',\n",
       "             'vehicles': 'transportation'})"
      ]
     },
     "execution_count": 13,
     "metadata": {},
     "output_type": "execute_result"
    }
   ],
   "source": [
    "aspect_hotels_path = 'inputs/aspects/aspects_hotels.csv'\n",
    "\n",
    "\n",
    "def load_vocab(path):\n",
    "    vocab = pd.read_csv(path, names=['aspect', 'word'])\n",
    "    return vocab.groupby('aspect')['word'].apply(list)\n",
    "\n",
    "\n",
    "def create_word_to_aspects_dict(aspect_words_dict):\n",
    "    '''\n",
    "        This function transforms an 'aspect to words'\n",
    "        dictionary to a 'word to aspect' default dictionary\n",
    "    '''\n",
    "    word_aspect_dict = defaultdict(str)\n",
    "    for aspect, words in aspect_words_dict.items():\n",
    "        for word in words:\n",
    "            word_aspect_dict[word] = aspect\n",
    "    return word_aspect_dict\n",
    "\n",
    "\n",
    "def build_simple_vocab(path):\n",
    "    aspect_words_dict = load_vocab(path)\n",
    "    word_aspect_dict = create_word_to_aspects_dict(aspect_words_dict)\n",
    "    return word_aspect_dict\n",
    "\n",
    "\n",
    "build_simple_vocab(aspect_hotels_path)"
   ]
  },
  {
   "cell_type": "markdown",
   "id": "10ebd488",
   "metadata": {},
   "source": [
    "In the following cells we compute the aspects referenced by each review and display the result for the first few reviews."
   ]
  },
  {
   "cell_type": "code",
   "execution_count": 14,
   "id": "dcdd61d7",
   "metadata": {},
   "outputs": [],
   "source": [
    "def get_text_vocabulary(text):\n",
    "    '''\n",
    "        Returns a list of the words from\n",
    "        the given text.\n",
    "    '''\n",
    "    # Tokenize the text\n",
    "    tokens = nltk.word_tokenize(text)\n",
    "\n",
    "    # Obtain the words\n",
    "    return [w.lower() for w in tokens if w.isalnum()]\n",
    "\n",
    "\n",
    "def find_aspects_in_reviews(reviews, word_aspect_dict):\n",
    "    '''\n",
    "        Given a list of reviews, returns a set with the\n",
    "        aspects that each review references.\n",
    "    '''\n",
    "    # Initialize references list\n",
    "    refered_aspects = []\n",
    "\n",
    "    for review in reviews:\n",
    "        # Obtain review vocabulary\n",
    "        r_vocab = get_text_vocabulary(review['reviewText'])\n",
    "\n",
    "        # Search for words related to aspects and append\n",
    "        # to vector if word appears\n",
    "        refered_aspects.append(set([\n",
    "            word_aspect_dict[word] for word in r_vocab if word_aspect_dict[word] != ''\n",
    "        ]))\n",
    "\n",
    "    return refered_aspects"
   ]
  },
  {
   "cell_type": "code",
   "execution_count": 15,
   "id": "1934bb0c",
   "metadata": {},
   "outputs": [
    {
     "name": "stdout",
     "output_type": "stream",
     "text": [
      "\tReview: Great hotel in Central Phoenix for a stay-cation, but not necessarily a place to stay out of town and without a car. Not much around the area, and unless you're familiar with downtown, I would rather have a guest stay in Old Town Scottsdale, etc. BUT if you do stay here, it's awesome. Great boutique rooms. Awesome pool that's happening in the summer. A GREAT rooftop patio bar, and a very very busy lobby with Gallo Blanco attached. A great place to stay, but have a car! \n",
      "\tAspects: {'bar', 'transportation', 'pool', 'shopping', 'building'} \n",
      "\n",
      "\tReview: I feel the Days Inn Tempe is best described as \"a place where you can purchase the right to sleep for awhile.\" I booked my 10-night stay on Travelocity for a non-smoking room, yet when I entered the room I almost choked. It was disgusting. I've never had a smoking hotel room before and I will make sure I don't again. They said they couldn't move us to a different room.My local lady friend brought over a bottle of wine but forgot a corkscrew. No big deal, I thought to myself, as the front desk of a hotel will surely have a corkscrew. Nope. Coors Light it is.The towels felt like they were made of cow tongue, and they missed our wakeup call one morning making me late for a training class that had cost me about $500.I'm awarding one star in addition to the minimum one-star rating because I got to drink cheap beer by the pool in 90 degree weather for 10 days, and there are a few good places to eat and two dollar stores very nearby. The dollar store had a corkscrew. \n",
      "\tAspects: {'shopping', 'breakfast', 'bathrooms', 'drinks', 'pool', 'price', 'bedrooms', 'atmosphere'} \n",
      "\n",
      "\tReview: My wife and I decided to take a little vaca to celebrate our 13th anniversary and also was the first time that we were traveling with our 5-month old, so you can imagine we were a little apprehensive. The resort is absolutely top-notch, the rooms are very spacious, the staff is very courteous, and the facilities are simply superb. Our room overlooked the mountain, and in the morning, it was blissful to sit outside and sip on our cups of joe. The rooms have a microwave and a small fridge, something that was invaluable to us to store milk and warm it up for our little one. The spa is simply one of the best in the valley, and even if you don't stay here, I would recommend the spa to anyone. The resort is close to at least 20 golf courses, something that might be important to other golf nuts like me. So then why not 5 stars? Simply because they would not extend the check-out time for us by even an hour. The check-out is 11 am and our flight was delayed to 8 pm, so when I requested, I was told VERY NICELY, but firmly that it wasn't going to happen. I've traveled some, and have NEVER been turned down for a late check-out request, ever. Still, a great place to stay, the facilities are top-notch, the staff is very nice, and we had a wonderful time. Would recommend this to anyone wanting a relaxing, fun experience in the Valley of the Sun. Cheers. \n",
      "\tAspects: {'spa', 'breakfast', 'location', 'shopping', 'staff', 'facilities'} \n",
      "\n"
     ]
    }
   ],
   "source": [
    "hotel_reviews = load_json_line_by_line(hotels_path)\n",
    "word_aspect_dict = build_simple_vocab(aspect_hotels_path)\n",
    "refered_aspects = find_aspects_in_reviews(hotel_reviews, word_aspect_dict)\n",
    "\n",
    "for review, aspects in zip(hotel_reviews[:3], refered_aspects[:3]):\n",
    "    print('\\tReview: {} \\n\\tAspects: {} \\n'.format(\n",
    "        review['reviewText'], aspects))"
   ]
  },
  {
   "cell_type": "markdown",
   "id": "53eb5086",
   "metadata": {},
   "source": [
    "### Task 2.2 (optional)\n",
    "\n",
    "**Generating or extending the lists of terms of each aspect with synonyms extracted from WordNet.**\n",
    "\n",
    "For this second task we expand the vocabulty using synonims extracted from Wordnet. The function `build_vocab()` is analogous to the previous `build_simple_vocab()` but takes this synonims into account."
   ]
  },
  {
   "cell_type": "code",
   "execution_count": 16,
   "id": "03e87059",
   "metadata": {
    "scrolled": true
   },
   "outputs": [],
   "source": [
    "def get_word_synonims(word):\n",
    "    syns = []\n",
    "    for syn in wn.synsets(word):\n",
    "        for l in syn.lemmas():\n",
    "            syns.append(l.name())\n",
    "    return syns\n",
    "\n",
    "\n",
    "def add_synonims_to_vocab(word_aspect_dict):\n",
    "    '''\n",
    "        Given a vocabulary, extends it by adding the synonims\n",
    "        of each word.\n",
    "    '''\n",
    "    result = copy.deepcopy(word_aspect_dict)\n",
    "    for word, aspect in word_aspect_dict.items():\n",
    "        for synonym in get_word_synonims(word):\n",
    "            result[synonym] = aspect\n",
    "    return result\n",
    "\n",
    "\n",
    "def build_vocab(path, add_synonyms = True):\n",
    "    '''\n",
    "        Builds a vocabulary taking synonims into account.\n",
    "    '''\n",
    "    aspect_words_dict = load_vocab(path)\n",
    "    word_aspect_dict = create_word_to_aspects_dict(aspect_words_dict)\n",
    "    word_aspect_dict_extended = add_synonims_to_vocab(word_aspect_dict)\n",
    "    return word_aspect_dict_extended"
   ]
  },
  {
   "cell_type": "markdown",
   "id": "8e988a23",
   "metadata": {},
   "source": [
    "### Task 2.3 (optional)\n",
    "\n",
    "**Managing vocabularies for additional Yelp or Amazon domains. See assignments 1.2 and 1.3**\n",
    "\n",
    "Extended our previous functions to the new datasets is trivial. We simple need to load the correct aspects for each review. The following test function computes the following for the Yelp hotels, Yelp restaurants and Amazon phones datasets:\n",
    "\n",
    "- Load the reviews and build both the simple and complex vocabularies.\n",
    "- Print the aspects found in the first few reviews with each vocabulary.\n",
    "- Print the number of words in both the simple and extended vocabulary for comparison."
   ]
  },
  {
   "cell_type": "code",
   "execution_count": 17,
   "id": "b8a67728",
   "metadata": {
    "scrolled": true
   },
   "outputs": [
    {
     "name": "stdout",
     "output_type": "stream",
     "text": [
      "----- Yelp hotels dataset -----\n",
      "\n",
      "\\tReview: Great hotel in Central Phoenix for a stay-cation, but not necessarily a place to stay out of town and without a car. Not much around the area, and unless you're familiar with downtown, I would rather have a guest stay in Old Town Scottsdale, etc. BUT if you do stay here, it's awesome. Great boutique rooms. Awesome pool that's happening in the summer. A GREAT rooftop patio bar, and a very very busy lobby with Gallo Blanco attached. A great place to stay, but have a car! \\n\\tAspects: {'bar', 'transportation', 'pool', 'shopping', 'building'} \\n\\tExtended Vocab Aspects: {'bar', 'service', 'transportation', 'location', 'pool', 'shopping', 'bedrooms', 'checking', 'building'} \\n\n",
      "\\tReview: I feel the Days Inn Tempe is best described as \"a place where you can purchase the right to sleep for awhile.\" I booked my 10-night stay on Travelocity for a non-smoking room, yet when I entered the room I almost choked. It was disgusting. I've never had a smoking hotel room before and I will make sure I don't again. They said they couldn't move us to a different room.My local lady friend brought over a bottle of wine but forgot a corkscrew. No big deal, I thought to myself, as the front desk of a hotel will surely have a corkscrew. Nope. Coors Light it is.The towels felt like they were made of cow tongue, and they missed our wakeup call one morning making me late for a training class that had cost me about $500.I'm awarding one star in addition to the minimum one-star rating because I got to drink cheap beer by the pool in 90 degree weather for 10 days, and there are a few good places to eat and two dollar stores very nearby. The dollar store had a corkscrew. \\n\\tAspects: {'shopping', 'breakfast', 'bathrooms', 'drinks', 'pool', 'price', 'bedrooms', 'atmosphere'} \\n\\tExtended Vocab Aspects: {'restrooms', 'shopping', 'breakfast', 'bathrooms', 'service', 'location', 'drinks', 'pool', 'price', 'bedrooms', 'checking', 'building', 'cleanliness'} \\n\n",
      "Words in simple vocab: 427\n",
      "Words in complex vocab: 1473\n",
      "\n",
      "----- Yelp restaurants dataset -----\n",
      "\n",
      "\\tReview: My wife took me here on my birthday for breakfast and it was excellent. The weather was perfect which made sitting outside overlooking their grounds an absolute pleasure. Our waitress was excellent and our food arrived quickly on the semi-busy Saturday morning. It looked like the place fills up pretty quickly so the earlier you get here the better.Do yourself a favor and get their Bloody Mary. It was phenomenal and simply the best I've ever had. I'm pretty sure they only use ingredients from their garden and blend them fresh when you order it. It was amazing.While EVERYTHING on the menu looks excellent, I had the white truffle scrambled eggs vegetable skillet and it was tasty and delicious. It came with 2 pieces of their griddled bread with was amazing and it absolutely made the meal complete. It was the best \"toast\" I've ever had.Anyway, I can't wait to go back! \\n\\tAspects: {'breakfast', 'eggs', 'seating', 'staff', 'menu', 'bread', 'vegetables', 'food', 'building'} \\n\\tExtended Vocab Aspects: {'breakfast', 'eggs', 'seating', 'staff', 'menu', 'bread', 'drinks', 'vegetables', 'food', 'building', 'cleanliness'} \\n\n",
      "\\tReview: I have no idea why some people give bad reviews about this place. It goes to show you, you can please everyone. They are probably griping about something that their own fault...there are many people like that.In any case, my friend and I arrived at about 5:50 PM this past Sunday. It was pretty crowded, more than I thought for a Sunday evening and thought we would have to wait forever to get a seat but they said we'll be seated when the girl comes back from seating someone else. We were seated at 5:52 and the waiter came and got our drink orders. Everyone was very pleasant from the host that seated us to the waiter to the server. The prices were very good as well. We placed our orders once we decided what we wanted at 6:02. We shared the baked spaghetti calzone and the small \"Here's The Beef\" pizza so we can both try them. The calzone was huge and we got the smallest one (personal) and got the small 11\" pizza. Both were awesome! My friend liked the pizza better and I liked the calzone better. The calzone does have a sweetish sauce but that's how I like my sauce!We had to box part of the pizza to take it home and we were out the door by 6:42. So, everything was great and not like these bad reviewers. That goes to show you that you have to try these things yourself because all these bad reviewers have some serious issues. \\n\\tAspects: {'meat', 'italian', 'seating', 'sauces', 'service', 'drinks', 'price', 'staff'} \\n\\tExtended Vocab Aspects: {'meat', 'food_quantity', 'italian', 'seating', 'sauces', 'transportation', 'menu', 'drinks', 'location', 'food_taste', 'price', 'staff'} \\n\n",
      "Words in simple vocab: 521\n",
      "Words in complex vocab: 1799\n",
      "\n",
      "----- Amazon cell phones and accesories dataset -----\n",
      "\n",
      "\\tReview: They look good and stick good! I just don't like the rounded shape because I was always bumping it and Siri kept popping up and it was irritating. I just won't buy a product like this again \\n\\tAspects: {'appearance'} \\n\\tExtended Vocab Aspects: {'sound', 'appearance', 'configuration'} \\n\n",
      "\\tReview: These stickers work like the review says they do. They stick on great and they stay on the phone. They are super stylish and I can share them with my sister. :) \\n\\tAspects: set() \\n\\tExtended Vocab Aspects: {'sound'} \\n\n",
      "Words in simple vocab: 222\n",
      "Words in complex vocab: 871\n",
      "\n"
     ]
    }
   ],
   "source": [
    "def test_expand_vocab(reviews_path, aspects_path,\n",
    "                      n_displayed_reviews=3):\n",
    "    '''\n",
    "        This functions displayes the refered aspects in the first,\n",
    "        n_displayed_reviews reviews using both vocabularies,\n",
    "    '''\n",
    "    reviews = load_json_line_by_line(reviews_path)\n",
    "\n",
    "    simple_vocab = build_simple_vocab(aspects_path)\n",
    "    complex_vocab = build_vocab(aspects_path)\n",
    "\n",
    "    refered_aspects = find_aspects_in_reviews(\n",
    "        reviews[:n_displayed_reviews], simple_vocab)\n",
    "    refered_aspects_extended = find_aspects_in_reviews(\n",
    "        reviews[:n_displayed_reviews], complex_vocab)\n",
    "    for review, aspects, extended_aspects in zip(reviews[:n_displayed_reviews],\n",
    "                                                 refered_aspects,\n",
    "                                                 refered_aspects_extended):\n",
    "        print('\\\\tReview: {} \\\\n\\\\tAspects: {} \\\\n\\\\tExtended Vocab Aspects: {} \\\\n'.format(\n",
    "            review['reviewText'], aspects, extended_aspects))\n",
    "    return simple_vocab, complex_vocab,\n",
    "    _ = test_expand_vocab(hotels_path, aspect_hotels_path)\n",
    "\n",
    "def test_build_vocabulary(n_displayed_reviews=1):\n",
    "    test_case_names = [\n",
    "        'Yelp hotels',\n",
    "        'Yelp restaurants',\n",
    "        'Amazon cell phones and accesories'\n",
    "    ]\n",
    "    reviews_paths = [\n",
    "        'inputs/yelp_dataset/yelp_hotels.json',\n",
    "        'inputs/yelp_dataset/yelp_restaurants.json',\n",
    "        'inputs/amazon/Cell_Phones_and_Accessories_5.json'\n",
    "    ]\n",
    "    aspects_paths = [\n",
    "        'inputs/aspects/aspects_hotels.csv',\n",
    "        'inputs/aspects/aspects_restaurants.csv',\n",
    "        'inputs/aspects/aspects_phones.csv'\n",
    "    ]\n",
    "\n",
    "    for name, reviews_path, aspects_path in \\\n",
    "            zip(test_case_names, reviews_paths, aspects_paths):\n",
    "        print('----- {} dataset -----\\n'.format(name))\n",
    "\n",
    "        simple_vocab, complex_vocab = test_expand_vocab(\n",
    "            reviews_path, aspects_path, n_displayed_reviews=n_displayed_reviews)\n",
    "\n",
    "        print('Words in simple vocab: {}'.format(len(simple_vocab.keys())))\n",
    "        print('Words in complex vocab: {}\\n'.format(len(complex_vocab.keys())))\n",
    "\n",
    "\n",
    "test_build_vocabulary(n_displayed_reviews=2)"
   ]
  },
  {
   "cell_type": "markdown",
   "id": "2e0a7f29",
   "metadata": {},
   "source": [
    "From this point onwards we will focus on the hotel dataset. The hotel reviews and vocab are loaded now and fixed for the rest of this practical assignment."
   ]
  },
  {
   "cell_type": "code",
   "execution_count": 18,
   "id": "afa854f5",
   "metadata": {},
   "outputs": [],
   "source": [
    "# Load reviews\n",
    "hotel_reviews = load_json_line_by_line(hotels_path)\n",
    "\n",
    "# Build vocab for hotel reviews\n",
    "word_aspect_dict = build_vocab('inputs/aspects/aspects_hotels.csv')"
   ]
  },
  {
   "cell_type": "markdown",
   "id": "cb7b719b",
   "metadata": {},
   "source": [
    "# Assignment 3\n",
    "\n",
    "### Task 3.1 (mandatory)\n",
    "\n",
    "**Loading Liu’s opinion lexicon composed of positive and negative words, accessible as an NLKT corpus, and exploiting it to assign the polarity values to aspect opinions in assignment 4.**"
   ]
  },
  {
   "cell_type": "code",
   "execution_count": 19,
   "id": "7d457dac",
   "metadata": {},
   "outputs": [
    {
     "data": {
      "text/plain": [
       "[('playful', 1.0),\n",
       " ('autonomous', 1.0),\n",
       " ('relaxed', 1.0),\n",
       " ('helping', 1.0),\n",
       " ('hearten', 1.0),\n",
       " ('precious', 1.0),\n",
       " ('admirable', 1.0),\n",
       " ('evaluative', 1.0),\n",
       " ('willingness', 1.0),\n",
       " ('well-made', 1.0)]"
      ]
     },
     "execution_count": 19,
     "metadata": {},
     "output_type": "execute_result"
    }
   ],
   "source": [
    "def load_polarities():\n",
    "    # Liu's opinion lexicon\n",
    "    pos_list = set(opinion_lexicon.positive())\n",
    "    neg_list = set(opinion_lexicon.negative())\n",
    "\n",
    "    adj_polarities = defaultdict(float)\n",
    "    for word in pos_list:\n",
    "        adj_polarities[word] = 1.0\n",
    "    for word in neg_list:\n",
    "        adj_polarities[word] = -1.0\n",
    "        \n",
    "    return adj_polarities\n",
    "    \n",
    "adj_polarities = load_polarities()\n",
    "list( adj_polarities.items() )[:10]"
   ]
  },
  {
   "cell_type": "markdown",
   "id": "f47feb7c",
   "metadata": {},
   "source": [
    "### Task 3.2 (optional)\n",
    "\n",
    "**Considering modifiers to adjust the polarity values of the aspect opinions in Assignment 4.**"
   ]
  },
  {
   "cell_type": "code",
   "execution_count": 20,
   "id": "0a7310ce",
   "metadata": {},
   "outputs": [
    {
     "data": {
      "text/plain": [
       "[('above', 2.0),\n",
       " ('absolutely', 2.0),\n",
       " ('abundantly', 2.0),\n",
       " ('acutely', 2.0),\n",
       " ('amazingly', 2.0),\n",
       " ('amply', 2.0),\n",
       " ('assiduously', 2.0),\n",
       " ('astonishingly', 2.0),\n",
       " ('awfully', 2.0),\n",
       " ('beyond', 2.0)]"
      ]
     },
     "execution_count": 20,
     "metadata": {},
     "output_type": "execute_result"
    }
   ],
   "source": [
    "def load_modifiers(path='./inputs/modifiers/modifiers.csv'):\n",
    "    mod = pd.read_csv(path, sep=',', header=None, names=['mod', 'val'])\n",
    "    modifiers = {row[0]: row[1] for _, row in mod.iterrows()}\n",
    "    \n",
    "    # Manually add the modifier '', which doesn't modify\n",
    "    modifiers[''] = 1.0\n",
    "    \n",
    "    return modifiers\n",
    "\n",
    "modifiers = load_modifiers()\n",
    "list( modifiers.items() )[:10]"
   ]
  },
  {
   "cell_type": "code",
   "execution_count": 21,
   "id": "b5905c7f",
   "metadata": {},
   "outputs": [
    {
     "name": "stdout",
     "output_type": "stream",
     "text": [
      "[SentiSynset('sad.a.01'), SentiSynset('sad.s.02'), SentiSynset('deplorable.s.01')]\n",
      "[SentiSynset('happy.a.01'), SentiSynset('felicitous.s.02'), SentiSynset('glad.s.02'), SentiSynset('happy.s.04')]\n",
      "pos 0.875 neg 0.0\n"
     ]
    }
   ],
   "source": [
    "# Sentinet\n",
    "sad = swn.senti_synsets('sad', 'a')\n",
    "print(list(sad))\n",
    "print(list(swn.senti_synsets('happy')))\n",
    "polarity = swn.senti_synset('happy.a.01')\n",
    "print('pos', polarity.pos_score(), 'neg', polarity.neg_score())"
   ]
  },
  {
   "cell_type": "markdown",
   "id": "0eecabff",
   "metadata": {},
   "source": [
    "# Assignment 4\n",
    "\n",
    "Once the aspect vocabulary and opinion lexicons are loaded, the opinions about aspects have to be extracted from the reviews. For this purpose, POS tagging, constituency and dependency parsing could be used.\n",
    "- POS tagging would allow identifying the adjectives in the sentences.\n",
    "- Constituency and dependency parsing would allow extracting the relations between nouns and adjectives and adverbs.\n",
    "\n",
    "The following tasks are proposed:\n",
    "\n",
    "- **Task 4.1 (mandatory)**: extracting the `[aspect, aspect term, opinion word, polarity]` tuples from the input reviews\n",
    "- **Task 4.2 (optional)**: extracting the `[aspect, aspect term, opinion word, modifier, polarity]` tuples from the input reviews, taking the modifiers of assignment 3.2\n",
    "- **Task 4.3 (optional)**: extracting the `[aspect, aspect term, opinion word, isNegated, polarity]` tuples from the input reviews, taking the modifiers of assignment 3.3"
   ]
  },
  {
   "cell_type": "code",
   "execution_count": 22,
   "id": "353ff986",
   "metadata": {},
   "outputs": [],
   "source": [
    "def pos_tagging(text):\n",
    "    sentences = nltk.sent_tokenize(text)\n",
    "    sentences = [nltk.word_tokenize(s) for s in sentences]\n",
    "    sentences = [nltk.pos_tag(s) for s in sentences]\n",
    "    return sentences"
   ]
  },
  {
   "cell_type": "code",
   "execution_count": 23,
   "id": "73918777",
   "metadata": {},
   "outputs": [
    {
     "name": "stdout",
     "output_type": "stream",
     "text": [
      "[[('I', 'PRP'), ('think', 'VBP'), ('you', 'PRP'), ('are', 'VBP'), ('very', 'RB'), ('handsome', 'JJ'), ('.', '.')]]\n"
     ]
    }
   ],
   "source": [
    "print(pos_tagging(\"I think you are very handsome.\"))"
   ]
  },
  {
   "cell_type": "code",
   "execution_count": 24,
   "id": "2967ce7e",
   "metadata": {},
   "outputs": [],
   "source": [
    "def aspect_opinions_from_sentence(tokenized_sentence, word_aspect_dict, adj_polarities, modifiers):\n",
    "    result = []\n",
    "    for child in tokenized_sentence:\n",
    "        if not isinstance(child, nltk.Tree) or child.label() != 'JJNN':\n",
    "            continue\n",
    "        \n",
    "        # Obtain the nouns referenced\n",
    "        aspect_terms = [ x[0] for x in child if x[1].startswith('NN')]\n",
    "        \n",
    "        # Keep only the nouns with associated aspect. If non, skip loop iteration\n",
    "        aspect_terms = [ x for x in aspect_terms if x in word_aspect_dict ]\n",
    "        if len(aspect_terms) == 0:\n",
    "            continue\n",
    "        \n",
    "        # Obtain the adjetives referencing the nouns\n",
    "        opinion_words = [ x[0] for x in child if x[1].startswith('JJ')]\n",
    "        \n",
    "        # Obtain the adverbs and compute whether the sentence is negated\n",
    "        adverbs = [ x[0] for x in child if x[1].startswith('RB')]\n",
    "        negated = -1 if ('not' in adverbs or 'n\\'t' in adverbs) else 1\n",
    "        \n",
    "        # Obtain the modifiers: adverbs present in our modifiers list\n",
    "        mod_list = [ x for x in adverbs if x in modifiers ]\n",
    "        \n",
    "        # If there are no modifiers, add the trivial modifier '' to the list\n",
    "        if len(mod_list) == 0:\n",
    "            mod_list = ['']\n",
    "        \n",
    "        # Compute tuples by cycling through all combinations of noun + adjetives\n",
    "        tuples = [\n",
    "            (word_aspect_dict[asp_term],\n",
    "             asp_term,\n",
    "             opin_w,\n",
    "             'negated' if negated == -1.0 else 'not negated',\n",
    "             mod,\n",
    "             negated * modifiers[mod] * adj_polarities[opin_w])\n",
    "            for asp_term, opin_w, mod\n",
    "            in itertools.product(aspect_terms, opinion_words, mod_list)\n",
    "        ]\n",
    "\n",
    "        # Save computed tuples\n",
    "        result += tuples\n",
    "    \n",
    "    return result\n",
    "\n",
    "def aspect_opinions_from_review(review_text, word_aspect_dict, adj_polarities, modifiers, grammar):\n",
    "    grammar_parser = nltk.RegexpParser(grammar)\n",
    "    tagged_sentences = pos_tagging(review_text.lower())\n",
    "    \n",
    "    result = []\n",
    "    for sentence in tagged_sentences:\n",
    "        tokenized_sentence = grammar_parser.parse(sentence)\n",
    "        tuples = aspect_opinions_from_sentence(\n",
    "            tokenized_sentence,\n",
    "            word_aspect_dict,\n",
    "            adj_polarities,\n",
    "            modifiers\n",
    "        )\n",
    "        result += tuples\n",
    "    \n",
    "    return result"
   ]
  },
  {
   "cell_type": "markdown",
   "id": "a56e9080",
   "metadata": {},
   "source": [
    "### TODO: añadir a la memoria que:\n",
    "- Hay que hacerle lower a las cosas para que el tagging funcione\n",
    "- List of tags [here](https://stackoverflow.com/questions/15388831/what-are-all-possible-pos-tags-of-nltk)."
   ]
  },
  {
   "cell_type": "code",
   "execution_count": 25,
   "id": "f72a1bfe",
   "metadata": {},
   "outputs": [
    {
     "name": "stdout",
     "output_type": "stream",
     "text": [
      "Sentence:  The place is perfect\n",
      "[('location', 'place', 'perfect', 'not negated', '', 1.0)]\n",
      "\n",
      "Sentence:  The place is absolutely perfect\n",
      "[('location', 'place', 'perfect', 'not negated', 'absolutely', 2.0)]\n",
      "\n",
      "Sentence:  The place isn't  perfect\n",
      "[('location', 'place', 'perfect', 'negated', '', -1.0)]\n",
      "\n"
     ]
    }
   ],
   "source": [
    "# GRAMMAR TESTING\n",
    "grammar = r\"\"\"\n",
    "JJNN: {<RB.*>*<JJ.*>+<NN.*>+} # adjectives escorting nouns\n",
    "      {<NN.*>+<VB.*><RB.*>*<JJ.*>+} # description sentences\n",
    "\"\"\"\n",
    "\n",
    "sentences = [\n",
    "    'The place is perfect',\n",
    "    'The place is absolutely perfect',\n",
    "    'The place isn\\'t  perfect',\n",
    "]\n",
    "\n",
    "def test_grammar(sentences, grammar=grammar):\n",
    "    for sentence in sentences:\n",
    "        grammar_parser = nltk.RegexpParser(grammar)\n",
    "        tokenized_sentence = grammar_parser.parse(pos_tagging(sentence.lower())[0])\n",
    "\n",
    "        print('Sentence: ', sentence)\n",
    "        pprint(aspect_opinions_from_sentence(tokenized_sentence, word_aspect_dict, adj_polarities, modifiers))\n",
    "        print('')\n",
    "        \n",
    "test_grammar(sentences)"
   ]
  },
  {
   "cell_type": "code",
   "execution_count": 26,
   "id": "5f8494e3",
   "metadata": {
    "scrolled": false
   },
   "outputs": [
    {
     "name": "stdout",
     "output_type": "stream",
     "text": [
      "Review text:  Great hotel in Central Phoenix for a stay-cation, but not necessarily a place to stay out of town and without a car. Not much around the area, and unless you're familiar with downtown, I would rather have a guest stay in Old Town Scottsdale, etc. BUT if you do stay here, it's awesome. Great boutique rooms. Awesome pool that's happening in the summer. A GREAT rooftop patio bar, and a very very busy lobby with Gallo Blanco attached. A great place to stay, but have a car! \n",
      "\n",
      "[('shopping', 'boutique', 'great', 'not negated', '', 1.0),\n",
      " ('bedrooms', 'rooms', 'great', 'not negated', '', 1.0),\n",
      " ('pool', 'pool', 'awesome', 'not negated', '', 1.0),\n",
      " ('building', 'patio', 'great', 'not negated', '', 1.0),\n",
      " ('bar', 'bar', 'great', 'not negated', '', 1.0),\n",
      " ('building', 'lobby', 'busy', 'not negated', 'very', 0.0),\n",
      " ('building', 'lobby', 'busy', 'not negated', 'very', 0.0),\n",
      " ('location', 'place', 'great', 'not negated', '', 1.0)]\n",
      "\n",
      "Review text:  I feel the Days Inn Tempe is best described as \"a place where you can purchase the right to sleep for awhile.\" I booked my 10-night stay on Travelocity for a non-smoking room, yet when I entered the room I almost choked. It was disgusting. I've never had a smoking hotel room before and I will make sure I don't again. They said they couldn't move us to a different room.My local lady friend brought over a bottle of wine but forgot a corkscrew. No big deal, I thought to myself, as the front desk of a hotel will surely have a corkscrew. Nope. Coors Light it is.The towels felt like they were made of cow tongue, and they missed our wakeup call one morning making me late for a training class that had cost me about $500.I'm awarding one star in addition to the minimum one-star rating because I got to drink cheap beer by the pool in 90 degree weather for 10 days, and there are a few good places to eat and two dollar stores very nearby. The dollar store had a corkscrew. \n",
      "\n",
      "[('checking', 'stay', '10-night', 'not negated', '', 0.0),\n",
      " ('location', 'deal', 'big', 'not negated', '', 0.0),\n",
      " ('bathrooms', 'towels', 'is.the', 'not negated', '', 0.0),\n",
      " ('drinks', 'beer', 'cheap', 'not negated', '', -1.0)]\n",
      "\n",
      "Review text:  My wife and I decided to take a little vaca to celebrate our 13th anniversary and also was the first time that we were traveling with our 5-month old, so you can imagine we were a little apprehensive. The resort is absolutely top-notch, the rooms are very spacious, the staff is very courteous, and the facilities are simply superb. Our room overlooked the mountain, and in the morning, it was blissful to sit outside and sip on our cups of joe. The rooms have a microwave and a small fridge, something that was invaluable to us to store milk and warm it up for our little one. The spa is simply one of the best in the valley, and even if you don't stay here, I would recommend the spa to anyone. The resort is close to at least 20 golf courses, something that might be important to other golf nuts like me. So then why not 5 stars? Simply because they would not extend the check-out time for us by even an hour. The check-out is 11 am and our flight was delayed to 8 pm, so when I requested, I was told VERY NICELY, but firmly that it wasn't going to happen. I've traveled some, and have NEVER been turned down for a late check-out request, ever. Still, a great place to stay, the facilities are top-notch, the staff is very nice, and we had a wonderful time. Would recommend this to anyone wanting a relaxing, fun experience in the Valley of the Sun. Cheers. \n",
      "\n",
      "[('bedrooms', 'rooms', 'spacious', 'not negated', 'very', 2.0),\n",
      " ('staff', 'staff', 'courteous', 'not negated', 'very', 2.0),\n",
      " ('facilities', 'facilities', 'superb', 'not negated', 'simply', 0.5),\n",
      " ('checking', 'check-out', 'late', 'not negated', '', 0.0),\n",
      " ('location', 'place', 'great', 'not negated', '', 1.0),\n",
      " ('facilities', 'facilities', 'top-notch', 'not negated', '', 1.0),\n",
      " ('staff', 'staff', 'nice', 'not negated', 'very', 2.0)]\n",
      "\n"
     ]
    }
   ],
   "source": [
    "def test_aspect_opinions(first_n=3, grammar=grammar):\n",
    "    \n",
    "    for review in hotel_reviews[:first_n]:\n",
    "        review_text = review['reviewText']\n",
    "        print('Review text: ', review_text, '\\n')\n",
    "        pprint(aspect_opinions_from_review(review_text, word_aspect_dict, adj_polarities, modifiers, grammar))\n",
    "        print('')\n",
    "        \n",
    "test_aspect_opinions()"
   ]
  },
  {
   "cell_type": "markdown",
   "id": "97485d46",
   "metadata": {},
   "source": [
    "# Assignment 5\n",
    "\n",
    "To validate and evaluate the solutions implemented in previous tasks, you are finally proposed the following tasks:\n",
    "\n",
    "### Task 5.1 (mandatory)\n",
    "\n",
    "**Visualizing on screen the aspect opinions (tuples) of a given review.**"
   ]
  },
  {
   "cell_type": "code",
   "execution_count": 112,
   "id": "75957faf",
   "metadata": {},
   "outputs": [],
   "source": [
    "def plot_aspects(opinions):\n",
    "    fig = plt.figure()\n",
    "    ax = fig.add_axes([0,0,1,1])\n",
    "    ax.bar(opinions.keys(), opinions.values(), \n",
    "           color=plt.cm.rainbow(np.linspace(0, 1, len(opinions))))\n",
    "    if len(opinions) > 5:\n",
    "        plt.xticks(rotation=70)\n",
    "    plt.show()\n",
    "\n",
    "def group_review_opinions(aspect_opinions):\n",
    "    grouped_opinions = defaultdict(int)\n",
    "    for opinion in aspect_opinions:\n",
    "        grouped_opinions[ opinion[0] ] += opinion[-1]\n",
    "    return grouped_opinions\n",
    "    \n",
    "def plot_review_aspects(review_text):\n",
    "    aspect_opinions = aspect_opinions_from_review(\n",
    "        review_text,\n",
    "        word_aspect_dict,\n",
    "        adj_polarities,\n",
    "        modifiers,\n",
    "        grammar\n",
    "    )\n",
    "    \n",
    "    print('Review text: ', review_text, '\\n')\n",
    "    pprint(aspect_opinions)\n",
    "    print('')\n",
    "    \n",
    "    grouped_opinions = group_review_opinions(aspect_opinions)\n",
    "    plot_aspects(grouped_opinions)"
   ]
  },
  {
   "cell_type": "code",
   "execution_count": 102,
   "id": "d303fadc",
   "metadata": {},
   "outputs": [
    {
     "name": "stdout",
     "output_type": "stream",
     "text": [
      "Review text:  My wife and I decided to take a little vaca to celebrate our 13th anniversary and also was the first time that we were traveling with our 5-month old, so you can imagine we were a little apprehensive. The resort is absolutely top-notch, the rooms are very spacious, the staff is very courteous, and the facilities are simply superb. Our room overlooked the mountain, and in the morning, it was blissful to sit outside and sip on our cups of joe. The rooms have a microwave and a small fridge, something that was invaluable to us to store milk and warm it up for our little one. The spa is simply one of the best in the valley, and even if you don't stay here, I would recommend the spa to anyone. The resort is close to at least 20 golf courses, something that might be important to other golf nuts like me. So then why not 5 stars? Simply because they would not extend the check-out time for us by even an hour. The check-out is 11 am and our flight was delayed to 8 pm, so when I requested, I was told VERY NICELY, but firmly that it wasn't going to happen. I've traveled some, and have NEVER been turned down for a late check-out request, ever. Still, a great place to stay, the facilities are top-notch, the staff is very nice, and we had a wonderful time. Would recommend this to anyone wanting a relaxing, fun experience in the Valley of the Sun. Cheers. \n",
      "\n",
      "[('bedrooms', 'rooms', 'spacious', 'not negated', 'very', 2.0),\n",
      " ('staff', 'staff', 'courteous', 'not negated', 'very', 2.0),\n",
      " ('facilities', 'facilities', 'superb', 'not negated', 'simply', 0.5),\n",
      " ('checking', 'check-out', 'late', 'not negated', '', 0.0),\n",
      " ('location', 'place', 'great', 'not negated', '', 1.0),\n",
      " ('facilities', 'facilities', 'top-notch', 'not negated', '', 1.0),\n",
      " ('staff', 'staff', 'nice', 'not negated', 'very', 2.0)]\n",
      "\n"
     ]
    },
    {
     "data": {
      "image/png": "[encoded data removed]",
      "text/plain": [
       "<Figure size 432x288 with 1 Axes>"
      ]
     },
     "metadata": {
      "needs_background": "light"
     },
     "output_type": "display_data"
    },
    {
     "name": "stdout",
     "output_type": "stream",
     "text": [
      "Review text:  I dug this place. Got a great deal from Priceline, and I pretty much knew what to expect going in. I've stayed at places like this before across the country, and I can definitely say that this was a very pleasant experience. Everyone has complained about the beds being hard, but I didn't really find this to be the case. I like a firmer mattress, so I guess that's just my personal preference, but it wasn't like sleeping on a campus futon or anything. The towels were nice- nothing fancy, but definitely not the thin washed-out wisps of cloth that you might have expected at other places. The setup of the place was great- it's just like having a little studio apartment. Even had a coffeemaker, and an ironing board, which is strangely becoming a rarity these days.I have to make special mention of one thing- the pillows, for some reason, were absolutely amazing. My girlfriend and I both agreed (and we're both flight attendants, so we KNOW hotels) that these were some of the best hotel pillows we've ever slept on. Couldn't exactly tell you why, but there was just something about them- proper amount of spring, cushioning, support, punchability, etc. If you need to be in Arizona on business, you couldn't pick a better place. The convenience is amazing- you're right near the highway and there's quite a bit of stuff within walking distance. We got some DELICIOUS takeout from some of the local restaurants, and it was SUPER Handy to have a microwave and kitchenette available within the room for our use!So yeah, I gotta say, I didn't mind this place one tiny little bit. If you're used to Marriotts, Hyatts, and other fancy hotels, then you need to know that this isn't one of them. But for a relatively no-frills \"home away from home\" type of place, this is perfect!! \n",
      "\n",
      "[('location', 'deal', 'great', 'not negated', '', 1.0),\n",
      " ('bedrooms', 'beds', 'hard', 'not negated', '', -1.0),\n",
      " ('location', 'place', 'great-', 'not negated', '', 0.0),\n",
      " ('location', 'place', 'better', 'not negated', '', 1.0),\n",
      " ('restrooms', 'convenience', 'amazing-', 'not negated', '', 0.0),\n",
      " ('restaurant', 'restaurants', 'local', 'not negated', '', 0.0),\n",
      " ('building', 'bit', 'tiny', 'not negated', '', 0.0),\n",
      " ('building', 'bit', 'little', 'not negated', '', 0.0)]\n",
      "\n"
     ]
    },
    {
     "data": {
      "image/png": "[encoded data removed]",
      "text/plain": [
       "<Figure size 432x288 with 1 Axes>"
      ]
     },
     "metadata": {
      "needs_background": "light"
     },
     "output_type": "display_data"
    }
   ],
   "source": [
    "plot_review_aspects(hotel_reviews[2]['reviewText'])\n",
    "plot_review_aspects(hotel_reviews[40]['reviewText'])"
   ]
  },
  {
   "cell_type": "markdown",
   "id": "7ac8d5f4",
   "metadata": {},
   "source": [
    "### Task 5.2 (optional)\n",
    "\n",
    "**Visualizing on screen a summary of the aspect opinions of a given item. Among other issues, the total number of positive/negative opinions for each aspect of the item could be visualized**."
   ]
  },
  {
   "cell_type": "code",
   "execution_count": 103,
   "id": "6b996871",
   "metadata": {},
   "outputs": [],
   "source": [
    "def plot_hotel_aspects(fixed_hotel_reviews):\n",
    "    opinions = []\n",
    "    for review in fixed_hotel_reviews:\n",
    "        review_opinions = aspect_opinions_from_review(\n",
    "            review['reviewText'],\n",
    "            word_aspect_dict,\n",
    "            adj_polarities,\n",
    "            modifiers,\n",
    "            grammar\n",
    "        )\n",
    "        opinions.append(review_opinions)\n",
    "    \n",
    "    opinions = list( itertools.chain(*opinions) )\n",
    "    grouped_opinions = group_review_opinions(opinions)\n",
    "    plot_aspects(grouped_opinions)"
   ]
  },
  {
   "cell_type": "code",
   "execution_count": 110,
   "id": "f8a5709c",
   "metadata": {},
   "outputs": [
    {
     "data": {
      "image/png": "[encoded data removed]",
      "text/plain": [
       "<Figure size 432x288 with 1 Axes>"
      ]
     },
     "metadata": {
      "needs_background": "light"
     },
     "output_type": "display_data"
    }
   ],
   "source": [
    "# Fixed an asin (the ID associated to a hotel)\n",
    "fixed_asin = hotel_reviews[2]['asin']\n",
    "fixed_hotel_reviews = [ x for x in hotel_reviews if x['asin'] == fixed_asin ]\n",
    "\n",
    "plot_hotel_aspects(fixed_hotel_reviews)"
   ]
  },
  {
   "cell_type": "code",
   "execution_count": 116,
   "id": "b02da038",
   "metadata": {},
   "outputs": [
    {
     "data": {
      "image/png": "[encoded data removed]",
      "text/plain": [
       "<Figure size 432x288 with 1 Axes>"
      ]
     },
     "metadata": {
      "needs_background": "light"
     },
     "output_type": "display_data"
    }
   ],
   "source": [
    "# Fixed an asin (the ID associated to a hotel)\n",
    "fixed_asin = hotel_reviews[4]['asin']\n",
    "fixed_hotel_reviews = [ x for x in hotel_reviews if x['asin'] == fixed_asin ]\n",
    "\n",
    "plot_hotel_aspects(fixed_hotel_reviews)"
   ]
  },
  {
   "cell_type": "markdown",
   "id": "df63f605",
   "metadata": {},
   "source": [
    "### TODOS AND IDEAS\n",
    "\n",
    "- Hacer el 2.4\n",
    "- En el 2.2, meter hiponimos e hipernonimos a parte de sinonimos?\n",
    "- Utilizar spaCy para negaciones\n",
    "- Use the overall to determine a class for each opinion and train a **MACHINE LEARNING** algorithm."
   ]
  },
  {
   "cell_type": "code",
   "execution_count": null,
   "id": "1ac3a219",
   "metadata": {},
   "outputs": [],
   "source": [
    "import spacy\n",
    "\n",
    "nlp = spacy.load(\"en_core_web_sm\")\n",
    "doc = nlp(\"Apple is looking at buying U.K. startup for $1 billion\")\n",
    "\n",
    "for token in doc:\n",
    "    print(token.text, token.lemma_, token.pos_, token.tag_, token.dep_,\n",
    "            token.shape_, token.is_alpha, token.is_stop)"
   ]
  },
  {
   "cell_type": "code",
   "execution_count": null,
   "id": "af5fed90",
   "metadata": {
    "scrolled": false
   },
   "outputs": [],
   "source": [
    "!pip install spacy"
   ]
  }
 ],
 "metadata": {
  "kernelspec": {
   "display_name": "Python 3 (ipykernel)",
   "language": "python",
   "name": "python3"
  },
  "language_info": {
   "codemirror_mode": {
    "name": "ipython",
    "version": 3
   },
   "file_extension": ".py",
   "mimetype": "text/x-python",
   "name": "python",
   "nbconvert_exporter": "python",
   "pygments_lexer": "ipython3",
   "version": "3.7.0"
  }
 },
 "nbformat": 4,
 "nbformat_minor": 5
}
