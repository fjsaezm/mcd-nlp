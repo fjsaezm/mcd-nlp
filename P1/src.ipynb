{
 "cells": [
  {
   "cell_type": "code",
   "execution_count": 15,
   "id": "b7a19d25",
   "metadata": {},
   "outputs": [
    {
     "name": "stderr",
     "output_type": "stream",
     "text": [
      "[nltk_data] Downloading package omw-1.4 to\n",
      "[nltk_data]     C:\\Users\\Javier\\AppData\\Roaming\\nltk_data...\n",
      "[nltk_data]   Unzipping corpora\\omw-1.4.zip.\n"
     ]
    }
   ],
   "source": [
    "import json\n",
    "import csv\n",
    "import nltk\n",
    "#nltk.download('wordnet')\n",
    "#nltk.download('omw-1.4')\n",
    "from nltk.corpus import wordnet as wn"
   ]
  },
  {
   "cell_type": "markdown",
   "id": "1166aa33",
   "metadata": {},
   "source": [
    "# Assignment 1"
   ]
  },
  {
   "cell_type": "code",
   "execution_count": 9,
   "id": "3b66b516",
   "metadata": {},
   "outputs": [
    {
     "name": "stdout",
     "output_type": "stream",
     "text": [
      "Reading file inputs/yelp_dataset/yelp_hotels.json\n",
      "\n",
      "5034 reviews loaded\n",
      "\n",
      "Example review: {'reviewerID': 'qLCpuCWCyPb4G2vN-WZz-Q', 'asin': '8ZwO9VuLDWJOXmtAdc7LXQ', 'summary': 'summary', 'reviewText': \"Great hotel in Central Phoenix for a stay-cation, but not necessarily a place to stay out of town and without a car. Not much around the area, and unless you're familiar with downtown, I would rather have a guest stay in Old Town Scottsdale, etc. BUT if you do stay here, it's awesome. Great boutique rooms. Awesome pool that's happening in the summer. A GREAT rooftop patio bar, and a very very busy lobby with Gallo Blanco attached. A great place to stay, but have a car!\", 'overall': 4.0}\n",
      "\n",
      "Reading file inputs/yelp_dataset/yelp_restaurants.json\n",
      "\n",
      "158430 reviews loaded\n",
      "\n",
      "Example review: {'reviewerID': 'rLtl8ZkDX5vH5nAx9C3q5Q', 'asin': '9yKzy9PApeiPPOUJEtnvkg', 'summary': 'summary', 'reviewText': 'My wife took me here on my birthday for breakfast and it was excellent. The weather was perfect which made sitting outside overlooking their grounds an absolute pleasure. Our waitress was excellent and our food arrived quickly on the semi-busy Saturday morning. It looked like the place fills up pretty quickly so the earlier you get here the better.Do yourself a favor and get their Bloody Mary. It was phenomenal and simply the best I\\'ve ever had. I\\'m pretty sure they only use ingredients from their garden and blend them fresh when you order it. It was amazing.While EVERYTHING on the menu looks excellent, I had the white truffle scrambled eggs vegetable skillet and it was tasty and delicious. It came with 2 pieces of their griddled bread with was amazing and it absolutely made the meal complete. It was the best \"toast\" I\\'ve ever had.Anyway, I can\\'t wait to go back!', 'overall': 5.0}\n",
      "\n",
      "Reading file inputs/amazon/Musical_Instruments_5.json\n",
      "\n",
      "10261 reviews loaded\n",
      "\n",
      "Example review: {'reviewerID': 'A2IBPI20UZIR0U', 'asin': '1384719342', 'reviewerName': 'cassandra tu \"Yeah, well, that\\'s just like, u...', 'helpful': [0, 0], 'reviewText': \"Not much to write about here, but it does exactly what it's supposed to. filters out the pop sounds. now my recordings are much more crisp. it is one of the lowest prices pop filters on amazon so might as well buy it, they honestly work the same despite their pricing,\", 'overall': 5.0, 'summary': 'good', 'unixReviewTime': 1393545600, 'reviewTime': '02 28, 2014'}\n",
      "\n"
     ]
    }
   ],
   "source": [
    "hotels_path = 'inputs/yelp_dataset/yelp_hotels.json'\n",
    "\n",
    "def load_json_line_by_line(path):\n",
    "    reviews = []\n",
    "    with open(path, encoding='utf-8') as file:\n",
    "        for line in file:\n",
    "            if len(line) > 2:\n",
    "                # If line ends with a coma, remove it.\n",
    "                line = line[:-2] if line[-2] == ',' else line[:-1]\n",
    "                reviews.append(json.loads(line))\n",
    "    return reviews\n",
    "\n",
    "def test_load_json_line_by_line():\n",
    "    paths = [\n",
    "        'inputs/yelp_dataset/yelp_hotels.json',\n",
    "        'inputs/yelp_dataset/yelp_restaurants.json',\n",
    "        'inputs/amazon/Musical_Instruments_5.json'\n",
    "    ]\n",
    "    \n",
    "    for path in paths:\n",
    "        print('Reading file {}\\n'.format(path))\n",
    "        reviews = load_json_line_by_line(path)\n",
    "        print('{} reviews loaded\\n'.format(len(reviews)))\n",
    "        print('Example review: {}\\n'.format(reviews[0]))\n",
    "\n",
    "#reviews = load_json_line_by_line(hotels_path)\n",
    "test_load_json_line_by_line()"
   ]
  },
  {
   "cell_type": "markdown",
   "id": "67c01a26",
   "metadata": {},
   "source": [
    "# Assignment 2"
   ]
  },
  {
   "cell_type": "code",
   "execution_count": 21,
   "id": "ff06369e",
   "metadata": {},
   "outputs": [
    {
     "name": "stdout",
     "output_type": "stream",
     "text": [
      "{'amenity': 'amenities', 'amenities': 'amenities', 'services': 'amenities', 'atmosphere': 'atmosphere', 'atmospheres': 'atmosphere', 'ambiance': 'atmosphere', 'ambiances': 'atmosphere', 'light': 'atmosphere', 'lighting': 'atmosphere', 'lights': 'atmosphere', 'music': 'atmosphere', 'bar': 'bar', 'bars': 'bar', 'bartender': 'bar', 'bartenders': 'bar', 'bathroom': 'bathrooms', 'bathrooms': 'bathrooms', 'bath': 'bathrooms', 'baths': 'bathrooms', 'bathtub': 'bathrooms', 'bathtubs': 'bathrooms', 'shampoo': 'bathrooms', 'shampoos': 'bathrooms', 'shower': 'bathrooms', 'showers': 'bathrooms', 'towel': 'bathrooms', 'towels': 'bathrooms', 'tub': 'bathrooms', 'tubs': 'bathrooms', 'bedroom': 'bedrooms', 'bedrooms': 'bedrooms', 'bed': 'bedrooms', 'beds': 'bedrooms', 'pillow': 'bedrooms', 'pillows': 'bedrooms', 'sheet': 'bedrooms', 'sheets': 'bedrooms', 'sleep': 'bedrooms', 'suite': 'bedrooms', 'suites': 'bedrooms', 'booking': 'booking', 'book': 'booking', 'reservation': 'booking', 'reservations': 'booking', 'reserve': 'booking', 'breakfast': 'breakfast', 'breakfasts': 'breakfast', 'morning': 'breakfast', 'mornings': 'breakfast', 'toast': 'breakfast', 'toasts': 'breakfast', 'moorning meal': 'breakfast', 'moorning menu': 'breakfast', 'building': 'building', 'buildings': 'building', 'architecture': 'building', 'architectures': 'building', 'decor': 'building', 'decoration': 'building', 'decorations': 'building', 'furniture': 'building', 'furnitures': 'building', 'garden': 'building', 'gardens': 'building', 'hall': 'building', 'halls': 'building', 'lobbies': 'building', 'lobby': 'building', 'lounge': 'building', 'lounges': 'building', 'patio': 'building', 'patios': 'building', 'salon': 'building', 'salons': 'building', 'spot': 'building', 'spots': 'building', 'checkin': 'checking', 'check-in': 'checking', 'check in': 'checking', 'check ins': 'checking', 'check out': 'checking', 'check outs': 'checking', 'checking': 'checking', 'checkins': 'checking', 'check-ins': 'checking', 'checkout': 'checking', 'check-out': 'checking', 'checkouts': 'checking', 'check-outs': 'checking', 'check': 'checking', 'checks': 'checking', 'registration': 'checking', 'registrations': 'checking', 'cleanliness': 'cleanliness', 'clean': 'cleanliness', 'cleaned': 'cleanliness', 'cleaning': 'cleanliness', 'dirt': 'cleanliness', 'dirty': 'cleanliness', 'smell': 'cleanliness', 'coffee': 'coffee', 'coffees': 'coffee', 'cafe': 'coffee', 'cafes': 'coffee', 'tea': 'coffee', 'teas': 'coffee', 'cuisine': 'cuisine', 'cuisines': 'cuisine', 'dishe': 'cuisine', 'dishes': 'cuisine', 'food': 'cuisine', 'foods': 'cuisine', 'meal': 'cuisine', 'meals': 'cuisine', 'menu': 'cuisine', 'menus': 'cuisine', 'plate': 'cuisine', 'plates': 'cuisine', 'buffet': 'cuisine', 'buffets': 'cuisine', 'dinner': 'dinner', 'dinners': 'dinner', 'evening meal': 'dinner', 'evening menu': 'dinner', 'night meal': 'dinner', 'night menu': 'dinner', 'drink': 'drinks', 'drinks': 'drinks', 'beer': 'drinks', 'beers': 'drinks', 'wine': 'drinks', 'wines': 'drinks', 'event': 'events', 'events': 'events', 'activity': 'events', 'activities': 'events', 'party': 'events', 'parties': 'events', 'trip': 'events', 'trips': 'events', 'facilities': 'facilities', 'facility': 'facilities', 'equipment': 'facilities', 'gym': 'gym', 'gyms': 'gym', 'internet': 'internet', 'wi fi': 'internet', 'wifi': 'internet', 'wi-fi': 'internet', 'wireless': 'internet', 'location': 'location', 'locations': 'location', 'beach': 'location', 'beaches': 'location', 'environment': 'location', 'environments': 'location', 'lake': 'location', 'lakes': 'location', 'landscape': 'location', 'landscapes': 'location', 'mountain': 'location', 'mountains': 'location', 'neighborhood': 'location', 'neighborhoods': 'location', 'neighbourhood': 'location', 'neighbourhoods': 'location', 'river': 'location', 'rivers': 'location', 'situation': 'location', 'situations': 'location', 'street': 'location', 'streets': 'location', 'surrounding': 'location', 'surroundings': 'location', 'tree': 'location', 'trees': 'location', 'valley': 'location', 'valleys': 'location', 'view': 'location', 'views': 'location', 'lunch': 'lunch', 'lunches': 'lunch', 'afternoon meal': 'lunch', 'afternoon menu': 'lunch', 'noon meal': 'lunch', 'noon menu': 'lunch', 'parking': 'parking', 'parkings': 'parking', 'pool': 'pool', 'pools': 'pool', 'swimming': 'pool', 'swimming pool': 'pool', 'swimming pools': 'pool', 'swimmingpool': 'pool', 'swimmingpools': 'pool', 'price': 'price', 'prices': 'price', 'priced': 'price', 'pricing': 'price', 'budget': 'price', 'budgets': 'price', 'charge': 'price', 'cost': 'price', 'costs': 'price', 'fee': 'price', 'fees': 'price', 'money': 'price', 'restaurant': 'restaurant', 'restaurants': 'restaurant', 'restroom': 'restrooms', 'restrooms': 'restrooms', 'toilet': 'restrooms', 'toilets': 'restrooms', 'service': 'service', 'serving': 'service', 'servings': 'service', 'attention': 'service', 'attentions': 'service', 'attitude': 'service', 'attitudes': 'service', 'server': 'service', 'servers': 'service', 'shopping': 'shopping', 'shop': 'shopping', 'shops': 'shopping', 'store': 'shopping', 'stores': 'shopping', 'boutique': 'shopping', 'boutiques': 'shopping', 'mall': 'shopping', 'malls': 'shopping', 'spa': 'spa', 'spas': 'spa', 'sauna': 'spa', 'saunas': 'spa', 'jacuzzi': 'spa', 'jacuzzis': 'spa', 'staff': 'staff', 'worker': 'staff', 'workers': 'staff', 'bellhop': 'staff', 'bellhops': 'staff', 'boss': 'staff', 'bosses': 'staff', 'cashier': 'staff', 'employee': 'staff', 'employees': 'staff', 'hostess': 'staff', 'manager': 'staff', 'managers': 'staff', 'owner': 'staff', 'owners': 'staff', 'patron': 'staff', 'patrons': 'staff', 'receptionist': 'staff', 'receptionists': 'staff', 'temperature': 'temperature', 'temperatures': 'temperature', 'transport': 'transportation', 'transportation': 'transportation', 'transportations': 'transportation', 'bus': 'transportation', 'buses': 'transportation', 'cap': 'transportation', 'caps': 'transportation', 'car': 'transportation', 'cars': 'transportation', 'metro': 'transportation', 'metros': 'transportation', 'shuttle': 'transportation', 'shuttles': 'transportation', 'subway': 'transportation', 'subways': 'transportation', 'taxi': 'transportation', 'taxis': 'transportation', 'train': 'transportation', 'trains': 'transportation', 'tube': 'transportation', 'tubes': 'transportation', 'vehicle': 'transportation', 'vehicles': 'transportation'}\n"
     ]
    }
   ],
   "source": [
    "aspect_hotels_path = 'inputs/aspects/aspects_hotels.csv'\n",
    "\n",
    "def load_vocab(path):\n",
    "    vocab = {}\n",
    "    with open(path, encoding='utf-8',mode = 'r') as file:\n",
    "        csv_reader = csv.reader(file)\n",
    "        for row in csv_reader:\n",
    "            # We know that the csv is aspect,word\n",
    "            vocab[row[1]] = row[0]\n",
    "    \n",
    "    return vocab\n",
    "\n",
    "aspect_hotels = load_vocab(aspect_hotels_path)\n",
    "words = list(aspect_hotels.keys())\n",
    "print(aspect_hotels)"
   ]
  },
  {
   "cell_type": "code",
   "execution_count": 22,
   "id": "d063cfe4",
   "metadata": {},
   "outputs": [
    {
     "name": "stdout",
     "output_type": "stream",
     "text": [
      "agreeableness.n.01\n",
      "\t pleasantness resulting from agreeable conditions\n",
      "\t ['a well trained staff saw to the agreeableness of our accommodations', 'he discovered the amenities of reading at an early age']\n",
      "\t ['agreeableness', 'amenity']\n",
      "\tHyponyms:\n",
      "\tHyperyms:\n",
      "\t\t pleasantness.n.02  =>  ['pleasantness', 'sweetness']\n"
     ]
    }
   ],
   "source": [
    "synsets = wn.synsets(words[0])\n",
    "for s in synsets:\n",
    "    print(s.name())\n",
    "    print('\\t', s.definition())\n",
    "    print('\\t', s.examples())\n",
    "    print('\\t', s.lemma_names())\n",
    "    print('\\tHyponyms:')\n",
    "    hyponyms = s.hyponyms()\n",
    "    for h in hyponyms:\n",
    "        print('\\t\\t', h.name(), ' => ', h.lemma_names())\n",
    "    print('\\tHyperyms:')\n",
    "    hypernyms = s.hypernyms()\n",
    "    for h in hypernyms:\n",
    "        print('\\t\\t', h.name(), ' => ', h.lemma_names())"
   ]
  },
  {
   "cell_type": "code",
   "execution_count": null,
   "id": "b8a67728",
   "metadata": {},
   "outputs": [],
   "source": []
  }
 ],
 "metadata": {
  "kernelspec": {
   "display_name": "Python 3",
   "language": "python",
   "name": "python3"
  },
  "language_info": {
   "codemirror_mode": {
    "name": "ipython",
    "version": 3
   },
   "file_extension": ".py",
   "mimetype": "text/x-python",
   "name": "python",
   "nbconvert_exporter": "python",
   "pygments_lexer": "ipython3",
   "version": "3.8.3"
  }
 },
 "nbformat": 4,
 "nbformat_minor": 5
}
