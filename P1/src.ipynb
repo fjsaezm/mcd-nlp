{
 "cells": [
  {
   "cell_type": "code",
   "execution_count": 1,
   "id": "b7a19d25",
   "metadata": {},
   "outputs": [],
   "source": [
    "import json\n",
    "import csv\n",
    "import nltk\n",
    "#nltk.download('wordnet')\n",
    "#nltk.download('omw-1.4')\n",
    "from nltk.corpus import wordnet as wn\n",
    "import pandas as pd"
   ]
  },
  {
   "cell_type": "markdown",
   "id": "1166aa33",
   "metadata": {},
   "source": [
    "# Assignment 1"
   ]
  },
  {
   "cell_type": "code",
   "execution_count": 2,
   "id": "3b66b516",
   "metadata": {},
   "outputs": [
    {
     "name": "stdout",
     "output_type": "stream",
     "text": [
      "Reading file inputs/yelp_dataset/yelp_hotels.json\n",
      "\n",
      "5034 reviews loaded\n",
      "\n",
      "Example review: {'reviewerID': 'qLCpuCWCyPb4G2vN-WZz-Q', 'asin': '8ZwO9VuLDWJOXmtAdc7LXQ', 'summary': 'summary', 'reviewText': \"Great hotel in Central Phoenix for a stay-cation, but not necessarily a place to stay out of town and without a car. Not much around the area, and unless you're familiar with downtown, I would rather have a guest stay in Old Town Scottsdale, etc. BUT if you do stay here, it's awesome. Great boutique rooms. Awesome pool that's happening in the summer. A GREAT rooftop patio bar, and a very very busy lobby with Gallo Blanco attached. A great place to stay, but have a car!\", 'overall': 4.0}\n",
      "\n",
      "Reading file inputs/yelp_dataset/yelp_restaurants.json\n",
      "\n",
      "158430 reviews loaded\n",
      "\n",
      "Example review: {'reviewerID': 'rLtl8ZkDX5vH5nAx9C3q5Q', 'asin': '9yKzy9PApeiPPOUJEtnvkg', 'summary': 'summary', 'reviewText': 'My wife took me here on my birthday for breakfast and it was excellent. The weather was perfect which made sitting outside overlooking their grounds an absolute pleasure. Our waitress was excellent and our food arrived quickly on the semi-busy Saturday morning. It looked like the place fills up pretty quickly so the earlier you get here the better.Do yourself a favor and get their Bloody Mary. It was phenomenal and simply the best I\\'ve ever had. I\\'m pretty sure they only use ingredients from their garden and blend them fresh when you order it. It was amazing.While EVERYTHING on the menu looks excellent, I had the white truffle scrambled eggs vegetable skillet and it was tasty and delicious. It came with 2 pieces of their griddled bread with was amazing and it absolutely made the meal complete. It was the best \"toast\" I\\'ve ever had.Anyway, I can\\'t wait to go back!', 'overall': 5.0}\n",
      "\n",
      "Reading file inputs/amazon/Musical_Instruments_5.json\n",
      "\n",
      "10261 reviews loaded\n",
      "\n",
      "Example review: {'reviewerID': 'A2IBPI20UZIR0U', 'asin': '1384719342', 'reviewerName': 'cassandra tu \"Yeah, well, that\\'s just like, u...', 'helpful': [0, 0], 'reviewText': \"Not much to write about here, but it does exactly what it's supposed to. filters out the pop sounds. now my recordings are much more crisp. it is one of the lowest prices pop filters on amazon so might as well buy it, they honestly work the same despite their pricing,\", 'overall': 5.0, 'summary': 'good', 'unixReviewTime': 1393545600, 'reviewTime': '02 28, 2014'}\n",
      "\n"
     ]
    }
   ],
   "source": [
    "hotels_path = 'inputs/yelp_dataset/yelp_hotels.json'\n",
    "\n",
    "def load_json_line_by_line(path):\n",
    "    reviews = []\n",
    "    with open(path, encoding='utf-8') as file:\n",
    "        for line in file:\n",
    "            if len(line) > 2:\n",
    "                # If line ends with a coma, remove it.\n",
    "                line = line[:-2] if line[-2] == ',' else line[:-1]\n",
    "                reviews.append(json.loads(line))\n",
    "    return reviews\n",
    "\n",
    "def test_load_json_line_by_line():\n",
    "    paths = [\n",
    "        'inputs/yelp_dataset/yelp_hotels.json',\n",
    "        'inputs/yelp_dataset/yelp_restaurants.json',\n",
    "        'inputs/amazon/Musical_Instruments_5.json'\n",
    "    ]\n",
    "    \n",
    "    for path in paths:\n",
    "        print('Reading file {}\\n'.format(path))\n",
    "        reviews = load_json_line_by_line(path)\n",
    "        print('{} reviews loaded\\n'.format(len(reviews)))\n",
    "        print('Example review: {}\\n'.format(reviews[0]))\n",
    "\n",
    "#reviews = load_json_line_by_line(hotels_path)\n",
    "test_load_json_line_by_line()"
   ]
  },
  {
   "cell_type": "markdown",
   "id": "67c01a26",
   "metadata": {},
   "source": [
    "# Assignment 2"
   ]
  },
  {
   "cell_type": "code",
   "execution_count": 3,
   "id": "ff06369e",
   "metadata": {},
   "outputs": [
    {
     "name": "stdout",
     "output_type": "stream",
     "text": [
      "aspect\n",
      "amenities                            [amenity, amenities, services]\n",
      "atmosphere        [atmosphere, atmospheres, ambiance, ambiances,...\n",
      "bar                              [bar, bars, bartender, bartenders]\n",
      "bathrooms         [bathroom, bathrooms, bath, baths, bathtub, ba...\n",
      "bedrooms          [bedroom, bedrooms, bed, beds, pillow, pillows...\n",
      "booking           [booking, book, reservation, reservations, res...\n",
      "breakfast         [breakfast, breakfasts, morning, mornings, toa...\n",
      "building          [building, buildings, architecture, architectu...\n",
      "checking          [checkin, check-in, check in, check ins, check...\n",
      "cleanliness       [cleanliness, clean, cleaned, cleaning, dirt, ...\n",
      "coffee                    [coffee, coffees, cafe, cafes, tea, teas]\n",
      "cuisine           [cuisine, cuisines, dishe, dishes, food, foods...\n",
      "dinner            [dinner, dinners, evening meal, evening menu, ...\n",
      "drinks                    [drink, drinks, beer, beers, wine, wines]\n",
      "events            [event, events, activity, activities, party, p...\n",
      "facilities                        [facilities, facility, equipment]\n",
      "gym                                                     [gym, gyms]\n",
      "internet                   [internet, wi fi, wifi, wi-fi, wireless]\n",
      "location          [location, locations, beach, beaches, environm...\n",
      "lunch             [lunch, lunches, afternoon meal, afternoon men...\n",
      "parking                                         [parking, parkings]\n",
      "pool              [pool, pools, swimming, swimming pool, swimmin...\n",
      "price             [price, prices, priced, pricing, budget, budge...\n",
      "restaurant                                [restaurant, restaurants]\n",
      "restrooms                    [restroom, restrooms, toilet, toilets]\n",
      "service           [service, serving, servings, attention, attent...\n",
      "shopping          [shopping, shop, shops, store, stores, boutiqu...\n",
      "spa                   [spa, spas, sauna, saunas, jacuzzi, jacuzzis]\n",
      "staff             [staff, worker, workers, bellhop, bellhops, bo...\n",
      "temperature                             [temperature, temperatures]\n",
      "transportation    [transport, transportation, transportations, b...\n",
      "Name: word, dtype: object\n"
     ]
    }
   ],
   "source": [
    "aspect_hotels_path = 'inputs/aspects/aspects_hotels.csv'\n",
    "\n",
    "def load_vocab(path):\n",
    "    vocab = pd.read_csv(path,names = [\"aspect\",\"word\"])\n",
    "    vocab = vocab.groupby('aspect')['word'].apply(list)\n",
    "    \n",
    "    return vocab\n",
    "\n",
    "aspect_hotels = load_vocab(aspect_hotels_path)\n",
    "print(aspect_hotels)"
   ]
  },
  {
   "cell_type": "code",
   "execution_count": 8,
   "id": "dcdd61d7",
   "metadata": {},
   "outputs": [
    {
     "data": {
      "text/plain": [
       "Index(['amenities', 'atmosphere', 'bar', 'bathrooms', 'bedrooms', 'booking',\n",
       "       'breakfast', 'building', 'checking', 'cleanliness', 'coffee', 'cuisine',\n",
       "       'dinner', 'drinks', 'events', 'facilities', 'gym', 'internet',\n",
       "       'location', 'lunch', 'parking', 'pool', 'price', 'restaurant',\n",
       "       'restrooms', 'service', 'shopping', 'spa', 'staff', 'temperature',\n",
       "       'transportation'],\n",
       "      dtype='object', name='aspect')"
      ]
     },
     "execution_count": 8,
     "metadata": {},
     "output_type": "execute_result"
    }
   ],
   "source": [
    "aspect_hotels.keys()"
   ]
  },
  {
   "cell_type": "code",
   "execution_count": 25,
   "id": "03e87059",
   "metadata": {},
   "outputs": [
    {
     "name": "stdout",
     "output_type": "stream",
     "text": [
      "amenities\n",
      "atmosphere\n",
      "bar\n",
      "bathrooms\n",
      "bedrooms\n",
      "booking\n",
      "breakfast\n",
      "building\n",
      "checking\n",
      "cleanliness\n",
      "coffee\n",
      "cuisine\n",
      "dinner\n",
      "drinks\n",
      "events\n",
      "facilities\n",
      "gym\n",
      "internet\n",
      "location\n",
      "lunch\n",
      "parking\n",
      "pool\n",
      "price\n",
      "restaurant\n",
      "restrooms\n",
      "service\n",
      "shopping\n",
      "spa\n",
      "staff\n",
      "temperature\n",
      "transportation\n"
     ]
    }
   ],
   "source": [
    "def expand_vocab(vocab):\n",
    "    for a in vocab.keys():\n",
    "        all_words = {}\n",
    "        all_words.add(vocab[a])\n",
    "    \n",
    "        print(a)\n",
    "        \n",
    "expand_vocab(aspect_hotels)\n",
    "    "
   ]
  },
  {
   "cell_type": "code",
   "execution_count": null,
   "id": "d063cfe4",
   "metadata": {},
   "outputs": [],
   "source": [
    "synsets = wn.synsets(words[0])\n",
    "for s in synsets:\n",
    "    print(s.name())\n",
    "    print('\\t', s.definition())\n",
    "    print('\\t', s.examples())\n",
    "    print('\\t', s.lemma_names())\n",
    "    print('\\tHyponyms:')\n",
    "    hyponyms = s.hyponyms()\n",
    "    for h in hyponyms:\n",
    "        print('\\t\\t', h.name(), ' => ', h.lemma_names())\n",
    "    print('\\tHyperyms:')\n",
    "    hypernyms = s.hypernyms()\n",
    "    for h in hypernyms:\n",
    "        print('\\t\\t', h.name(), ' => ', h.lemma_names())"
   ]
  },
  {
   "cell_type": "code",
   "execution_count": 24,
   "id": "1ff46117",
   "metadata": {},
   "outputs": [
    {
     "name": "stdout",
     "output_type": "stream",
     "text": [
      "['comforts', 'creature_comforts', 'amenities', 'conveniences', 'agreeableness', 'amenity']\n"
     ]
    }
   ],
   "source": [
    "def get_word_synonims(word):\n",
    "    syns = []\n",
    "    for syn in wn.synsets(word):\n",
    "        for l in syn.lemmas():\n",
    "            syns.append(l.name())\n",
    "    return syns\n",
    "    \n",
    "word = aspect_hotels[aspect_hotels.keys()[0]][1]\n",
    "\n",
    "print(get_word_synonims(word))"
   ]
  },
  {
   "cell_type": "code",
   "execution_count": null,
   "id": "b8a67728",
   "metadata": {},
   "outputs": [],
   "source": []
  }
 ],
 "metadata": {
  "kernelspec": {
   "display_name": "Python 3 (ipykernel)",
   "language": "python",
   "name": "python3"
  },
  "language_info": {
   "codemirror_mode": {
    "name": "ipython",
    "version": 3
   },
   "file_extension": ".py",
   "mimetype": "text/x-python",
   "name": "python",
   "nbconvert_exporter": "python",
   "pygments_lexer": "ipython3",
   "version": "3.10.1"
  }
 },
 "nbformat": 4,
 "nbformat_minor": 5
}
